{
 "cells": [
  {
   "cell_type": "code",
   "execution_count": 1,
   "metadata": {},
   "outputs": [],
   "source": [
    "import numpy as np\n",
    "import matplotlib.pyplot as plt\n",
    "import pandas as pd\n",
    "import seaborn as sns\n",
    "from datetime import datetime, timedelta\n",
    "from collections import OrderedDict\n",
    "from data_helpers import Covid\n",
    "from constants import *"
   ]
  },
  {
   "cell_type": "code",
   "execution_count": 2,
   "metadata": {},
   "outputs": [],
   "source": [
    "database = {'confirmed'   : 'Casos_Diarios_Estado_Nacional_Confirmados_20200526.csv',\n",
    "            'suspicious'  : 'Casos_Diarios_Estado_Nacional_Sospechosos_20200526.csv',\n",
    "            'negatives'   : 'Casos_Diarios_Estado_Nacional_Negativos_20200526.csv',\n",
    "            'deaths'      : 'Casos_Diarios_Estado_Nacional_Defunciones_20200526.csv',\n",
    "            'patients'    : '200526COVID19MEXICO.csv'}\n",
    "Covid.update_data(database)"
   ]
  },
  {
   "cell_type": "code",
   "execution_count": null,
   "metadata": {},
   "outputs": [],
   "source": [
    "nacional = Covid('all')"
   ]
  },
  {
   "cell_type": "code",
   "execution_count": null,
   "metadata": {},
   "outputs": [],
   "source": [
    "p = nacional.patients()"
   ]
  },
  {
   "cell_type": "code",
   "execution_count": null,
   "metadata": {},
   "outputs": [],
   "source": [
    "p.data"
   ]
  },
  {
   "cell_type": "code",
   "execution_count": null,
   "metadata": {},
   "outputs": [],
   "source": [
    "oaxaca = Covid('OAXACA')"
   ]
  },
  {
   "cell_type": "code",
   "execution_count": null,
   "metadata": {},
   "outputs": [],
   "source": [
    "Covid.plot_actives(oaxaca.actives(),'OACXACa',trim=40)"
   ]
  },
  {
   "cell_type": "code",
   "execution_count": null,
   "metadata": {},
   "outputs": [],
   "source": [
    "Covid.plot_max_to_min('actives',n=15,title=None, trim=60, include_national = False, max_to_min = True)"
   ]
  },
  {
   "cell_type": "code",
   "execution_count": null,
   "metadata": {},
   "outputs": [],
   "source": [
    "oax = oaxaca.patients()"
   ]
  },
  {
   "cell_type": "code",
   "execution_count": null,
   "metadata": {},
   "outputs": [],
   "source": [
    "oax.plot_sectors()"
   ]
  },
  {
   "cell_type": "code",
   "execution_count": null,
   "metadata": {},
   "outputs": [],
   "source": [
    "oax.data"
   ]
  },
  {
   "cell_type": "code",
   "execution_count": null,
   "metadata": {},
   "outputs": [],
   "source": [
    "oax.women().age(0,50).illness()"
   ]
  },
  {
   "cell_type": "code",
   "execution_count": null,
   "metadata": {},
   "outputs": [],
   "source": [
    "oax.data"
   ]
  },
  {
   "cell_type": "code",
   "execution_count": null,
   "metadata": {
    "scrolled": false
   },
   "outputs": [],
   "source": [
    "Covid('cdmx').patients().data['age'].plot(kind='hist',bins=60)"
   ]
  },
  {
   "cell_type": "code",
   "execution_count": null,
   "metadata": {},
   "outputs": [],
   "source": [
    "deaths = Covid('all').patients().deaths()\n",
    "alives = Covid('all').patients().alive()"
   ]
  },
  {
   "cell_type": "code",
   "execution_count": null,
   "metadata": {},
   "outputs": [],
   "source": [
    "a.data.keys()"
   ]
  },
  {
   "cell_type": "markdown",
   "metadata": {},
   "source": [
    "# Data for regressor:"
   ]
  },
  {
   "cell_type": "code",
   "execution_count": 173,
   "metadata": {},
   "outputs": [],
   "source": [
    "deaths = Covid('all').patients().deaths()\n",
    "alives = Covid('all').patients().alive()\n",
    "\n",
    "d = deaths.data\n",
    "al = alives.data"
   ]
  },
  {
   "cell_type": "code",
   "execution_count": 174,
   "metadata": {},
   "outputs": [
    {
     "name": "stderr",
     "output_type": "stream",
     "text": [
      "C:\\Users\\jupol\\AppData\\Local\\Continuum\\anaconda3\\envs\\tf2\\lib\\site-packages\\pandas\\core\\generic.py:6746: SettingWithCopyWarning: \n",
      "A value is trying to be set on a copy of a slice from a DataFrame\n",
      "\n",
      "See the caveats in the documentation: https://pandas.pydata.org/pandas-docs/stable/user_guide/indexing.html#returning-a-view-versus-a-copy\n",
      "  self._update_inplace(new_data)\n"
     ]
    }
   ],
   "source": [
    "\n",
    "d = d[['diabetes', 'copd', 'asthma',\n",
    "       'immunosuppression', 'hypertension',\n",
    "       'cardiovascular', 'obesity', 'kidney_disease',\n",
    "       'smoker','sex','age']]\n",
    "al = al[['diabetes', 'copd', 'asthma',\n",
    "       'immunosuppression', 'hypertension',\n",
    "       'cardiovascular', 'obesity', 'kidney_disease',\n",
    "       'smoker','sex','age']]\n",
    "\n",
    "d['sex'].replace(99,2,inplace=True)\n",
    "d['sex'].replace(1,0,inplace=True)\n",
    "d['sex'].replace(2,1,inplace=True)\n",
    "\n",
    "al['sex'].replace(99,2,inplace=True)\n",
    "al['sex'].replace(1,0,inplace=True)\n",
    "al['sex'].replace(2,1,inplace=True)\n",
    "\n",
    "al_normal = al['age']/max(al['age'])\n",
    "age_normal= d['age']/max(d['age'])\n",
    "d_sex = d['sex']\n",
    "al_sex = al['sex']"
   ]
  },
  {
   "cell_type": "code",
   "execution_count": 175,
   "metadata": {},
   "outputs": [],
   "source": [
    "d = d.drop(['age','sex'],axis=1)\n",
    "al = al.drop(['age','sex'],axis=1)\n",
    "d  = d.replace(97,2)\n",
    "d  = d.replace(98,2)\n",
    "d  = d.replace(99,2)\n",
    "d  = d.replace(2,0)\n",
    "\n",
    "al  = al.replace(97,2)\n",
    "al  = al.replace(98,2)\n",
    "al  = al.replace(99,2)\n",
    "al  = al.replace(2,0)\n",
    "\n",
    "d['age']=d_age\n",
    "d['sex']=d_sex\n",
    "\n",
    "al['age']=al_age\n",
    "al['sex']=al_sex"
   ]
  },
  {
   "cell_type": "code",
   "execution_count": 128,
   "metadata": {},
   "outputs": [],
   "source": [
    "al['y'] = [0]*len(al)\n",
    "d['y'] = [1]*len(d)\n",
    "\n",
    "X = pd.concat([al,d])\n",
    "y = X['y']\n",
    "X = X.drop('y',axis=1)"
   ]
  },
  {
   "cell_type": "code",
   "execution_count": 35,
   "metadata": {},
   "outputs": [],
   "source": [
    "from xgboost import XGBRegressor, XGBClassifier\n",
    "from xgboost import plot_importance\n",
    "from sklearn.model_selection import train_test_split, cross_val_score, KFold\n",
    "from sklearn.metrics import confusion_matrix"
   ]
  },
  {
   "cell_type": "code",
   "execution_count": 129,
   "metadata": {},
   "outputs": [],
   "source": [
    "X_train, X_test, y_train, y_test = train_test_split(X, y, test_size=0.33, random_state=42)"
   ]
  },
  {
   "cell_type": "code",
   "execution_count": 130,
   "metadata": {},
   "outputs": [
    {
     "name": "stdout",
     "output_type": "stream",
     "text": [
      "Feature: 0, Score: 0.15555\n",
      "Feature: 1, Score: 0.02726\n",
      "Feature: 2, Score: 0.02976\n",
      "Feature: 3, Score: 0.02282\n",
      "Feature: 4, Score: 0.02708\n",
      "Feature: 5, Score: 0.02488\n",
      "Feature: 6, Score: 0.08758\n",
      "Feature: 7, Score: 0.08717\n",
      "Feature: 8, Score: 0.02425\n",
      "Feature: 9, Score: 0.48697\n",
      "Feature: 10, Score: 0.02668\n"
     ]
    },
    {
     "data": {
      "image/png": "[encoded data removed]",
      "text/plain": [
       "<Figure size 432x288 with 1 Axes>"
      ]
     },
     "metadata": {},
     "output_type": "display_data"
    }
   ],
   "source": [
    "XGBRe_model = XGBClassifier(base_score=0.89, booster='gbtree', colsample_bylevel=1,\n",
    "              colsample_bynode=1, colsample_bytree=1, gamma=0.1,\n",
    "              learning_rate=0.1, max_delta_step=0, max_depth=30,\n",
    "              min_child_weight=1, missing=None, n_estimators=100, n_jobs=1,\n",
    "              nthread=2, objective='binary:logistic', random_state=0,\n",
    "              reg_alpha=0, reg_lambda=1, scale_pos_weight=1, seed=None,\n",
    "              silent=None, subsample=1, verbosity=1)\n",
    "# fit the model\n",
    "XGBRe_model.fit(X_train, y_train)\n",
    "# get importance\n",
    "importance = XGBRe_model.feature_importances_\n",
    "## summarize feature importance\n",
    "for i,v in enumerate(importance):\n",
    "    print('Feature: %0d, Score: %.5f' % (i,v))\n",
    "## plot feature importance\n",
    "plt.bar([x for x in range(len(importance))], importance)\n",
    "plt.xticks([x for x in range(len(importance))],X.keys(),rotation=90, fontsize=16)\n",
    "plt.show()"
   ]
  },
  {
   "cell_type": "code",
   "execution_count": 73,
   "metadata": {},
   "outputs": [
    {
     "name": "stdout",
     "output_type": "stream",
     "text": [
      "Mean cross-validation score: 1.00\n"
     ]
    }
   ],
   "source": [
    "scores = cross_val_score(XGBRe_model, X_train,y_train,cv=8)\n",
    "print(\"Mean cross-validation score: %.2f\" % scores.mean())"
   ]
  },
  {
   "cell_type": "code",
   "execution_count": 74,
   "metadata": {},
   "outputs": [
    {
     "name": "stdout",
     "output_type": "stream",
     "text": [
      "K-fold CV average score: 1.00\n"
     ]
    }
   ],
   "source": [
    "kfold = KFold(n_splits=10, shuffle=True)\n",
    "kf_cv_scores = cross_val_score(XGBRe_model,  X_train,y_train, cv=kfold )\n",
    "print(\"K-fold CV average score: %.2f\" % kf_cv_scores.mean())"
   ]
  },
  {
   "cell_type": "code",
   "execution_count": 78,
   "metadata": {},
   "outputs": [
    {
     "data": {
      "text/plain": [
       "0.8919731761837025"
      ]
     },
     "execution_count": 78,
     "metadata": {},
     "output_type": "execute_result"
    }
   ],
   "source": [
    "list(y_test).count(0)/len(y_test)"
   ]
  },
  {
   "cell_type": "code",
   "execution_count": 131,
   "metadata": {
    "scrolled": true
   },
   "outputs": [],
   "source": [
    "pred = XGBRe_model.predict(X_test)"
   ]
  },
  {
   "cell_type": "code",
   "execution_count": 132,
   "metadata": {},
   "outputs": [
    {
     "data": {
      "text/plain": [
       "array([[21939,     8],\n",
       "       [   34,  2624]], dtype=int64)"
      ]
     },
     "execution_count": 132,
     "metadata": {},
     "output_type": "execute_result"
    }
   ],
   "source": [
    "confusion_matrix(y_test,pred)"
   ]
  },
  {
   "cell_type": "markdown",
   "metadata": {},
   "source": [
    "## REGRESSor"
   ]
  },
  {
   "cell_type": "code",
   "execution_count": 133,
   "metadata": {},
   "outputs": [
    {
     "name": "stdout",
     "output_type": "stream",
     "text": [
      "Feature: 0, Score: 0.15555\n",
      "Feature: 1, Score: 0.02726\n",
      "Feature: 2, Score: 0.02976\n",
      "Feature: 3, Score: 0.02282\n",
      "Feature: 4, Score: 0.02708\n",
      "Feature: 5, Score: 0.02488\n",
      "Feature: 6, Score: 0.08758\n",
      "Feature: 7, Score: 0.08717\n",
      "Feature: 8, Score: 0.02425\n",
      "Feature: 9, Score: 0.48697\n",
      "Feature: 10, Score: 0.02668\n"
     ]
    },
    {
     "data": {
      "image/png": "[encoded data removed]",
      "text/plain": [
       "<Figure size 432x288 with 1 Axes>"
      ]
     },
     "metadata": {},
     "output_type": "display_data"
    }
   ],
   "source": [
    "XGBreg_model = XGBRegressor(base_score=0.89, booster='gbtree', colsample_bylevel=1,\n",
    "              colsample_bynode=1, colsample_bytree=1, gamma=0.1,\n",
    "              learning_rate=0.1, max_delta_step=0, max_depth=30,\n",
    "              min_child_weight=1, missing=None, n_estimators=100, n_jobs=1,\n",
    "              nthread=2, objective='binary:logistic', random_state=0,\n",
    "              reg_alpha=0, reg_lambda=1, scale_pos_weight=1, seed=None,\n",
    "              silent=None, subsample=1, verbosity=1)\n",
    "# fit the model\n",
    "XGBreg_model.fit(X_train, y_train)\n",
    "# get importance\n",
    "importance = XGBreg_model.feature_importances_\n",
    "## summarize feature importance\n",
    "for i,v in enumerate(importance):\n",
    "    print('Feature: %0d, Score: %.5f' % (i,v))\n",
    "## plot feature importance\n",
    "plt.bar([x for x in range(len(importance))], importance)\n",
    "plt.xticks([x for x in range(len(importance))],X.keys(),rotation=90, fontsize=16)\n",
    "plt.show()"
   ]
  },
  {
   "cell_type": "code",
   "execution_count": 134,
   "metadata": {},
   "outputs": [],
   "source": [
    "reg_pred = XGBreg_model.predict(X_test)"
   ]
  },
  {
   "cell_type": "code",
   "execution_count": 108,
   "metadata": {},
   "outputs": [
    {
     "data": {
      "text/plain": [
       "2632"
      ]
     },
     "execution_count": 108,
     "metadata": {},
     "output_type": "execute_result"
    }
   ],
   "source": [
    "len([x for x in reg_pred if x >0.5])"
   ]
  },
  {
   "cell_type": "code",
   "execution_count": 111,
   "metadata": {},
   "outputs": [],
   "source": [
    "positive_y = [x for x in y_test if x == 1]"
   ]
  },
  {
   "cell_type": "code",
   "execution_count": 120,
   "metadata": {},
   "outputs": [
    {
     "data": {
      "text/plain": [
       "49185"
      ]
     },
     "execution_count": 120,
     "metadata": {},
     "output_type": "execute_result"
    }
   ],
   "source": [
    "list(X_train.immunosuppression).count(1)"
   ]
  },
  {
   "cell_type": "code",
   "execution_count": null,
   "metadata": {},
   "outputs": [],
   "source": []
  },
  {
   "cell_type": "code",
   "execution_count": 33,
   "metadata": {},
   "outputs": [
    {
     "data": {
      "text/plain": [
       "2658"
      ]
     },
     "execution_count": 33,
     "metadata": {},
     "output_type": "execute_result"
    }
   ],
   "source": [
    "list(y_test).count(1)"
   ]
  },
  {
   "cell_type": "code",
   "execution_count": null,
   "metadata": {},
   "outputs": [],
   "source": []
  },
  {
   "cell_type": "code",
   "execution_count": null,
   "metadata": {},
   "outputs": [],
   "source": [
    "r  = r.replace(97,2)\n",
    "r  = r.replace(98,2)\n",
    "r  = r.replace(99,2)\n",
    "r  = r.replace(1,0)\n",
    "r  = r.replace(2,1)\n",
    "r"
   ]
  },
  {
   "cell_type": "code",
   "execution_count": null,
   "metadata": {},
   "outputs": [],
   "source": [
    "r['age']=age\n",
    "r['sex']=sex"
   ]
  },
  {
   "cell_type": "code",
   "execution_count": null,
   "metadata": {},
   "outputs": [],
   "source": [
    "r"
   ]
  },
  {
   "cell_type": "code",
   "execution_count": null,
   "metadata": {},
   "outputs": [],
   "source": [
    "d = d[['pneumonia','diabetes', 'copd', 'asthma','intubated',\n",
    "                               'immunosuppression', 'hypertension',\n",
    "                               'cardiovascular', 'obesity', 'kidney_disease',\n",
    "                               'smoker','sex','age']]\n",
    "d['sex']= d['sex'].replace(99,2)\n",
    "d['sex']= d['sex'].replace(1,0)\n",
    "d['sex']= d['sex'].replace(2,1)\n",
    "d['age'] = d['age']/max(d['age'])\n",
    "d_age = d['age']\n",
    "d_sex = d['sex']\n",
    "\n",
    "al = al[['pneumonia','diabetes', 'copd', 'asthma','intubated',\n",
    "                               'immunosuppression', 'hypertension',\n",
    "                               'cardiovascular', 'obesity', 'kidney_disease',\n",
    "                               'smoker','sex','age']]\n",
    "al['sex']= al['sex'].replace(99,2)\n",
    "al['sex']= al['sex'].replace(1,0)\n",
    "al['sex']= al['sex'].replace(2,1)\n",
    "al['age'] = al['age']/max(al['age'])\n",
    "al_age = al['age']\n",
    "al_sex = al['sex']\n",
    "\n",
    "d = d.drop(['age','sex'],axis=1)\n",
    "al = al.drop(['age','sex'],axis=1)"
   ]
  },
  {
   "cell_type": "code",
   "execution_count": null,
   "metadata": {},
   "outputs": [],
   "source": []
  },
  {
   "cell_type": "code",
   "execution_count": null,
   "metadata": {},
   "outputs": [],
   "source": []
  },
  {
   "cell_type": "code",
   "execution_count": null,
   "metadata": {},
   "outputs": [],
   "source": [
    "al"
   ]
  },
  {
   "cell_type": "code",
   "execution_count": null,
   "metadata": {},
   "outputs": [],
   "source": [
    "d =d['sex'].replace(99,2)\n",
    "al = al['sex'].replace(99,2)"
   ]
  },
  {
   "cell_type": "code",
   "execution_count": null,
   "metadata": {},
   "outputs": [],
   "source": [
    "r"
   ]
  },
  {
   "cell_type": "code",
   "execution_count": null,
   "metadata": {},
   "outputs": [],
   "source": [
    "r = r['sex'].replace(1,0)\n",
    "r = r['sex'].replace(2,1)\n",
    "r = r['age']/max(r['age'])\n"
   ]
  },
  {
   "cell_type": "code",
   "execution_count": null,
   "metadata": {},
   "outputs": [],
   "source": [
    "patient_data_keys('sex')"
   ]
  },
  {
   "cell_type": "code",
   "execution_count": null,
   "metadata": {},
   "outputs": [],
   "source": []
  },
  {
   "cell_type": "code",
   "execution_count": null,
   "metadata": {},
   "outputs": [],
   "source": [
    "Covid('all').patients().deaths().plot_sectors()"
   ]
  },
  {
   "cell_type": "code",
   "execution_count": null,
   "metadata": {},
   "outputs": [],
   "source": [
    "sector_bins = {key:list(oax.data['sector']).count(key) for key in set(oax.data['sector'])}\n",
    "ordered = OrderedDict(sorted(sector_bins.items(), key=lambda t: t[1],reverse=True))\n",
    "top = list(ordered.keys())[:2]\n",
    "others= list(ordered.keys())[2:]"
   ]
  },
  {
   "cell_type": "code",
   "execution_count": null,
   "metadata": {},
   "outputs": [],
   "source": [
    "ordered"
   ]
  },
  {
   "cell_type": "code",
   "execution_count": null,
   "metadata": {},
   "outputs": [],
   "source": []
  },
  {
   "cell_type": "code",
   "execution_count": null,
   "metadata": {},
   "outputs": [],
   "source": []
  },
  {
   "cell_type": "code",
   "execution_count": null,
   "metadata": {},
   "outputs": [],
   "source": []
  },
  {
   "cell_type": "code",
   "execution_count": null,
   "metadata": {},
   "outputs": [],
   "source": [
    "plt.close('all')\n",
    "plt.rcParams[\"figure.figsize\"] = (15,7)\n",
    "\n",
    "sector_bins = {key:list(oax.data['sector']).count(key) for key in set(oax.data['sector'])}\n",
    "ordered = OrderedDict(sorted(sector_bins.items(), key=lambda t: t[1],reverse=True))\n",
    "top = list(ordered.keys())[:2]\n",
    "others= list(ordered.keys())[2:]\n",
    "\n",
    "\n",
    "fig, axs = plt.subplots(2)\n",
    "plt.subplots_adjust(left=None, bottom=None, right=None, top=None, wspace=2.5, hspace=0.6)\n",
    "\n",
    "axs[0].bar([patient_data_keys('sector',x) for x in top],[sector_bins[x] for x in top])\n",
    "axs[0].text(patient_data_keys('sector',top[0]), sector_bins[top[0]] + 150, str(round((sector_bins[top[0]]/len(oax.data['sector'])*100),2))+'%', color='black',fontsize=20)\n",
    "axs[0].text(patient_data_keys('sector',top[1]), sector_bins[top[1]] + 150, str(round((sector_bins[top[1]]/len(oax.data['sector'])*100),2))+'%', color='black',fontsize=20)\n",
    "axs[0].set_title('Sectors with more patients',fontsize=20)\n",
    "axs[0].set_ylim(0,(max(sector_bins[top[0]],sector_bins[top[1]])+ 1000))\n",
    "axs[0].set_ylabel('Number of Patients', fontsize=18)\n",
    "\n",
    "axs[1].bar([patient_data_keys('sector',x) for x in others],[sector_bins[x] for x in others])\n",
    "axs[1].set_title('Other sectors',fontsize=20)\n",
    "axs[1].set_ylabel('Number of Patients', fontsize=18)\n",
    "\n",
    "for sector in others:\n",
    "    axs[1].text(patient_data_keys('sector',sector), sector_bins[sector] + 10, str(round((sector_bins[sector]/len(oax.data['sector'])*100),2))+'%', color='black',fontsize=16)\n",
    "\n",
    "\n",
    "for ax in fig.axes:\n",
    "    plt.sca(ax)\n",
    "    plt.xticks(rotation=90,fontsize=16)\n",
    "\n",
    "plt.show()"
   ]
  },
  {
   "cell_type": "code",
   "execution_count": null,
   "metadata": {},
   "outputs": [],
   "source": [
    "sector_bins = {key:list(oax.data['sector']).count(key) for key in set(oax.data['sector'])}\n",
    "\n",
    "fig, axs = plt.subplots(2)\n",
    "\n",
    "plt.close('all')\n",
    "plt.rcParams[\"figure.figsize\"] = (15,7)\n",
    "\n",
    "axs[1].bar(['IMSS','SSA'],[sector_bins[4],sector_bins[12]])\n",
    "axs[1].text('IMSS', sector_bins[4] + 15, str(round((sector_bins[4]/len(oax.data['sector'])*100),2))+'%', color='black',fontsize=20)\n",
    "axs[1].text('SSA', sector_bins[12] + 15, str(round((sector_bins[12]/len(oax.data['sector'])*100),2))+'%', color='black',fontsize=20)\n",
    "axs[1].set_title('Sectors with more patients',fontsize=25)\n",
    "axs[1].set_ylabel('Number of Patients', fontsize=18)\n",
    "\n",
    "plt.show()"
   ]
  },
  {
   "cell_type": "code",
   "execution_count": null,
   "metadata": {},
   "outputs": [],
   "source": []
  },
  {
   "cell_type": "code",
   "execution_count": null,
   "metadata": {},
   "outputs": [],
   "source": [
    "fig,a =  plt.subplots(2,2)\n",
    "import numpy as np\n",
    "x = np.arange(1,5)\n",
    "a[0][0].plot(x,x*x)\n",
    "a[0][0].set_title('square')\n",
    "a[0][1].plot(x,np.sqrt(x))\n",
    "a[0][1].set_title('square root')\n",
    "a[1][0].plot(x,np.exp(x))\n",
    "a[1][0].set_title('exp')\n",
    "a[1][1].plot(x,np.log10(x))\n",
    "a[1][1].set_title('log')\n",
    "plt.show()"
   ]
  },
  {
   "cell_type": "code",
   "execution_count": null,
   "metadata": {},
   "outputs": [],
   "source": []
  },
  {
   "cell_type": "code",
   "execution_count": null,
   "metadata": {},
   "outputs": [],
   "source": []
  },
  {
   "cell_type": "code",
   "execution_count": null,
   "metadata": {},
   "outputs": [],
   "source": []
  },
  {
   "cell_type": "code",
   "execution_count": null,
   "metadata": {},
   "outputs": [],
   "source": []
  },
  {
   "cell_type": "code",
   "execution_count": null,
   "metadata": {},
   "outputs": [],
   "source": [
    "e = oaxaca.patients()\n",
    "e.state"
   ]
  },
  {
   "cell_type": "code",
   "execution_count": null,
   "metadata": {},
   "outputs": [],
   "source": [
    "e.state_code"
   ]
  },
  {
   "cell_type": "code",
   "execution_count": null,
   "metadata": {},
   "outputs": [],
   "source": [
    "e.data"
   ]
  },
  {
   "cell_type": "code",
   "execution_count": null,
   "metadata": {},
   "outputs": [],
   "source": [
    "e.women()"
   ]
  },
  {
   "cell_type": "code",
   "execution_count": null,
   "metadata": {},
   "outputs": [],
   "source": [
    "oaxaca_women = oaxaca.patients().women()\n",
    "#oaxaca_men = oaxaca.patients().men().deaths().age(0,45)"
   ]
  },
  {
   "cell_type": "code",
   "execution_count": null,
   "metadata": {
    "scrolled": false
   },
   "outputs": [],
   "source": [
    "oaxaca_women.describe()"
   ]
  },
  {
   "cell_type": "code",
   "execution_count": null,
   "metadata": {},
   "outputs": [],
   "source": [
    "oaxaca_women.data.keys()"
   ]
  },
  {
   "cell_type": "code",
   "execution_count": null,
   "metadata": {},
   "outputs": [],
   "source": [
    "oaxaca_women.data"
   ]
  },
  {
   "cell_type": "code",
   "execution_count": null,
   "metadata": {},
   "outputs": [],
   "source": [
    "patient_data_keys('sector')"
   ]
  },
  {
   "cell_type": "code",
   "execution_count": null,
   "metadata": {},
   "outputs": [],
   "source": [
    "oaxaca.women().deaths()"
   ]
  },
  {
   "cell_type": "code",
   "execution_count": null,
   "metadata": {},
   "outputs": [],
   "source": [
    "a = oaxaca.patients()"
   ]
  },
  {
   "cell_type": "code",
   "execution_count": null,
   "metadata": {},
   "outputs": [],
   "source": [
    "sector_bins = {key:list(a.data['sector']).count(key) for key in set(a.data['sector'])}"
   ]
  },
  {
   "cell_type": "code",
   "execution_count": null,
   "metadata": {},
   "outputs": [],
   "source": [
    "# MAKE THIS TWOI PLOTS WITH THE OPTHER WITH THE REST\n",
    "\n",
    "plt.close('all')\n",
    "plt.rcParams[\"figure.figsize\"] = (15,7)\n",
    "plt.bar(['IMSS','SSA'],[sector_bins[4],sector_bins[12]])\n",
    "plt.text('IMSS', sector_bins[4] + 15, str(round((sector_bins[4]/len(a.data['sector'])*100),2))+'%', color='black',fontsize=20)\n",
    "plt.text('SSA', sector_bins[12] + 15, str(round((sector_bins[12]/len(a.data['sector'])*100),2))+'%', color='black',fontsize=20)\n",
    "\n",
    "plt.title('Sectors with more patients',fontsize=25)\n",
    "plt.ylabel('Number of Patients', fontsize=18)\n",
    "plt.xticks(fontsize=25, fontweight='bold')\n",
    "plt.show()"
   ]
  },
  {
   "cell_type": "code",
   "execution_count": null,
   "metadata": {},
   "outputs": [],
   "source": [
    "s20 = oaxaca.age(20,29)\n",
    "s20"
   ]
  },
  {
   "cell_type": "code",
   "execution_count": null,
   "metadata": {},
   "outputs": [],
   "source": [
    "s20.data.age"
   ]
  },
  {
   "cell_type": "code",
   "execution_count": null,
   "metadata": {},
   "outputs": [],
   "source": [
    "sub_data = Covid('TABASCO').patients()"
   ]
  },
  {
   "cell_type": "code",
   "execution_count": null,
   "metadata": {},
   "outputs": [],
   "source": [
    "sub_data.data.age"
   ]
  },
  {
   "cell_type": "code",
   "execution_count": null,
   "metadata": {},
   "outputs": [],
   "source": [
    "f = sub_data.data[(sub_data.data.age >= 20) & (sub_data.data.age <= 50)]"
   ]
  },
  {
   "cell_type": "code",
   "execution_count": null,
   "metadata": {},
   "outputs": [],
   "source": [
    "set(f.age)"
   ]
  },
  {
   "cell_type": "code",
   "execution_count": null,
   "metadata": {},
   "outputs": [],
   "source": [
    "sub_data.data = sub_data.data[sub_data.data['age'] in range(start,end)]"
   ]
  },
  {
   "cell_type": "code",
   "execution_count": null,
   "metadata": {},
   "outputs": [],
   "source": [
    "oax_men = oaxaca.men().data\n",
    "oax_women = oaxaca.women().data"
   ]
  },
  {
   "cell_type": "code",
   "execution_count": null,
   "metadata": {},
   "outputs": [],
   "source": [
    "oaxaca.data"
   ]
  },
  {
   "cell_type": "code",
   "execution_count": null,
   "metadata": {},
   "outputs": [],
   "source": [
    "oaxaca2 = oaxaca.women()"
   ]
  },
  {
   "cell_type": "code",
   "execution_count": null,
   "metadata": {},
   "outputs": [],
   "source": [
    "oaxaca.data"
   ]
  },
  {
   "cell_type": "code",
   "execution_count": null,
   "metadata": {},
   "outputs": [],
   "source": [
    "oaxaca2 = oaxaca.copy()"
   ]
  },
  {
   "cell_type": "code",
   "execution_count": null,
   "metadata": {},
   "outputs": [],
   "source": [
    "oaxaca2.women()"
   ]
  },
  {
   "cell_type": "code",
   "execution_count": null,
   "metadata": {},
   "outputs": [],
   "source": [
    "oaxaca2.data"
   ]
  },
  {
   "cell_type": "code",
   "execution_count": null,
   "metadata": {},
   "outputs": [],
   "source": [
    "oaxaca.data"
   ]
  },
  {
   "cell_type": "code",
   "execution_count": null,
   "metadata": {},
   "outputs": [],
   "source": [
    "patients_codes['sex']"
   ]
  },
  {
   "cell_type": "code",
   "execution_count": null,
   "metadata": {},
   "outputs": [],
   "source": [
    "oaxaca.women().deaths()"
   ]
  },
  {
   "cell_type": "code",
   "execution_count": null,
   "metadata": {},
   "outputs": [],
   "source": [
    "oaxaca.data"
   ]
  },
  {
   "cell_type": "code",
   "execution_count": null,
   "metadata": {},
   "outputs": [],
   "source": [
    "a.deaths()"
   ]
  },
  {
   "cell_type": "code",
   "execution_count": null,
   "metadata": {},
   "outputs": [],
   "source": [
    "nacional.patients.something"
   ]
  },
  {
   "cell_type": "code",
   "execution_count": null,
   "metadata": {},
   "outputs": [],
   "source": [
    "nacional.state"
   ]
  },
  {
   "cell_type": "code",
   "execution_count": null,
   "metadata": {},
   "outputs": [],
   "source": [
    "nacional.population()"
   ]
  },
  {
   "cell_type": "code",
   "execution_count": null,
   "metadata": {},
   "outputs": [],
   "source": [
    "a = pd.read_csv(Covid.database['patients'],encoding='ANSI')"
   ]
  },
  {
   "cell_type": "code",
   "execution_count": null,
   "metadata": {
    "scrolled": false
   },
   "outputs": [],
   "source": [
    "a = change_df_names(a)\n",
    "a"
   ]
  },
  {
   "cell_type": "code",
   "execution_count": null,
   "metadata": {},
   "outputs": [],
   "source": [
    "oaxaca.patients()"
   ]
  },
  {
   "cell_type": "code",
   "execution_count": null,
   "metadata": {},
   "outputs": [],
   "source": []
  },
  {
   "cell_type": "code",
   "execution_count": null,
   "metadata": {},
   "outputs": [],
   "source": [
    "tabasco = Covid('TABASCO')\n",
    "oaxaca = Covid('OAXACA')\n",
    "chiapas  = Covid('CHIAPAS')\n",
    "yucatan = Covid('YUCATAN')"
   ]
  },
  {
   "cell_type": "code",
   "execution_count": null,
   "metadata": {},
   "outputs": [],
   "source": [
    "Covid.plt_actives([oaxaca.actives(),tabasco.actives(),chiapas.actives(),yucatan.actives()],['oaxaca','tabasco','chiapas','yucatan'],trim=60)"
   ]
  },
  {
   "cell_type": "code",
   "execution_count": null,
   "metadata": {},
   "outputs": [],
   "source": []
  },
  {
   "cell_type": "code",
   "execution_count": null,
   "metadata": {},
   "outputs": [],
   "source": [
    "Covid.plot_max_to_min('deaths',n=11, trim=60,include_national = False, max_to_min = True)"
   ]
  },
  {
   "cell_type": "code",
   "execution_count": null,
   "metadata": {},
   "outputs": [],
   "source": [
    "names = ['OAXACA','TABASCO','JALISCO']\n",
    "\n",
    "data = {key:Covid(key).cummulative('deaths') for key in names}"
   ]
  },
  {
   "cell_type": "code",
   "execution_count": null,
   "metadata": {},
   "outputs": [],
   "source": [
    "data.keys()"
   ]
  },
  {
   "cell_type": "code",
   "execution_count": null,
   "metadata": {},
   "outputs": [],
   "source": [
    "\n",
    "data = OrderedDict(sorted(data.items(), key=lambda t: t[1][-1],reverse=True))\n",
    "names = list(data.keys())"
   ]
  },
  {
   "cell_type": "code",
   "execution_count": null,
   "metadata": {},
   "outputs": [],
   "source": [
    "data.keys()"
   ]
  },
  {
   "cell_type": "code",
   "execution_count": null,
   "metadata": {},
   "outputs": [],
   "source": [
    "data['OAXACA'][-1]"
   ]
  },
  {
   "cell_type": "code",
   "execution_count": null,
   "metadata": {},
   "outputs": [],
   "source": [
    "len(pd.read_csv(Covid.database['confirmed']).columns)"
   ]
  },
  {
   "cell_type": "code",
   "execution_count": null,
   "metadata": {},
   "outputs": [],
   "source": [
    "len(pd.read_csv(Covid.database['suspicious']).columns)"
   ]
  },
  {
   "cell_type": "code",
   "execution_count": null,
   "metadata": {},
   "outputs": [],
   "source": [
    "len(pd.read_csv(Covid.database['deaths']).columns)"
   ]
  },
  {
   "cell_type": "code",
   "execution_count": null,
   "metadata": {},
   "outputs": [],
   "source": [
    "len(pd.read_csv(Covid.database['negatives']).columns)"
   ]
  },
  {
   "cell_type": "code",
   "execution_count": null,
   "metadata": {},
   "outputs": [],
   "source": []
  },
  {
   "cell_type": "code",
   "execution_count": null,
   "metadata": {},
   "outputs": [],
   "source": [
    "index = pd.date_range(start=pd.to_datetime(pd.read_csv(Covid.database['confirmed']).columns[-1]) - timedelta(days=len(oaxaca.cummulative('deaths'))),periods = len(oaxaca.cummulative('deaths')),freq='D')"
   ]
  },
  {
   "cell_type": "code",
   "execution_count": null,
   "metadata": {},
   "outputs": [],
   "source": [
    "index[-1]"
   ]
  },
  {
   "cell_type": "code",
   "execution_count": null,
   "metadata": {},
   "outputs": [],
   "source": []
  },
  {
   "cell_type": "code",
   "execution_count": null,
   "metadata": {},
   "outputs": [],
   "source": [
    "def plot_cummulative(data, names = None, title = None, trim=None):\n",
    "    plt.close('all')\n",
    "    plt.rcParams[\"figure.figsize\"] = (15,7)\n",
    "    \n",
    "    if type(data[0]) == int:\n",
    "        index = pd.date_range(start=pd.to_datetime(pd.read_csv(Covid.database['confirmed']).columns[-1]) - timedelta(days=len(data)),periods = len(data),freq='D')\n",
    "        plt.plot(index, data, label = names, alpha = 0.6)\n",
    "        plt.scatter(index[-1],data[-1])\n",
    "        plt.text(index[-1], data[-1],str(int(data[-1])) , fontsize=14)\n",
    "    else:\n",
    "        \n",
    "        max_len = max([len(x) for x in data])\n",
    "        last_day = pd.read_csv(Covid.database['confirmed']).columns[-1]\n",
    "        index = pd.date_range(start=pd.to_datetime(pd.read_csv(Covid.database['confirmed']).columns[-1]) - timedelta(days=max_len),\n",
    "                              periods=max_len, freq='D')\n",
    "        \n",
    "        for ind,i in enumerate(data):\n",
    "            if len(i) != max_len:\n",
    "                i = [0]*(max_len-len(i))+i\n",
    "\n",
    "            plt.plot(index,i,label=names[ind])\n",
    "            plt.scatter(index[-1],i[-1])\n",
    "            plt.text(index[-1], i[-1],str(int(i[-1])) , fontsize=14)\n",
    "            \n",
    "\n",
    "    plt.xticks(rotation=90,fontsize=13)\n",
    "    plt.title(title, fontsize=14)\n",
    "    \n",
    "    if trim:\n",
    "        plt.xlim(index[0] + timedelta(days=trim),)\n",
    "        \n",
    "    plt.legend(loc='upper left',fontsize=14)\n",
    "    plt.show()"
   ]
  },
  {
   "cell_type": "code",
   "execution_count": null,
   "metadata": {},
   "outputs": [],
   "source": [
    "type(oaxaca.cummulative('deaths')[0])"
   ]
  },
  {
   "cell_type": "code",
   "execution_count": null,
   "metadata": {},
   "outputs": [],
   "source": [
    "plot_cummulative([oaxaca.cummulative('deaths'),tabasco.cummulative('deaths'),chiapas.cummulative('deaths')], names = ['Buajaca','Tabaschcoc','SHiapss'], title = 'Popopo', trim=40)"
   ]
  },
  {
   "cell_type": "code",
   "execution_count": null,
   "metadata": {},
   "outputs": [],
   "source": [
    "def plot_discrete(data, names = None, title=None, trim=None):\n",
    "    plt.close('all')\n",
    "    plt.rcParams[\"figure.figsize\"] = (15,6)\n",
    "    \n",
    "    if type(data) == np.ndarray:\n",
    "        index = pd.date_range(start=pd.to_datetime(pd.read_csv(Covid.database['confirmed']).columns[-1]) - timedelta(days=len(data)),periods = len(data),freq='D')\n",
    "                \n",
    "        plt.bar(index,data, label = names, alpha = 0.6)\n",
    "        \n",
    "    else:\n",
    "        \n",
    "        max_len = max([len(x) for x in data])\n",
    "        index = pd.date_range(start=pd.to_datetime(pd.read_csv(Covid.database['confirmed']).columns[-1]) - timedelta(days=len(data)), periods=max_len, freq='D')\n",
    "\n",
    "        for ind, i in enumerate(data):\n",
    "            if len(i) < max_len:\n",
    "                i = [0]*(max_len-len(i))+list(i)\n",
    "\n",
    "            plt.bar(index,i, label = names[ind],alpha = 0.5)\n",
    "       \n",
    "    plt.title(title, fontsize=14)\n",
    "    plt.legend(loc='upper left',fontsize=12)\n",
    "    plt.xticks(rotation=90)\n",
    "    if trim:\n",
    "        plt.xlim(index[0] + timedelta(days=trim),)\n",
    "    plt.show()"
   ]
  },
  {
   "cell_type": "code",
   "execution_count": null,
   "metadata": {},
   "outputs": [],
   "source": [
    "type(oaxaca.discrete('confirmed'))"
   ]
  },
  {
   "cell_type": "code",
   "execution_count": null,
   "metadata": {},
   "outputs": [],
   "source": [
    "plot_discrete([oaxaca.cummulative('deaths'), chiapas.cummulative('deaths')],names= ['Oaxaca','Tabash'],title='Oaxaca plot',trim=20) "
   ]
  },
  {
   "cell_type": "code",
   "execution_count": null,
   "metadata": {},
   "outputs": [],
   "source": []
  }
 ],
 "metadata": {
  "kernelspec": {
   "display_name": "Python 3",
   "language": "python",
   "name": "python3"
  },
  "language_info": {
   "codemirror_mode": {
    "name": "ipython",
    "version": 3
   },
   "file_extension": ".py",
   "mimetype": "text/x-python",
   "name": "python",
   "nbconvert_exporter": "python",
   "pygments_lexer": "ipython3",
   "version": "3.7.5"
  }
 },
 "nbformat": 4,
 "nbformat_minor": 4
}
