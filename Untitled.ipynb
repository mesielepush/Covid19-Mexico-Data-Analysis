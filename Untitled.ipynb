{
 "cells": [
  {
   "cell_type": "markdown",
   "metadata": {},
   "source": [
    "#                       Mexico's COVID19 Data description and Analisys\n",
    "\n",
    "\n",
    "<img align=\"center\" src=\"https://i.imgur.com/ywPyXHY.png\">\n"
   ]
  },
  {
   "cell_type": "markdown",
   "metadata": {},
   "source": [
    "<a href = 'https://coronavirus.gob.mx/datos/#DownZCSV'>\n",
    "    <img align=\"center\" src=\"https://i.imgur.com/EgVX1r8.png\">\n",
    "</a>"
   ]
  },
  {
   "cell_type": "code",
   "execution_count": 1,
   "metadata": {},
   "outputs": [],
   "source": [
    "import numpy as np\n",
    "import matplotlib.pyplot as plt\n",
    "import pandas as pd\n",
    "import seaborn as snn\n",
    "from datetime import datetime, timedelta\n",
    "from collections import OrderedDict\n",
    "\n",
    "# Data helper modules\n",
    "from Covid_suite import Covid\n",
    "from constants import *"
   ]
  },
  {
   "cell_type": "code",
   "execution_count": 2,
   "metadata": {},
   "outputs": [],
   "source": [
    "database = {'confirmed'   : 'Casos_Diarios_Estado_Nacional_Confirmados_20200529.csv',\n",
    "            'suspicious'  : 'Casos_Diarios_Estado_Nacional_Sospechosos_20200529.csv',\n",
    "            'negatives'   : 'Casos_Diarios_Estado_Nacional_Negativos_20200529.csv',\n",
    "            'deaths'      : 'Casos_Diarios_Estado_Nacional_Defunciones_20200529.csv',\n",
    "            'patients'    : '200529COVID19MEXICO.csv'}\n",
    "Covid.update_data(database)"
   ]
  },
  {
   "cell_type": "code",
   "execution_count": null,
   "metadata": {},
   "outputs": [],
   "source": []
  },
  {
   "cell_type": "code",
   "execution_count": null,
   "metadata": {},
   "outputs": [],
   "source": []
  },
  {
   "cell_type": "code",
   "execution_count": null,
   "metadata": {},
   "outputs": [],
   "source": []
  },
  {
   "cell_type": "code",
   "execution_count": null,
   "metadata": {},
   "outputs": [],
   "source": []
  },
  {
   "cell_type": "code",
   "execution_count": null,
   "metadata": {},
   "outputs": [],
   "source": []
  },
  {
   "cell_type": "markdown",
   "metadata": {},
   "source": [
    "# Data for regressor:"
   ]
  },
  {
   "cell_type": "code",
   "execution_count": null,
   "metadata": {},
   "outputs": [],
   "source": [
    "Covid('all').patients().plot_illness()"
   ]
  },
  {
   "cell_type": "code",
   "execution_count": null,
   "metadata": {},
   "outputs": [],
   "source": [
    "data = Covid('all').patients().deaths().data"
   ]
  },
  {
   "cell_type": "code",
   "execution_count": null,
   "metadata": {},
   "outputs": [],
   "source": [
    "data = data.reset_index(drop=True)"
   ]
  },
  {
   "cell_type": "code",
   "execution_count": null,
   "metadata": {},
   "outputs": [],
   "source": [
    "data"
   ]
  },
  {
   "cell_type": "code",
   "execution_count": null,
   "metadata": {},
   "outputs": [],
   "source": [
    "result = {}\n",
    "for ind, i in enumerate(data['onset_symptoms']):\n",
    "    time = (pd.to_datetime(data.iloc[ind]['day_of_death']) - pd.to_datetime(i))\n",
    "    if int(str(time)[:-14]) < 0:\n",
    "        continue\n",
    "    if int(str(time)[:-14]) in result.keys():\n",
    "        result[int(str(time)[:-14])]+=1\n",
    "    else:\n",
    "        result[int(str(time)[:-14])]=1"
   ]
  },
  {
   "cell_type": "code",
   "execution_count": null,
   "metadata": {},
   "outputs": [],
   "source": [
    "plt.bar(sorted(result.keys()),[result[x] for x in sorted(result.keys())])\n",
    "plt.title('days from onset symptoms to death',fontsize=18)\n",
    "plt.ylabel(' number of patients',fontsize=16)\n",
    "plt.xlabel('Days',fontsize=16)\n",
    "plt.xlim(0,35)"
   ]
  },
  {
   "cell_type": "code",
   "execution_count": null,
   "metadata": {},
   "outputs": [],
   "source": [
    "sorted(result.keys())"
   ]
  },
  {
   "cell_type": "code",
   "execution_count": null,
   "metadata": {},
   "outputs": [],
   "source": [
    "pd.to_datetime()"
   ]
  },
  {
   "cell_type": "code",
   "execution_count": null,
   "metadata": {},
   "outputs": [],
   "source": [
    "aa"
   ]
  },
  {
   "cell_type": "code",
   "execution_count": null,
   "metadata": {},
   "outputs": [],
   "source": []
  },
  {
   "cell_type": "code",
   "execution_count": null,
   "metadata": {},
   "outputs": [],
   "source": [
    "from sklearn.pipeline import make_pipeline"
   ]
  },
  {
   "cell_type": "code",
   "execution_count": null,
   "metadata": {},
   "outputs": [],
   "source": [
    "Covid('all').patients().alive()"
   ]
  },
  {
   "cell_type": "code",
   "execution_count": null,
   "metadata": {},
   "outputs": [],
   "source": []
  },
  {
   "cell_type": "code",
   "execution_count": 5,
   "metadata": {},
   "outputs": [],
   "source": [
    "from xgboost import XGBRegressor, XGBClassifier\n",
    "from xgboost import plot_importance\n",
    "from sklearn.model_selection import train_test_split, cross_val_score, KFold\n",
    "from sklearn.metrics import confusion_matrix"
   ]
  },
  {
   "cell_type": "code",
   "execution_count": 3,
   "metadata": {},
   "outputs": [],
   "source": [
    "X_train, X_test, y_train, y_test= Covid.preprocess()"
   ]
  },
  {
   "cell_type": "code",
   "execution_count": 8,
   "metadata": {},
   "outputs": [],
   "source": [
    "from sklearn.metrics import roc_curve\n",
    "from sklearn.metrics import auc"
   ]
  },
  {
   "cell_type": "code",
   "execution_count": 6,
   "metadata": {},
   "outputs": [
    {
     "name": "stdout",
     "output_type": "stream",
     "text": [
      "Feature: 0, Score: 0.11511\n",
      "Feature: 1, Score: 0.07156\n",
      "Feature: 2, Score: 0.06566\n",
      "Feature: 3, Score: 0.07263\n",
      "Feature: 4, Score: 0.04195\n",
      "Feature: 5, Score: 0.07232\n",
      "Feature: 6, Score: 0.05482\n",
      "Feature: 7, Score: 0.12202\n",
      "Feature: 8, Score: 0.05246\n",
      "Feature: 9, Score: 0.16352\n",
      "Feature: 10, Score: 0.16794\n"
     ]
    },
    {
     "ename": "NameError",
     "evalue": "name 'X' is not defined",
     "output_type": "error",
     "traceback": [
      "\u001b[1;31m---------------------------------------------------------------------------\u001b[0m",
      "\u001b[1;31mNameError\u001b[0m                                 Traceback (most recent call last)",
      "\u001b[1;32m<ipython-input-6-90a73c794b39>\u001b[0m in \u001b[0;36m<module>\u001b[1;34m\u001b[0m\n\u001b[0;32m     15\u001b[0m \u001b[1;31m## plot feature importance\u001b[0m\u001b[1;33m\u001b[0m\u001b[1;33m\u001b[0m\u001b[1;33m\u001b[0m\u001b[0m\n\u001b[0;32m     16\u001b[0m \u001b[0mplt\u001b[0m\u001b[1;33m.\u001b[0m\u001b[0mbar\u001b[0m\u001b[1;33m(\u001b[0m\u001b[1;33m[\u001b[0m\u001b[0mx\u001b[0m \u001b[1;32mfor\u001b[0m \u001b[0mx\u001b[0m \u001b[1;32min\u001b[0m \u001b[0mrange\u001b[0m\u001b[1;33m(\u001b[0m\u001b[0mlen\u001b[0m\u001b[1;33m(\u001b[0m\u001b[0mimportance\u001b[0m\u001b[1;33m)\u001b[0m\u001b[1;33m)\u001b[0m\u001b[1;33m]\u001b[0m\u001b[1;33m,\u001b[0m \u001b[0mimportance\u001b[0m\u001b[1;33m)\u001b[0m\u001b[1;33m\u001b[0m\u001b[1;33m\u001b[0m\u001b[0m\n\u001b[1;32m---> 17\u001b[1;33m \u001b[0mplt\u001b[0m\u001b[1;33m.\u001b[0m\u001b[0mxticks\u001b[0m\u001b[1;33m(\u001b[0m\u001b[1;33m[\u001b[0m\u001b[0mx\u001b[0m \u001b[1;32mfor\u001b[0m \u001b[0mx\u001b[0m \u001b[1;32min\u001b[0m \u001b[0mrange\u001b[0m\u001b[1;33m(\u001b[0m\u001b[0mlen\u001b[0m\u001b[1;33m(\u001b[0m\u001b[0mimportance\u001b[0m\u001b[1;33m)\u001b[0m\u001b[1;33m)\u001b[0m\u001b[1;33m]\u001b[0m\u001b[1;33m,\u001b[0m\u001b[0mX\u001b[0m\u001b[1;33m.\u001b[0m\u001b[0mkeys\u001b[0m\u001b[1;33m(\u001b[0m\u001b[1;33m)\u001b[0m\u001b[1;33m,\u001b[0m\u001b[0mrotation\u001b[0m\u001b[1;33m=\u001b[0m\u001b[1;36m90\u001b[0m\u001b[1;33m,\u001b[0m \u001b[0mfontsize\u001b[0m\u001b[1;33m=\u001b[0m\u001b[1;36m16\u001b[0m\u001b[1;33m)\u001b[0m\u001b[1;33m\u001b[0m\u001b[1;33m\u001b[0m\u001b[0m\n\u001b[0m\u001b[0;32m     18\u001b[0m \u001b[0mplt\u001b[0m\u001b[1;33m.\u001b[0m\u001b[0mshow\u001b[0m\u001b[1;33m(\u001b[0m\u001b[1;33m)\u001b[0m\u001b[1;33m\u001b[0m\u001b[1;33m\u001b[0m\u001b[0m\n",
      "\u001b[1;31mNameError\u001b[0m: name 'X' is not defined"
     ]
    },
    {
     "data": {
      "image/png": "[encoded data removed]",
      "text/plain": [
       "<Figure size 432x288 with 1 Axes>"
      ]
     },
     "metadata": {},
     "output_type": "display_data"
    }
   ],
   "source": [
    "XGBRe_model = XGBClassifier(base_score=0.5, booster='gbtree', colsample_bylevel=1,\n",
    "              colsample_bynode=1, colsample_bytree=1, gamma=0,\n",
    "              learning_rate=0.1, max_delta_step=0, max_depth=20,\n",
    "              min_child_weight=1, missing=None, n_estimators=100, n_jobs=1,\n",
    "              nthread=2, objective='binary:logistic', random_state=0,\n",
    "              reg_alpha=0, reg_lambda=1, scale_pos_weight=1, seed=None,\n",
    "              silent=None, subsample=1, verbosity=1)\n",
    "# fit the model\n",
    "XGBRe_model.fit(X_train, y_train)\n",
    "# get importance\n",
    "importance = XGBRe_model.feature_importances_\n",
    "## summarize feature importance\n",
    "for i,v in enumerate(importance):\n",
    "    print('Feature: %0d, Score: %.5f' % (i,v))\n",
    "## plot feature importance\n",
    "plt.bar([x for x in range(len(importance))], importance)\n",
    "plt.xticks([x for x in range(len(importance))],X_train.keys(),rotation=90, fontsize=16)\n",
    "plt.show()"
   ]
  },
  {
   "cell_type": "code",
   "execution_count": 9,
   "metadata": {},
   "outputs": [],
   "source": [
    "reg_pred = XGBRe_model.predict(X_test)"
   ]
  },
  {
   "cell_type": "code",
   "execution_count": 35,
   "metadata": {},
   "outputs": [
    {
     "data": {
      "text/plain": [
       "array([0, 0, 0, ..., 0, 0, 0], dtype=int64)"
      ]
     },
     "execution_count": 35,
     "metadata": {},
     "output_type": "execute_result"
    }
   ],
   "source": [
    "reg_pred"
   ]
  },
  {
   "cell_type": "code",
   "execution_count": 10,
   "metadata": {},
   "outputs": [
    {
     "data": {
      "text/plain": [
       "array([[24381,   465],\n",
       "       [ 2863,   218]], dtype=int64)"
      ]
     },
     "execution_count": 10,
     "metadata": {},
     "output_type": "execute_result"
    }
   ],
   "source": [
    "confusion_matrix(y_test,reg_pred)"
   ]
  },
  {
   "cell_type": "code",
   "execution_count": 47,
   "metadata": {},
   "outputs": [],
   "source": [
    "model_probs = XGBRe_model.predict_proba(X_test)"
   ]
  },
  {
   "cell_type": "code",
   "execution_count": 38,
   "metadata": {},
   "outputs": [
    {
     "data": {
      "text/plain": [
       "(27927,)"
      ]
     },
     "execution_count": 38,
     "metadata": {},
     "output_type": "execute_result"
    }
   ],
   "source": [
    "lr_probs.shape"
   ]
  },
  {
   "cell_type": "code",
   "execution_count": 41,
   "metadata": {},
   "outputs": [],
   "source": [
    "s = lr_probs[:, 1]"
   ]
  },
  {
   "cell_type": "code",
   "execution_count": 46,
   "metadata": {},
   "outputs": [
    {
     "data": {
      "text/plain": [
       "array([0.7555567 , 0.24444331], dtype=float32)"
      ]
     },
     "execution_count": 46,
     "metadata": {},
     "output_type": "execute_result"
    }
   ],
   "source": [
    "lr_probs[0]"
   ]
  },
  {
   "cell_type": "code",
   "execution_count": 45,
   "metadata": {},
   "outputs": [
    {
     "data": {
      "text/plain": [
       "array([0.24444331, 0.00942261, 0.39938346, ..., 0.02294944, 0.01309954,\n",
       "       0.00194255], dtype=float32)"
      ]
     },
     "execution_count": 45,
     "metadata": {},
     "output_type": "execute_result"
    }
   ],
   "source": [
    "s"
   ]
  },
  {
   "cell_type": "code",
   "execution_count": 48,
   "metadata": {},
   "outputs": [],
   "source": [
    "null_probs = [0 for _ in range(len(y_test))]"
   ]
  },
  {
   "cell_type": "code",
   "execution_count": 18,
   "metadata": {},
   "outputs": [],
   "source": [
    "from sklearn.datasets import make_classification\n",
    "from sklearn.linear_model import LogisticRegression\n",
    "from sklearn.model_selection import train_test_split\n"
   ]
  },
  {
   "cell_type": "code",
   "execution_count": 49,
   "metadata": {},
   "outputs": [
    {
     "name": "stdout",
     "output_type": "stream",
     "text": [
      "No Skill: ROC AUC=0.500\n",
      "Model: ROC AUC=0.771\n"
     ]
    },
    {
     "data": {
      "image/png": "[encoded data removed]",
      "text/plain": [
       "<Figure size 432x288 with 1 Axes>"
      ]
     },
     "metadata": {},
     "output_type": "display_data"
    }
   ],
   "source": [
    "model_positive_probs = model_probs[:, 1]\n",
    "\n",
    "null_auc = roc_auc_score(y_test, null_probs)\n",
    "model_auc = roc_auc_score(y_test, model_positive_probs)\n",
    "\n",
    "print('No Skill: ROC AUC=%.3f' % (null_auc))\n",
    "print('Model: ROC AUC=%.3f' % (model_auc))\n",
    "\n",
    "null_fpr, null_tpr, _ = roc_curve(y_test, null_probs)\n",
    "model_fpr, model_tpr, _ = roc_curve(y_test, model_positive_probs)\n",
    "\n",
    "plt.plot(null_fpr, null_tpr, linestyle='--', label='No learning')\n",
    "plt.plot(lr_fpr, lr_tpr, marker='.', label='Model')\n",
    "\n",
    "plt.xlabel('False Positive Rate')\n",
    "plt.ylabel('True Positive Rate')\n",
    "\n",
    "plt.legend()\n",
    "\n",
    "plt.show()"
   ]
  },
  {
   "cell_type": "code",
   "execution_count": null,
   "metadata": {},
   "outputs": [],
   "source": []
  },
  {
   "cell_type": "code",
   "execution_count": null,
   "metadata": {},
   "outputs": [],
   "source": [
    "XGBRe_model.predict([dead[5]])"
   ]
  },
  {
   "cell_type": "code",
   "execution_count": null,
   "metadata": {},
   "outputs": [],
   "source": [
    "y_test[105]"
   ]
  },
  {
   "cell_type": "code",
   "execution_count": null,
   "metadata": {},
   "outputs": [],
   "source": [
    "X_test[105]"
   ]
  },
  {
   "cell_type": "code",
   "execution_count": null,
   "metadata": {},
   "outputs": [],
   "source": []
  },
  {
   "cell_type": "code",
   "execution_count": null,
   "metadata": {},
   "outputs": [],
   "source": []
  },
  {
   "cell_type": "code",
   "execution_count": null,
   "metadata": {},
   "outputs": [],
   "source": []
  },
  {
   "cell_type": "code",
   "execution_count": null,
   "metadata": {},
   "outputs": [],
   "source": []
  },
  {
   "cell_type": "code",
   "execution_count": null,
   "metadata": {},
   "outputs": [],
   "source": [
    "X_test.values"
   ]
  },
  {
   "cell_type": "code",
   "execution_count": null,
   "metadata": {},
   "outputs": [],
   "source": []
  },
  {
   "cell_type": "code",
   "execution_count": null,
   "metadata": {},
   "outputs": [],
   "source": [
    "list(y_test).count(0)"
   ]
  },
  {
   "cell_type": "code",
   "execution_count": null,
   "metadata": {},
   "outputs": [],
   "source": [
    "deaths"
   ]
  },
  {
   "cell_type": "code",
   "execution_count": null,
   "metadata": {
    "scrolled": true
   },
   "outputs": [],
   "source": [
    "a = XGBRe_model.predict(deaths)"
   ]
  },
  {
   "cell_type": "code",
   "execution_count": null,
   "metadata": {},
   "outputs": [],
   "source": [
    "list(a).count(1)"
   ]
  },
  {
   "cell_type": "code",
   "execution_count": null,
   "metadata": {},
   "outputs": [],
   "source": [
    "scores = cross_val_score(XGBRe_model, X_train,y_train,cv=8)\n",
    "print(\"Mean cross-validation score: %.2f\" % scores.mean())"
   ]
  },
  {
   "cell_type": "code",
   "execution_count": null,
   "metadata": {},
   "outputs": [],
   "source": [
    "kfold = KFold(n_splits=10, shuffle=True)\n",
    "kf_cv_scores = cross_val_score(XGBRe_model,  X_train,y_train, cv=kfold )\n",
    "print(\"K-fold CV average score: %.2f\" % kf_cv_scores.mean())"
   ]
  },
  {
   "cell_type": "code",
   "execution_count": null,
   "metadata": {},
   "outputs": [],
   "source": [
    "list(y_test).count(0)/len(y_test)"
   ]
  },
  {
   "cell_type": "code",
   "execution_count": null,
   "metadata": {
    "scrolled": true
   },
   "outputs": [],
   "source": [
    "pred = XGBRe_model.predict(X_test)"
   ]
  },
  {
   "cell_type": "code",
   "execution_count": null,
   "metadata": {},
   "outputs": [],
   "source": [
    "confusion_matrix(y_test,pred)"
   ]
  },
  {
   "cell_type": "markdown",
   "metadata": {},
   "source": [
    "## REGRESSor"
   ]
  },
  {
   "cell_type": "code",
   "execution_count": null,
   "metadata": {},
   "outputs": [],
   "source": [
    "from xgboost import plot_importance"
   ]
  },
  {
   "cell_type": "code",
   "execution_count": null,
   "metadata": {},
   "outputs": [],
   "source": [
    "plot_importance(XGBRe_model)\n",
    "plt.show()"
   ]
  },
  {
   "cell_type": "code",
   "execution_count": null,
   "metadata": {},
   "outputs": [],
   "source": [
    "XGBreg_model = XGBRegressor(base_score=0.89, booster='gbtree', colsample_bylevel=1,\n",
    "              colsample_bynode=1, colsample_bytree=1, gamma=0.1,\n",
    "              learning_rate=0.1, max_delta_step=0, max_depth=30,\n",
    "              min_child_weight=1, missing=None, n_estimators=100, n_jobs=1,\n",
    "              nthread=2, objective='binary:logistic', random_state=0,\n",
    "              reg_alpha=0, reg_lambda=1, scale_pos_weight=1, seed=None,\n",
    "              silent=None, subsample=1, verbosity=1)\n",
    "# fit the model\n",
    "XGBreg_model.fit(X_train, y_train)\n",
    "# get importance\n",
    "importance = XGBreg_model.feature_importances_\n",
    "## summarize feature importance\n",
    "for i,v in enumerate(importance):\n",
    "    print('Feature: %0d, Score: %.5f' % (i,v))\n",
    "## plot feature importance\n",
    "plt.bar([x for x in range(len(importance))], importance)\n",
    "plt.xticks([x for x in range(len(importance))],X.keys(),rotation=90, fontsize=16)\n",
    "plt.show()"
   ]
  },
  {
   "cell_type": "code",
   "execution_count": null,
   "metadata": {},
   "outputs": [],
   "source": [
    "from xgboost import plot_importance"
   ]
  },
  {
   "cell_type": "code",
   "execution_count": null,
   "metadata": {},
   "outputs": [],
   "source": [
    "reg_pred = XGBreg_model.predict(X_test)"
   ]
  },
  {
   "cell_type": "code",
   "execution_count": null,
   "metadata": {},
   "outputs": [],
   "source": [
    "len([x for x in list(reg_pred) if x>0.5])"
   ]
  },
  {
   "cell_type": "code",
   "execution_count": null,
   "metadata": {},
   "outputs": [],
   "source": [
    "list(y_test).count(1)"
   ]
  },
  {
   "cell_type": "code",
   "execution_count": null,
   "metadata": {},
   "outputs": [],
   "source": []
  },
  {
   "cell_type": "code",
   "execution_count": null,
   "metadata": {},
   "outputs": [],
   "source": []
  },
  {
   "cell_type": "code",
   "execution_count": null,
   "metadata": {},
   "outputs": [],
   "source": []
  },
  {
   "cell_type": "code",
   "execution_count": null,
   "metadata": {},
   "outputs": [],
   "source": [
    "def to_predict(data):\n",
    "    feature_codes = {\n",
    "        0: 'diabetes',\n",
    "        1:'copd',\n",
    "        2:'asthma',\n",
    "        3:'immunosuppression',\n",
    "        4:'hypertension',\n",
    "        5:'cardiovascular',\n",
    "        6:'obesity',\n",
    "        7:'kidney_disease',\n",
    "        8:'smoker',\n",
    "        9:'sex',\n",
    "        10:'age',\n",
    "        }\n",
    "    predict = {\n",
    "        'diabetes':[],\n",
    "         'copd':[],\n",
    "         'asthma':[],\n",
    "         'immunosuppression':[],\n",
    "         'hypertension':[],\n",
    "         'cardiovascular':[],\n",
    "         'obesity':[],\n",
    "         'kidney_disease':[],\n",
    "         'smoker':[],\n",
    "         'sex':[],\n",
    "         'age':[]\n",
    "        }\n",
    "    for instance, i in enumerate(data):\n",
    "        for ind,b in enumerate(i):\n",
    "            predict[feature_codes[ind]].append(b)\n",
    "    \n",
    "    return predict"
   ]
  },
  {
   "cell_type": "code",
   "execution_count": null,
   "metadata": {},
   "outputs": [],
   "source": [
    "dead = Xx[0].values"
   ]
  },
  {
   "cell_type": "code",
   "execution_count": null,
   "metadata": {},
   "outputs": [],
   "source": [
    "dead[0]"
   ]
  },
  {
   "cell_type": "code",
   "execution_count": null,
   "metadata": {},
   "outputs": [],
   "source": []
  },
  {
   "cell_type": "code",
   "execution_count": null,
   "metadata": {},
   "outputs": [],
   "source": [
    "pred2 = to_predict(Xx[0].values)"
   ]
  },
  {
   "cell_type": "code",
   "execution_count": null,
   "metadata": {},
   "outputs": [],
   "source": [
    "pred2"
   ]
  },
  {
   "cell_type": "code",
   "execution_count": null,
   "metadata": {},
   "outputs": [],
   "source": [
    "s = pd.DataFrame.from_dict(pred2)"
   ]
  },
  {
   "cell_type": "code",
   "execution_count": null,
   "metadata": {},
   "outputs": [],
   "source": [
    "len(s)"
   ]
  },
  {
   "cell_type": "code",
   "execution_count": null,
   "metadata": {},
   "outputs": [],
   "source": [
    "X_test"
   ]
  },
  {
   "cell_type": "code",
   "execution_count": null,
   "metadata": {},
   "outputs": [],
   "source": [
    "pred2 = XGBRe_model.predict(s)"
   ]
  },
  {
   "cell_type": "code",
   "execution_count": null,
   "metadata": {},
   "outputs": [],
   "source": [
    "confusion_matrix(pd.Series([0]*len(s)),pred2)"
   ]
  },
  {
   "cell_type": "code",
   "execution_count": null,
   "metadata": {},
   "outputs": [],
   "source": []
  },
  {
   "cell_type": "code",
   "execution_count": null,
   "metadata": {},
   "outputs": [],
   "source": []
  },
  {
   "cell_type": "code",
   "execution_count": null,
   "metadata": {},
   "outputs": [],
   "source": [
    "len([x for x in reg_pred if x >0.5])"
   ]
  },
  {
   "cell_type": "code",
   "execution_count": null,
   "metadata": {},
   "outputs": [],
   "source": [
    "positive_y = [x for x in y_test if x == 1]"
   ]
  },
  {
   "cell_type": "code",
   "execution_count": null,
   "metadata": {},
   "outputs": [],
   "source": [
    "list(X_train.immunosuppression).count(1)"
   ]
  },
  {
   "cell_type": "code",
   "execution_count": null,
   "metadata": {},
   "outputs": [],
   "source": [
    "pred2 = XGBRe_model.predict(new)"
   ]
  },
  {
   "cell_type": "code",
   "execution_count": null,
   "metadata": {},
   "outputs": [],
   "source": [
    "type(y_test)"
   ]
  },
  {
   "cell_type": "code",
   "execution_count": null,
   "metadata": {},
   "outputs": [],
   "source": [
    "confusion_matrix(pd.Series([1]*len(new)),pred2)"
   ]
  },
  {
   "cell_type": "code",
   "execution_count": null,
   "metadata": {},
   "outputs": [],
   "source": [
    "list(y_test).count(1)"
   ]
  },
  {
   "cell_type": "code",
   "execution_count": null,
   "metadata": {},
   "outputs": [],
   "source": [
    "e = Covid('all').patients().deaths()"
   ]
  },
  {
   "cell_type": "code",
   "execution_count": null,
   "metadata": {},
   "outputs": [],
   "source": [
    "er = e.data[['diabetes', 'copd', 'asthma',\n",
    "       'immunosuppression', 'hypertension',\n",
    "       'cardiovascular', 'obesity', 'kidney_disease',\n",
    "       'smoker','sex','age']]"
   ]
  },
  {
   "cell_type": "code",
   "execution_count": null,
   "metadata": {},
   "outputs": [],
   "source": [
    "er"
   ]
  },
  {
   "cell_type": "code",
   "execution_count": null,
   "metadata": {},
   "outputs": [],
   "source": [
    "q = XGBRe_model.predict(er)"
   ]
  },
  {
   "cell_type": "code",
   "execution_count": null,
   "metadata": {},
   "outputs": [],
   "source": [
    "confusion_matrix([1]*len(q),q)"
   ]
  },
  {
   "cell_type": "code",
   "execution_count": null,
   "metadata": {},
   "outputs": [],
   "source": []
  },
  {
   "cell_type": "code",
   "execution_count": null,
   "metadata": {},
   "outputs": [],
   "source": [
    "f"
   ]
  },
  {
   "cell_type": "code",
   "execution_count": null,
   "metadata": {},
   "outputs": [],
   "source": [
    "XGBreg_model.predict(f)"
   ]
  },
  {
   "cell_type": "code",
   "execution_count": null,
   "metadata": {},
   "outputs": [],
   "source": []
  },
  {
   "cell_type": "code",
   "execution_count": null,
   "metadata": {},
   "outputs": [],
   "source": [
    "X_test"
   ]
  },
  {
   "cell_type": "code",
   "execution_count": null,
   "metadata": {},
   "outputs": [],
   "source": [
    "all = Covid('all').patients()"
   ]
  },
  {
   "cell_type": "code",
   "execution_count": null,
   "metadata": {},
   "outputs": [],
   "source": [
    "max(all.data['age'])"
   ]
  },
  {
   "cell_type": "code",
   "execution_count": null,
   "metadata": {},
   "outputs": [],
   "source": [
    "r = Covid('all').patients().data"
   ]
  },
  {
   "cell_type": "code",
   "execution_count": null,
   "metadata": {},
   "outputs": [],
   "source": [
    "r.keys()"
   ]
  },
  {
   "cell_type": "code",
   "execution_count": null,
   "metadata": {},
   "outputs": [],
   "source": [
    "data = [Covid('all').patients().deaths().data]\n",
    "Xx = []\n",
    "\n",
    "for ind, base in enumerate(data):\n",
    "    base = base[['diabetes', 'copd', 'asthma',\n",
    "                'immunosuppression', 'hypertension',\n",
    "                'cardiovascular', 'obesity', 'kidney_disease',\n",
    "                'smoker','sex','age']]\n",
    "    base_sex = base['sex'].copy()\n",
    "    base_age = base['age'].copy()\n",
    "    base_age_normal = base_age/120\n",
    "    base_sex.replace(99,2,inplace=True)\n",
    "    base_sex.replace(1,0,inplace=True)\n",
    "    base_sex.replace(2,1,inplace=True)\n",
    "\n",
    "    base = base.replace([97,98,99],2)\n",
    "    base = base.replace(2,0)\n",
    "    base['sex']=base_sex\n",
    "    base['age']=base_age_normal\n",
    "    \n",
    "    Xx.append(base)\n"
   ]
  },
  {
   "cell_type": "code",
   "execution_count": null,
   "metadata": {},
   "outputs": [],
   "source": [
    "Xx[0]"
   ]
  },
  {
   "cell_type": "code",
   "execution_count": null,
   "metadata": {},
   "outputs": [],
   "source": [
    "feature_codes = {\n",
    "    0: 'diabetes',\n",
    "    1:'copd',\n",
    "    2:'asthma',\n",
    "    3:'immunosuppression',\n",
    "    4:'hypertension',\n",
    "    5:'cardiovascular',\n",
    "    6:'obesity',\n",
    "    7:'kidney_disease',\n",
    "    8:'smoker',\n",
    "    9:'sex',\n",
    "    10:'age',\n",
    "}"
   ]
  },
  {
   "cell_type": "code",
   "execution_count": null,
   "metadata": {},
   "outputs": [],
   "source": [
    "Xx[0]"
   ]
  },
  {
   "cell_type": "code",
   "execution_count": null,
   "metadata": {},
   "outputs": [],
   "source": [
    "deaths = Xx[0].drop('y',axis=1)"
   ]
  },
  {
   "cell_type": "code",
   "execution_count": null,
   "metadata": {},
   "outputs": [],
   "source": [
    "new = Xx[0].drop('y',axis=1)\n",
    "new"
   ]
  },
  {
   "cell_type": "code",
   "execution_count": null,
   "metadata": {},
   "outputs": [],
   "source": [
    "to_predict = {\n",
    "    'diabetes':[],\n",
    "     'copd':[],\n",
    "     'asthma':[],\n",
    "     'immunosuppression':[],\n",
    "     'hypertension':[],\n",
    "     'cardiovascular':[],\n",
    "     'obesity':[],\n",
    "     'kidney_disease':[],\n",
    "     'smoker':[],\n",
    "     'sex':[],\n",
    "     'age':[]\n",
    "}"
   ]
  },
  {
   "cell_type": "code",
   "execution_count": null,
   "metadata": {},
   "outputs": [],
   "source": [
    "f"
   ]
  },
  {
   "cell_type": "code",
   "execution_count": null,
   "metadata": {},
   "outputs": [],
   "source": []
  },
  {
   "cell_type": "code",
   "execution_count": null,
   "metadata": {},
   "outputs": [],
   "source": [
    "X_test.head()"
   ]
  },
  {
   "cell_type": "code",
   "execution_count": null,
   "metadata": {
    "scrolled": false
   },
   "outputs": [],
   "source": [
    "for instance, i in enumerate(X_test.values):\n",
    "    \n",
    "    for ind,b in enumerate(i):\n",
    "        f[code[ind]].append(b)\n",
    "            \n",
    "        "
   ]
  },
  {
   "cell_type": "code",
   "execution_count": null,
   "metadata": {
    "scrolled": true
   },
   "outputs": [],
   "source": [
    "f"
   ]
  },
  {
   "cell_type": "code",
   "execution_count": null,
   "metadata": {},
   "outputs": [],
   "source": [
    "f = pd.DataFrame.from_dict(f)"
   ]
  },
  {
   "cell_type": "code",
   "execution_count": null,
   "metadata": {},
   "outputs": [],
   "source": [
    "f"
   ]
  },
  {
   "cell_type": "code",
   "execution_count": null,
   "metadata": {},
   "outputs": [],
   "source": [
    "r = XGBRe_model.predict(f)"
   ]
  },
  {
   "cell_type": "code",
   "execution_count": null,
   "metadata": {},
   "outputs": [],
   "source": [
    "confusion_matrix(y_test,r)"
   ]
  },
  {
   "cell_type": "code",
   "execution_count": null,
   "metadata": {},
   "outputs": [],
   "source": [
    "Xx= pd.concat(Xx)\n",
    "yy = Xx['y']\n",
    "Xx = Xx.drop('y',axis=1)"
   ]
  },
  {
   "cell_type": "code",
   "execution_count": null,
   "metadata": {},
   "outputs": [],
   "source": []
  },
  {
   "cell_type": "code",
   "execution_count": null,
   "metadata": {},
   "outputs": [],
   "source": []
  },
  {
   "cell_type": "code",
   "execution_count": null,
   "metadata": {},
   "outputs": [],
   "source": []
  },
  {
   "cell_type": "code",
   "execution_count": null,
   "metadata": {},
   "outputs": [],
   "source": [
    "r  = r.replace(97,2)\n",
    "r  = r.replace(98,2)\n",
    "r  = r.replace(99,2)\n",
    "r  = r.replace(1,0)\n",
    "r  = r.replace(2,1)\n",
    "r"
   ]
  },
  {
   "cell_type": "code",
   "execution_count": null,
   "metadata": {},
   "outputs": [],
   "source": [
    "r['age']=age\n",
    "r['sex']=sex"
   ]
  },
  {
   "cell_type": "code",
   "execution_count": null,
   "metadata": {},
   "outputs": [],
   "source": [
    "r"
   ]
  },
  {
   "cell_type": "code",
   "execution_count": null,
   "metadata": {},
   "outputs": [],
   "source": [
    "d = d[['pneumonia','diabetes', 'copd', 'asthma','intubated',\n",
    "                               'immunosuppression', 'hypertension',\n",
    "                               'cardiovascular', 'obesity', 'kidney_disease',\n",
    "                               'smoker','sex','age']]\n",
    "d['sex']= d['sex'].replace(99,2)\n",
    "d['sex']= d['sex'].replace(1,0)\n",
    "d['sex']= d['sex'].replace(2,1)\n",
    "d['age'] = d['age']/max(d['age'])\n",
    "d_age = d['age']\n",
    "d_sex = d['sex']\n",
    "\n",
    "al = al[['pneumonia','diabetes', 'copd', 'asthma','intubated',\n",
    "                               'immunosuppression', 'hypertension',\n",
    "                               'cardiovascular', 'obesity', 'kidney_disease',\n",
    "                               'smoker','sex','age']]\n",
    "al['sex']= al['sex'].replace(99,2)\n",
    "al['sex']= al['sex'].replace(1,0)\n",
    "al['sex']= al['sex'].replace(2,1)\n",
    "al['age'] = al['age']/max(al['age'])\n",
    "al_age = al['age']\n",
    "al_sex = al['sex']\n",
    "\n",
    "d = d.drop(['age','sex'],axis=1)\n",
    "al = al.drop(['age','sex'],axis=1)"
   ]
  },
  {
   "cell_type": "code",
   "execution_count": null,
   "metadata": {},
   "outputs": [],
   "source": []
  },
  {
   "cell_type": "code",
   "execution_count": null,
   "metadata": {},
   "outputs": [],
   "source": []
  },
  {
   "cell_type": "code",
   "execution_count": null,
   "metadata": {},
   "outputs": [],
   "source": [
    "al"
   ]
  },
  {
   "cell_type": "code",
   "execution_count": null,
   "metadata": {},
   "outputs": [],
   "source": [
    "d =d['sex'].replace(99,2)\n",
    "al = al['sex'].replace(99,2)"
   ]
  },
  {
   "cell_type": "code",
   "execution_count": null,
   "metadata": {},
   "outputs": [],
   "source": [
    "r"
   ]
  },
  {
   "cell_type": "code",
   "execution_count": null,
   "metadata": {},
   "outputs": [],
   "source": [
    "r = r['sex'].replace(1,0)\n",
    "r = r['sex'].replace(2,1)\n",
    "r = r['age']/max(r['age'])\n"
   ]
  },
  {
   "cell_type": "code",
   "execution_count": null,
   "metadata": {},
   "outputs": [],
   "source": [
    "patient_data_keys('sex')"
   ]
  },
  {
   "cell_type": "code",
   "execution_count": null,
   "metadata": {},
   "outputs": [],
   "source": []
  },
  {
   "cell_type": "code",
   "execution_count": null,
   "metadata": {},
   "outputs": [],
   "source": [
    "Covid('all').patients().deaths().plot_sectors()"
   ]
  },
  {
   "cell_type": "code",
   "execution_count": null,
   "metadata": {},
   "outputs": [],
   "source": [
    "sector_bins = {key:list(oax.data['sector']).count(key) for key in set(oax.data['sector'])}\n",
    "ordered = OrderedDict(sorted(sector_bins.items(), key=lambda t: t[1],reverse=True))\n",
    "top = list(ordered.keys())[:2]\n",
    "others= list(ordered.keys())[2:]"
   ]
  },
  {
   "cell_type": "code",
   "execution_count": null,
   "metadata": {},
   "outputs": [],
   "source": [
    "ordered"
   ]
  },
  {
   "cell_type": "code",
   "execution_count": null,
   "metadata": {},
   "outputs": [],
   "source": []
  },
  {
   "cell_type": "code",
   "execution_count": null,
   "metadata": {},
   "outputs": [],
   "source": []
  },
  {
   "cell_type": "code",
   "execution_count": null,
   "metadata": {},
   "outputs": [],
   "source": []
  },
  {
   "cell_type": "code",
   "execution_count": null,
   "metadata": {},
   "outputs": [],
   "source": [
    "plt.close('all')\n",
    "plt.rcParams[\"figure.figsize\"] = (15,7)\n",
    "\n",
    "sector_bins = {key:list(oax.data['sector']).count(key) for key in set(oax.data['sector'])}\n",
    "ordered = OrderedDict(sorted(sector_bins.items(), key=lambda t: t[1],reverse=True))\n",
    "top = list(ordered.keys())[:2]\n",
    "others= list(ordered.keys())[2:]\n",
    "\n",
    "\n",
    "fig, axs = plt.subplots(2)\n",
    "plt.subplots_adjust(left=None, bottom=None, right=None, top=None, wspace=2.5, hspace=0.6)\n",
    "\n",
    "axs[0].bar([patient_data_keys('sector',x) for x in top],[sector_bins[x] for x in top])\n",
    "axs[0].text(patient_data_keys('sector',top[0]), sector_bins[top[0]] + 150, str(round((sector_bins[top[0]]/len(oax.data['sector'])*100),2))+'%', color='black',fontsize=20)\n",
    "axs[0].text(patient_data_keys('sector',top[1]), sector_bins[top[1]] + 150, str(round((sector_bins[top[1]]/len(oax.data['sector'])*100),2))+'%', color='black',fontsize=20)\n",
    "axs[0].set_title('Sectors with more patients',fontsize=20)\n",
    "axs[0].set_ylim(0,(max(sector_bins[top[0]],sector_bins[top[1]])+ 1000))\n",
    "axs[0].set_ylabel('Number of Patients', fontsize=18)\n",
    "\n",
    "axs[1].bar([patient_data_keys('sector',x) for x in others],[sector_bins[x] for x in others])\n",
    "axs[1].set_title('Other sectors',fontsize=20)\n",
    "axs[1].set_ylabel('Number of Patients', fontsize=18)\n",
    "\n",
    "for sector in others:\n",
    "    axs[1].text(patient_data_keys('sector',sector), sector_bins[sector] + 10, str(round((sector_bins[sector]/len(oax.data['sector'])*100),2))+'%', color='black',fontsize=16)\n",
    "\n",
    "\n",
    "for ax in fig.axes:\n",
    "    plt.sca(ax)\n",
    "    plt.xticks(rotation=90,fontsize=16)\n",
    "\n",
    "plt.show()"
   ]
  },
  {
   "cell_type": "code",
   "execution_count": null,
   "metadata": {},
   "outputs": [],
   "source": [
    "sector_bins = {key:list(oax.data['sector']).count(key) for key in set(oax.data['sector'])}\n",
    "\n",
    "fig, axs = plt.subplots(2)\n",
    "\n",
    "plt.close('all')\n",
    "plt.rcParams[\"figure.figsize\"] = (15,7)\n",
    "\n",
    "axs[1].bar(['IMSS','SSA'],[sector_bins[4],sector_bins[12]])\n",
    "axs[1].text('IMSS', sector_bins[4] + 15, str(round((sector_bins[4]/len(oax.data['sector'])*100),2))+'%', color='black',fontsize=20)\n",
    "axs[1].text('SSA', sector_bins[12] + 15, str(round((sector_bins[12]/len(oax.data['sector'])*100),2))+'%', color='black',fontsize=20)\n",
    "axs[1].set_title('Sectors with more patients',fontsize=25)\n",
    "axs[1].set_ylabel('Number of Patients', fontsize=18)\n",
    "\n",
    "plt.show()"
   ]
  },
  {
   "cell_type": "code",
   "execution_count": null,
   "metadata": {},
   "outputs": [],
   "source": []
  },
  {
   "cell_type": "code",
   "execution_count": null,
   "metadata": {},
   "outputs": [],
   "source": [
    "fig,a =  plt.subplots(2,2)\n",
    "import numpy as np\n",
    "x = np.arange(1,5)\n",
    "a[0][0].plot(x,x*x)\n",
    "a[0][0].set_title('square')\n",
    "a[0][1].plot(x,np.sqrt(x))\n",
    "a[0][1].set_title('square root')\n",
    "a[1][0].plot(x,np.exp(x))\n",
    "a[1][0].set_title('exp')\n",
    "a[1][1].plot(x,np.log10(x))\n",
    "a[1][1].set_title('log')\n",
    "plt.show()"
   ]
  },
  {
   "cell_type": "code",
   "execution_count": null,
   "metadata": {},
   "outputs": [],
   "source": []
  },
  {
   "cell_type": "code",
   "execution_count": null,
   "metadata": {},
   "outputs": [],
   "source": []
  },
  {
   "cell_type": "code",
   "execution_count": null,
   "metadata": {},
   "outputs": [],
   "source": []
  },
  {
   "cell_type": "code",
   "execution_count": null,
   "metadata": {},
   "outputs": [],
   "source": []
  },
  {
   "cell_type": "code",
   "execution_count": null,
   "metadata": {},
   "outputs": [],
   "source": [
    "e = oaxaca.patients()\n",
    "e.state"
   ]
  },
  {
   "cell_type": "code",
   "execution_count": null,
   "metadata": {},
   "outputs": [],
   "source": [
    "e.state_code"
   ]
  },
  {
   "cell_type": "code",
   "execution_count": null,
   "metadata": {},
   "outputs": [],
   "source": [
    "e.data"
   ]
  },
  {
   "cell_type": "code",
   "execution_count": null,
   "metadata": {},
   "outputs": [],
   "source": [
    "e.women()"
   ]
  },
  {
   "cell_type": "code",
   "execution_count": null,
   "metadata": {},
   "outputs": [],
   "source": [
    "oaxaca_women = oaxaca.patients().women()\n",
    "#oaxaca_men = oaxaca.patients().men().deaths().age(0,45)"
   ]
  },
  {
   "cell_type": "code",
   "execution_count": null,
   "metadata": {
    "scrolled": false
   },
   "outputs": [],
   "source": [
    "oaxaca_women.describe()"
   ]
  },
  {
   "cell_type": "code",
   "execution_count": null,
   "metadata": {},
   "outputs": [],
   "source": [
    "oaxaca_women.data.keys()"
   ]
  },
  {
   "cell_type": "code",
   "execution_count": null,
   "metadata": {},
   "outputs": [],
   "source": [
    "oaxaca_women.data"
   ]
  },
  {
   "cell_type": "code",
   "execution_count": null,
   "metadata": {},
   "outputs": [],
   "source": [
    "patient_data_keys('sector')"
   ]
  },
  {
   "cell_type": "code",
   "execution_count": null,
   "metadata": {},
   "outputs": [],
   "source": [
    "oaxaca.women().deaths()"
   ]
  },
  {
   "cell_type": "code",
   "execution_count": null,
   "metadata": {},
   "outputs": [],
   "source": [
    "a = oaxaca.patients()"
   ]
  },
  {
   "cell_type": "code",
   "execution_count": null,
   "metadata": {},
   "outputs": [],
   "source": [
    "sector_bins = {key:list(a.data['sector']).count(key) for key in set(a.data['sector'])}"
   ]
  },
  {
   "cell_type": "code",
   "execution_count": null,
   "metadata": {},
   "outputs": [],
   "source": [
    "# MAKE THIS TWOI PLOTS WITH THE OPTHER WITH THE REST\n",
    "\n",
    "plt.close('all')\n",
    "plt.rcParams[\"figure.figsize\"] = (15,7)\n",
    "plt.bar(['IMSS','SSA'],[sector_bins[4],sector_bins[12]])\n",
    "plt.text('IMSS', sector_bins[4] + 15, str(round((sector_bins[4]/len(a.data['sector'])*100),2))+'%', color='black',fontsize=20)\n",
    "plt.text('SSA', sector_bins[12] + 15, str(round((sector_bins[12]/len(a.data['sector'])*100),2))+'%', color='black',fontsize=20)\n",
    "\n",
    "plt.title('Sectors with more patients',fontsize=25)\n",
    "plt.ylabel('Number of Patients', fontsize=18)\n",
    "plt.xticks(fontsize=25, fontweight='bold')\n",
    "plt.show()"
   ]
  },
  {
   "cell_type": "code",
   "execution_count": null,
   "metadata": {},
   "outputs": [],
   "source": [
    "s20 = oaxaca.age(20,29)\n",
    "s20"
   ]
  },
  {
   "cell_type": "code",
   "execution_count": null,
   "metadata": {},
   "outputs": [],
   "source": [
    "s20.data.age"
   ]
  },
  {
   "cell_type": "code",
   "execution_count": null,
   "metadata": {},
   "outputs": [],
   "source": [
    "sub_data = Covid('TABASCO').patients()"
   ]
  },
  {
   "cell_type": "code",
   "execution_count": null,
   "metadata": {},
   "outputs": [],
   "source": [
    "sub_data.data.age"
   ]
  },
  {
   "cell_type": "code",
   "execution_count": null,
   "metadata": {},
   "outputs": [],
   "source": [
    "f = sub_data.data[(sub_data.data.age >= 20) & (sub_data.data.age <= 50)]"
   ]
  },
  {
   "cell_type": "code",
   "execution_count": null,
   "metadata": {},
   "outputs": [],
   "source": [
    "set(f.age)"
   ]
  },
  {
   "cell_type": "code",
   "execution_count": null,
   "metadata": {},
   "outputs": [],
   "source": [
    "sub_data.data = sub_data.data[sub_data.data['age'] in range(start,end)]"
   ]
  },
  {
   "cell_type": "code",
   "execution_count": null,
   "metadata": {},
   "outputs": [],
   "source": [
    "oax_men = oaxaca.men().data\n",
    "oax_women = oaxaca.women().data"
   ]
  },
  {
   "cell_type": "code",
   "execution_count": null,
   "metadata": {},
   "outputs": [],
   "source": [
    "oaxaca.data"
   ]
  },
  {
   "cell_type": "code",
   "execution_count": null,
   "metadata": {},
   "outputs": [],
   "source": [
    "oaxaca2 = oaxaca.women()"
   ]
  },
  {
   "cell_type": "code",
   "execution_count": null,
   "metadata": {},
   "outputs": [],
   "source": [
    "oaxaca.data"
   ]
  },
  {
   "cell_type": "code",
   "execution_count": null,
   "metadata": {},
   "outputs": [],
   "source": [
    "oaxaca2 = oaxaca.copy()"
   ]
  },
  {
   "cell_type": "code",
   "execution_count": null,
   "metadata": {},
   "outputs": [],
   "source": [
    "oaxaca2.women()"
   ]
  },
  {
   "cell_type": "code",
   "execution_count": null,
   "metadata": {},
   "outputs": [],
   "source": [
    "oaxaca2.data"
   ]
  },
  {
   "cell_type": "code",
   "execution_count": null,
   "metadata": {},
   "outputs": [],
   "source": [
    "oaxaca.data"
   ]
  },
  {
   "cell_type": "code",
   "execution_count": null,
   "metadata": {},
   "outputs": [],
   "source": [
    "patients_codes['sex']"
   ]
  },
  {
   "cell_type": "code",
   "execution_count": null,
   "metadata": {},
   "outputs": [],
   "source": [
    "oaxaca.women().deaths()"
   ]
  },
  {
   "cell_type": "code",
   "execution_count": null,
   "metadata": {},
   "outputs": [],
   "source": [
    "oaxaca.data"
   ]
  },
  {
   "cell_type": "code",
   "execution_count": null,
   "metadata": {},
   "outputs": [],
   "source": [
    "a.deaths()"
   ]
  },
  {
   "cell_type": "code",
   "execution_count": null,
   "metadata": {},
   "outputs": [],
   "source": [
    "nacional.patients.something"
   ]
  },
  {
   "cell_type": "code",
   "execution_count": null,
   "metadata": {},
   "outputs": [],
   "source": [
    "nacional.state"
   ]
  },
  {
   "cell_type": "code",
   "execution_count": null,
   "metadata": {},
   "outputs": [],
   "source": [
    "nacional.population()"
   ]
  },
  {
   "cell_type": "code",
   "execution_count": null,
   "metadata": {},
   "outputs": [],
   "source": [
    "a = pd.read_csv(Covid.database['patients'],encoding='ANSI')"
   ]
  },
  {
   "cell_type": "code",
   "execution_count": null,
   "metadata": {
    "scrolled": false
   },
   "outputs": [],
   "source": [
    "a = change_df_names(a)\n",
    "a"
   ]
  },
  {
   "cell_type": "code",
   "execution_count": null,
   "metadata": {},
   "outputs": [],
   "source": [
    "oaxaca.patients()"
   ]
  },
  {
   "cell_type": "code",
   "execution_count": null,
   "metadata": {},
   "outputs": [],
   "source": []
  },
  {
   "cell_type": "code",
   "execution_count": null,
   "metadata": {},
   "outputs": [],
   "source": [
    "tabasco = Covid('TABASCO')\n",
    "oaxaca = Covid('OAXACA')\n",
    "chiapas  = Covid('CHIAPAS')\n",
    "yucatan = Covid('YUCATAN')"
   ]
  },
  {
   "cell_type": "code",
   "execution_count": null,
   "metadata": {},
   "outputs": [],
   "source": [
    "Covid.plt_actives([oaxaca.actives(),tabasco.actives(),chiapas.actives(),yucatan.actives()],['oaxaca','tabasco','chiapas','yucatan'],trim=60)"
   ]
  },
  {
   "cell_type": "code",
   "execution_count": null,
   "metadata": {},
   "outputs": [],
   "source": []
  },
  {
   "cell_type": "code",
   "execution_count": null,
   "metadata": {},
   "outputs": [],
   "source": [
    "Covid.plot_max_to_min('deaths',n=11, trim=60,include_national = False, max_to_min = True)"
   ]
  },
  {
   "cell_type": "code",
   "execution_count": null,
   "metadata": {},
   "outputs": [],
   "source": [
    "names = ['OAXACA','TABASCO','JALISCO']\n",
    "\n",
    "data = {key:Covid(key).cummulative('deaths') for key in names}"
   ]
  },
  {
   "cell_type": "code",
   "execution_count": null,
   "metadata": {},
   "outputs": [],
   "source": [
    "data.keys()"
   ]
  },
  {
   "cell_type": "code",
   "execution_count": null,
   "metadata": {},
   "outputs": [],
   "source": [
    "\n",
    "data = OrderedDict(sorted(data.items(), key=lambda t: t[1][-1],reverse=True))\n",
    "names = list(data.keys())"
   ]
  },
  {
   "cell_type": "code",
   "execution_count": null,
   "metadata": {},
   "outputs": [],
   "source": [
    "data.keys()"
   ]
  },
  {
   "cell_type": "code",
   "execution_count": null,
   "metadata": {},
   "outputs": [],
   "source": [
    "data['OAXACA'][-1]"
   ]
  },
  {
   "cell_type": "code",
   "execution_count": null,
   "metadata": {},
   "outputs": [],
   "source": [
    "len(pd.read_csv(Covid.database['confirmed']).columns)"
   ]
  },
  {
   "cell_type": "code",
   "execution_count": null,
   "metadata": {},
   "outputs": [],
   "source": [
    "len(pd.read_csv(Covid.database['suspicious']).columns)"
   ]
  },
  {
   "cell_type": "code",
   "execution_count": null,
   "metadata": {},
   "outputs": [],
   "source": [
    "len(pd.read_csv(Covid.database['deaths']).columns)"
   ]
  },
  {
   "cell_type": "code",
   "execution_count": null,
   "metadata": {},
   "outputs": [],
   "source": [
    "len(pd.read_csv(Covid.database['negatives']).columns)"
   ]
  },
  {
   "cell_type": "code",
   "execution_count": null,
   "metadata": {},
   "outputs": [],
   "source": []
  },
  {
   "cell_type": "code",
   "execution_count": null,
   "metadata": {},
   "outputs": [],
   "source": [
    "index = pd.date_range(start=pd.to_datetime(pd.read_csv(Covid.database['confirmed']).columns[-1]) - timedelta(days=len(oaxaca.cummulative('deaths'))),periods = len(oaxaca.cummulative('deaths')),freq='D')"
   ]
  },
  {
   "cell_type": "code",
   "execution_count": null,
   "metadata": {},
   "outputs": [],
   "source": [
    "index[-1]"
   ]
  },
  {
   "cell_type": "code",
   "execution_count": null,
   "metadata": {},
   "outputs": [],
   "source": []
  },
  {
   "cell_type": "code",
   "execution_count": null,
   "metadata": {},
   "outputs": [],
   "source": [
    "def plot_cummulative(data, names = None, title = None, trim=None):\n",
    "    plt.close('all')\n",
    "    plt.rcParams[\"figure.figsize\"] = (15,7)\n",
    "    \n",
    "    if type(data[0]) == int:\n",
    "        index = pd.date_range(start=pd.to_datetime(pd.read_csv(Covid.database['confirmed']).columns[-1]) - timedelta(days=len(data)),periods = len(data),freq='D')\n",
    "        plt.plot(index, data, label = names, alpha = 0.6)\n",
    "        plt.scatter(index[-1],data[-1])\n",
    "        plt.text(index[-1], data[-1],str(int(data[-1])) , fontsize=14)\n",
    "    else:\n",
    "        \n",
    "        max_len = max([len(x) for x in data])\n",
    "        last_day = pd.read_csv(Covid.database['confirmed']).columns[-1]\n",
    "        index = pd.date_range(start=pd.to_datetime(pd.read_csv(Covid.database['confirmed']).columns[-1]) - timedelta(days=max_len),\n",
    "                              periods=max_len, freq='D')\n",
    "        \n",
    "        for ind,i in enumerate(data):\n",
    "            if len(i) != max_len:\n",
    "                i = [0]*(max_len-len(i))+i\n",
    "\n",
    "            plt.plot(index,i,label=names[ind])\n",
    "            plt.scatter(index[-1],i[-1])\n",
    "            plt.text(index[-1], i[-1],str(int(i[-1])) , fontsize=14)\n",
    "            \n",
    "\n",
    "    plt.xticks(rotation=90,fontsize=13)\n",
    "    plt.title(title, fontsize=14)\n",
    "    \n",
    "    if trim:\n",
    "        plt.xlim(index[0] + timedelta(days=trim),)\n",
    "        \n",
    "    plt.legend(loc='upper left',fontsize=14)\n",
    "    plt.show()"
   ]
  },
  {
   "cell_type": "code",
   "execution_count": null,
   "metadata": {},
   "outputs": [],
   "source": [
    "type(oaxaca.cummulative('deaths')[0])"
   ]
  },
  {
   "cell_type": "code",
   "execution_count": null,
   "metadata": {},
   "outputs": [],
   "source": [
    "plot_cummulative([oaxaca.cummulative('deaths'),tabasco.cummulative('deaths'),chiapas.cummulative('deaths')], names = ['Buajaca','Tabaschcoc','SHiapss'], title = 'Popopo', trim=40)"
   ]
  },
  {
   "cell_type": "code",
   "execution_count": null,
   "metadata": {},
   "outputs": [],
   "source": [
    "def plot_discrete(data, names = None, title=None, trim=None):\n",
    "    plt.close('all')\n",
    "    plt.rcParams[\"figure.figsize\"] = (15,6)\n",
    "    \n",
    "    if type(data) == np.ndarray:\n",
    "        index = pd.date_range(start=pd.to_datetime(pd.read_csv(Covid.database['confirmed']).columns[-1]) - timedelta(days=len(data)),periods = len(data),freq='D')\n",
    "                \n",
    "        plt.bar(index,data, label = names, alpha = 0.6)\n",
    "        \n",
    "    else:\n",
    "        \n",
    "        max_len = max([len(x) for x in data])\n",
    "        index = pd.date_range(start=pd.to_datetime(pd.read_csv(Covid.database['confirmed']).columns[-1]) - timedelta(days=len(data)), periods=max_len, freq='D')\n",
    "\n",
    "        for ind, i in enumerate(data):\n",
    "            if len(i) < max_len:\n",
    "                i = [0]*(max_len-len(i))+list(i)\n",
    "\n",
    "            plt.bar(index,i, label = names[ind],alpha = 0.5)\n",
    "       \n",
    "    plt.title(title, fontsize=14)\n",
    "    plt.legend(loc='upper left',fontsize=12)\n",
    "    plt.xticks(rotation=90)\n",
    "    if trim:\n",
    "        plt.xlim(index[0] + timedelta(days=trim),)\n",
    "    plt.show()"
   ]
  },
  {
   "cell_type": "code",
   "execution_count": null,
   "metadata": {},
   "outputs": [],
   "source": [
    "type(oaxaca.discrete('confirmed'))"
   ]
  },
  {
   "cell_type": "code",
   "execution_count": null,
   "metadata": {},
   "outputs": [],
   "source": [
    "plot_discrete([oaxaca.cummulative('deaths'), chiapas.cummulative('deaths')],names= ['Oaxaca','Tabash'],title='Oaxaca plot',trim=20) "
   ]
  },
  {
   "cell_type": "markdown",
   "metadata": {},
   "source": [
    "## Preprocess\n"
   ]
  },
  {
   "cell_type": "code",
   "execution_count": null,
   "metadata": {},
   "outputs": [],
   "source": [
    "deaths = Covid('all').patients().deaths()\n",
    "alives = Covid('all').patients().alive()\n",
    "\n",
    "dead = deaths.data\n",
    "alive = alives.data\n",
    "\n",
    "\n",
    "dead = dead[['diabetes', 'copd', 'asthma',\n",
    "       'immunosuppression', 'hypertension',\n",
    "       'cardiovascular', 'obesity', 'kidney_disease',\n",
    "       'smoker','sex','age']]\n",
    "alive = alive[['diabetes', 'copd', 'asthma',\n",
    "       'immunosuppression', 'hypertension',\n",
    "       'cardiovascular', 'obesity', 'kidney_disease',\n",
    "       'smoker','sex','age']]\n",
    "\n",
    "dead_sex = dead['sex'].copy()\n",
    "dead_age = dead['age'].copy()\n",
    "\n",
    "alive_age= alive['age'].copy()\n",
    "alive_sex= alive['sex'].copy()\n",
    "\n",
    "alive_age_normal = alive_age/max(alive_age)\n",
    "dead_age_normal= dead_age/max(dead_age)\n",
    "\n",
    "\n",
    "dead_sex.replace(99,2,inplace=True)\n",
    "dead_sex.replace(1,0,inplace=True)\n",
    "dead_sex.replace(2,1,inplace=True)\n",
    "\n",
    "alive_sex.replace(99,2,inplace=True)\n",
    "alive_sex.replace(1,0,inplace=True)\n",
    "alive_sex.replace(2,1,inplace=True)\n",
    "\n",
    "\n",
    "dead = dead.replace([97,98,99],2)\n",
    "dead = dead.replace(2,0)\n",
    "alive = alive.replace([97,98,99],2)\n",
    "alive = alive.replace(2,0)\n",
    "\n",
    "dead = dead.drop(['sex','age'],axis=1)\n",
    "alive = alive.drop(['sex','age'],axis=1)\n",
    "\n",
    "dead['sex']=dead_sex\n",
    "dead['age']=dead_age_normal\n",
    "alive['sex']=alive_sex\n",
    "alive['age']=alive_age_normal\n",
    "\n",
    "alive['y'] = [0]*len(alive)\n",
    "dead['y'] = [1]*len(dead)\n",
    "\n",
    "X = pd.concat([alive,dead])\n",
    "y = X['y']\n",
    "X = X.drop('y',axis=1)"
   ]
  },
  {
   "cell_type": "code",
   "execution_count": null,
   "metadata": {},
   "outputs": [],
   "source": [
    "X"
   ]
  },
  {
   "cell_type": "code",
   "execution_count": null,
   "metadata": {},
   "outputs": [],
   "source": []
  }
 ],
 "metadata": {
  "kernelspec": {
   "display_name": "Python 3",
   "language": "python",
   "name": "python3"
  },
  "language_info": {
   "codemirror_mode": {
    "name": "ipython",
    "version": 3
   },
   "file_extension": ".py",
   "mimetype": "text/x-python",
   "name": "python",
   "nbconvert_exporter": "python",
   "pygments_lexer": "ipython3",
   "version": "3.7.5"
  }
 },
 "nbformat": 4,
 "nbformat_minor": 4
}
