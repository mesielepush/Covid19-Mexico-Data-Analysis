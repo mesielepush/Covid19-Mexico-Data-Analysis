{
 "cells": [
  {
   "cell_type": "markdown",
   "metadata": {},
   "source": [
    "#                       Mexico's COVID19 Data description and Analisys\n",
    "\n",
    "\n",
    "<img align=\"center\" src=\"https://i.imgur.com/ywPyXHY.png\">\n"
   ]
  },
  {
   "cell_type": "markdown",
   "metadata": {},
   "source": [
    "<a href = 'https://coronavirus.gob.mx/datos/#DownZCSV'>\n",
    "    <img align=\"center\" src=\"https://i.imgur.com/EgVX1r8.png\">\n",
    "</a>"
   ]
  },
  {
   "cell_type": "markdown",
   "metadata": {},
   "source": [
    "# Loading data"
   ]
  },
  {
   "cell_type": "code",
   "execution_count": 3,
   "metadata": {},
   "outputs": [],
   "source": [
    "import numpy as np\n",
    "import matplotlib.pyplot as plt\n",
    "import pandas as pd\n",
    "import seaborn as sns\n",
    "from datetime import datetime, timedelta"
   ]
  },
  {
   "cell_type": "code",
   "execution_count": 4,
   "metadata": {},
   "outputs": [],
   "source": [
    "# Pacient data contains detail information about every subject in the database, age, sex, and some illness history\n",
    "patient_data = pd.read_csv('200526COVID19MEXICO.csv', encoding='ANSI')\n",
    "# Confirmed is the number of comfirmed cases each day\n",
    "confirmed = pd.read_csv('Casos_Diarios_Estado_Nacional_Confirmados_20200526.csv', encoding='ANSI')\n",
    "# Suspicious is the number of suspicious cases each day\n",
    "suspicious = pd.read_csv('Casos_Diarios_Estado_Nacional_Sospechosos_20200526.csv', encoding='ANSI')\n",
    "# Negatives is the number of negative test cases each day\n",
    "negatives = pd.read_csv('Casos_Diarios_Estado_Nacional_Negativos_20200526.csv', encoding='ANSI')\n",
    "# Deaths is the number of deceased cases each day\n",
    "deaths = pd.read_csv('Casos_Diarios_Estado_Nacional_Defunciones_20200526.csv', encoding='ANSI')\n",
    "# State_names is an array with the names of each state\n",
    "state_names = deaths.nombre.values"
   ]
  },
  {
   "cell_type": "code",
   "execution_count": null,
   "metadata": {},
   "outputs": [],
   "source": [
    "confirmed.nombre"
   ]
  },
  {
   "cell_type": "code",
   "execution_count": null,
   "metadata": {},
   "outputs": [],
   "source": []
  },
  {
   "cell_type": "code",
   "execution_count": null,
   "metadata": {},
   "outputs": [],
   "source": []
  },
  {
   "cell_type": "markdown",
   "metadata": {},
   "source": [
    "# 1.- Frequency of cases"
   ]
  },
  {
   "cell_type": "markdown",
   "metadata": {},
   "source": [
    "## Confirmed, Deaths, Negative and Suspicious Data"
   ]
  },
  {
   "cell_type": "code",
   "execution_count": null,
   "metadata": {},
   "outputs": [],
   "source": [
    "# Confirmed, negative, deaths and suspicious dataFrames have the same structure.\n",
    "confirmed.head()"
   ]
  },
  {
   "cell_type": "markdown",
   "metadata": {},
   "source": [
    "### State Names"
   ]
  },
  {
   "cell_type": "code",
   "execution_count": null,
   "metadata": {},
   "outputs": [],
   "source": [
    "# State names for confirmed, suspicious, negative and deaths data, patient_date states names are a little different\n",
    "state_names"
   ]
  },
  {
   "cell_type": "markdown",
   "metadata": {},
   "source": [
    "### Functions to get discrete or cummulative data from any particular state"
   ]
  },
  {
   "cell_type": "code",
   "execution_count": null,
   "metadata": {},
   "outputs": [],
   "source": [
    "# Functions to get formated data from a particular state\n",
    "# Both functions take a name and a database. (name='state_name',raw_data=database)\n",
    "# works only for the confirmed, suspicious, negative and deaths databases\n",
    "# patient_data is different.\n",
    "from data_helpers import get_discrete, get_cummulative"
   ]
  },
  {
   "cell_type": "code",
   "execution_count": null,
   "metadata": {},
   "outputs": [],
   "source": [
    "discrete_mexico_city_deaths = get_discrete('DISTRITO FEDERAL',deaths)\n",
    "cummulative_mexico_city_deaths = get_cummulative('DISTRITO FEDERAL',deaths)"
   ]
  },
  {
   "cell_type": "markdown",
   "metadata": {},
   "source": [
    "### get_discrete() gives an array for each day incidents"
   ]
  },
  {
   "cell_type": "code",
   "execution_count": null,
   "metadata": {},
   "outputs": [],
   "source": [
    "discrete_mexico_city_deaths"
   ]
  },
  {
   "cell_type": "markdown",
   "metadata": {},
   "source": [
    "### get_cummulative() gives a list of the cummulative record by day"
   ]
  },
  {
   "cell_type": "code",
   "execution_count": null,
   "metadata": {},
   "outputs": [],
   "source": [
    "cummulative_mexico_city_deaths[28:50]"
   ]
  },
  {
   "cell_type": "markdown",
   "metadata": {},
   "source": [
    "\n",
    "### Function to plot discrete data"
   ]
  },
  {
   "cell_type": "code",
   "execution_count": null,
   "metadata": {},
   "outputs": [],
   "source": [
    "# plot_discrete(data, names = None, colors=None, title=None, trim=None)\n",
    "# Data should be an array of tuples: [('State name', database),('State name2', database)]\n",
    "# database should be: confirmed, suspicious, negatives or deaths.\n",
    "# If names = None, then each 'State name' will be use\n",
    "# You can choose the colors of each state by passing an array: ['r','b','y'...]\n",
    "# Or passing a string like: 'rbgy' if each of the colors are one letter in the matplotlib documentation.\n",
    "# If colors = None, colors will be a cycle from the default: 'b', 'g', 'r', 'c', 'm' and 'y'\n",
    "# Trim is the number of days to skip at the beginning, since the first month or so are usually empty.\n",
    "\n",
    "def plot_discrete(data,names = None, colors=None, title=None, trim=None):\n",
    "    plt.close('all')\n",
    "    plt.style.use('seaborn-whitegrid')\n",
    "\n",
    "    plt.rcParams[\"figure.figsize\"] = (15,6)\n",
    "    \n",
    "    plot_data = []\n",
    "    if names == None:\n",
    "        labels = []\n",
    "    else:\n",
    "        labels = names\n",
    "    \n",
    "    for state in data:\n",
    "        plot_data.append(get_discrete(state[0],state[1]))\n",
    "        if names == None:\n",
    "            labels.append(state[0])\n",
    "    \n",
    "    max_len = max([len(x) for x in plot_data])\n",
    "    \n",
    "    last_day = confirmed.columns[-1]\n",
    "    \n",
    "    index = pd.date_range(start=pd.to_datetime(confirmed.columns[-1]) - timedelta(days=max_len), periods=max_len, freq='D')\n",
    "    \n",
    "    if colors == None:\n",
    "            colors ='bgrcmy'* int(np.ceil(len(plot_data)/6))\n",
    "       \n",
    "    for ind, i in enumerate(plot_data):\n",
    "        if len(i) < max_len:\n",
    "            i = [0]*(max_len-len(i))+list(i)\n",
    "        \n",
    "        plt.bar(index,i, label = labels[ind],color = colors[ind],alpha = 0.5)\n",
    "       \n",
    "    plt.title(title, fontsize=14)\n",
    "    plt.legend(loc='upper left',fontsize=12)\n",
    "    plt.xticks(rotation=90)\n",
    "    if trim:\n",
    "        plt.xlim(index[0] + timedelta(days=trim),)\n",
    "    plt.show()"
   ]
  },
  {
   "cell_type": "markdown",
   "metadata": {},
   "source": [
    "## National discrete data"
   ]
  },
  {
   "cell_type": "code",
   "execution_count": null,
   "metadata": {
    "scrolled": false
   },
   "outputs": [],
   "source": [
    "plot_discrete(data = [('Nacional',confirmed),\n",
    "                     ('Nacional',deaths),\n",
    "                     ('Nacional',suspicious)],\n",
    "              names =['Confirmed','Deaths','Suspicious'],\n",
    "              colors=['g','r','b'],\n",
    "              title='Deaths by day in Mexico',\n",
    "              trim=70)"
   ]
  },
  {
   "cell_type": "markdown",
   "metadata": {},
   "source": [
    "## Metropolitan area, discrete, death and confirmed"
   ]
  },
  {
   "cell_type": "code",
   "execution_count": null,
   "metadata": {},
   "outputs": [],
   "source": [
    "plot_discrete([('DISTRITO FEDERAL',confirmed),\n",
    "                  ('MEXICO',confirmed),\n",
    "                  ('DISTRITO FEDERAL',deaths),\n",
    "                  ('MEXICO',deaths)],\n",
    "                  names =['Mexico city confirmed','Mexico state confirmed',\n",
    "                          'Mexico city Deaths','Mexico state Deaths'],\n",
    "                  colors=['g','b','r','orange'],\n",
    "                  title='Confirmed and Deaths in Mexico City and Mexico State',\n",
    "                  trim=65)"
   ]
  },
  {
   "cell_type": "markdown",
   "metadata": {},
   "source": [
    "### Function to plot cummulative data"
   ]
  },
  {
   "cell_type": "code",
   "execution_count": null,
   "metadata": {},
   "outputs": [],
   "source": [
    "# Same Instructions of the discrete data apply here\n",
    "\n",
    "def plot_cummulative(data, names = None, colors = None, title = None, trim=None):\n",
    "    plt.close('all')\n",
    "    plt.style.use('seaborn-whitegrid')\n",
    "\n",
    "    plt.rcParams[\"figure.figsize\"] = (15,7)\n",
    "    \n",
    "    plot_data = []\n",
    "    if names == None:\n",
    "        labels = []\n",
    "    else:\n",
    "        labels = names\n",
    "    \n",
    "    for state in data:\n",
    "        plot_data.append(get_cummulative(state[0],state[1]))\n",
    "        if names == None:\n",
    "            labels.append(state[0])\n",
    "    \n",
    "    max_len = max([len(x) for x in plot_data])\n",
    "    last_day = confirmed.columns[-1]\n",
    "    \n",
    "    index = pd.date_range(start=pd.to_datetime(deaths.columns[-1]) - timedelta(days=max_len), periods=max_len, freq='D', closed = None)\n",
    "    \n",
    "    if not colors:\n",
    "        colors ='bgrcmy'* int(np.ceil(len(plot_data)/6))\n",
    "    \n",
    "    for ind,i in enumerate(plot_data):\n",
    "        if len(i) != max_len:\n",
    "            i = [0]*(max_len-len(i))+i\n",
    "        \n",
    "        plt.plot(index,i,label=labels[ind],color=colors[ind])\n",
    "        plt.scatter(index[-1],i[-1],color=colors[ind])\n",
    "        plt.text(index[-1], i[-1],str(int(i[-1])) , fontsize=14 ,color=colors[ind])\n",
    "        plt.fill_between(index, i, color = colors[ind], alpha = 0.4)\n",
    "               \n",
    "    plt.xticks(rotation=90,fontsize=13)\n",
    "    plt.title(title, fontsize=14)\n",
    "    \n",
    "    if trim:\n",
    "        plt.xlim(index[0] + timedelta(days=trim),)\n",
    "        \n",
    "    plt.legend(loc='upper left',fontsize=14)\n",
    "    plt.show()"
   ]
  },
  {
   "cell_type": "markdown",
   "metadata": {},
   "source": [
    "## National cummulative record for confirmed, suspicious, and deaths"
   ]
  },
  {
   "cell_type": "code",
   "execution_count": null,
   "metadata": {
    "scrolled": false
   },
   "outputs": [],
   "source": [
    "plot_cummulative([('National',confirmed),\n",
    "                  ('National',suspicious),\n",
    "                  ('National',deaths)],\n",
    "                  names =['Confirmed','Suspicious','Deaths'],\n",
    "                  colors=['g','b','r'],\n",
    "                  title='Confirmed, Suspicious and Deaths in Mexico',\n",
    "                  trim=70)"
   ]
  },
  {
   "cell_type": "markdown",
   "metadata": {},
   "source": [
    "## Metropolitan area cummulative, death and confirmed"
   ]
  },
  {
   "cell_type": "code",
   "execution_count": null,
   "metadata": {},
   "outputs": [],
   "source": [
    "plot_cummulative([('DISTRITO FEDERAL',confirmed),\n",
    "                  ('MEXICO',confirmed),\n",
    "                  ('DISTRITO FEDERAL',deaths),\n",
    "                  ('MEXICO',deaths)],\n",
    "                  names =['Mexico city confirmed','Mexico state confirmed',\n",
    "                          'Mexico city Deaths','Mexico state Deaths'],\n",
    "                  colors=['g','b','r','orange'],\n",
    "                  title='Confirmed and Deaths in Mexico City and Mexico State',\n",
    "                  trim=65)"
   ]
  },
  {
   "cell_type": "markdown",
   "metadata": {},
   "source": [
    "## Ploting all data from max to min."
   ]
  },
  {
   "cell_type": "markdown",
   "metadata": {},
   "source": [
    "### Function to get several states sorted from max to min."
   ]
  },
  {
   "cell_type": "code",
   "execution_count": null,
   "metadata": {},
   "outputs": [],
   "source": [
    "from data_helpers import get_max_to_min\n",
    "# This function returns a list with the state names from max to min incidence and a dictionary with the actual values\n",
    "# name_array, dictionary = get_max_to_min(raw_data, include_national = False, reverse = False)\n",
    "# raw_data is the database: confirmed, negatives, suspicious or deaths.\n",
    "# National data is naturally much more higher that any particular state, by default is ommited\n",
    "# To include National set the parameter include_national to True\n",
    "# To return the list from MIN to MAX set reverse to True"
   ]
  },
  {
   "cell_type": "markdown",
   "metadata": {},
   "source": [
    "### Function to plot the data from get_max_to_min()"
   ]
  },
  {
   "cell_type": "code",
   "execution_count": null,
   "metadata": {
    "scrolled": true
   },
   "outputs": [],
   "source": [
    "# Raw_data is the database of origin: deaths, confirmed, etc...\n",
    "# N is the number of states that will be plotted, if None is True, then all of them will output\n",
    "# If the Discrete parameter is False then cummulative data will be plotted\n",
    "# reverse is set to True the min to max will be plotted\n",
    "\n",
    "def plot_max_to_min(raw_data,\n",
    "                    n = None,\n",
    "                    discrete = True,\n",
    "                    title = None,\n",
    "                    colors = None,\n",
    "                    trim = None,\n",
    "                    include_national = False,\n",
    "                    reverse = False):\n",
    "    \n",
    "    names = get_max_to_min(raw_data, include_national = include_national, reverse = reverse)[0][:n]\n",
    "    data = []\n",
    "    for name in names:\n",
    "        data.append((name,raw_data))\n",
    "        \n",
    "    if discrete:\n",
    "        \n",
    "        plot_discrete(data = data,\n",
    "                      colors = colors,\n",
    "                      title = title,\n",
    "                      trim = trim)\n",
    "    else:\n",
    "                \n",
    "        plot_cummulative(data = data,\n",
    "                         colors = colors,\n",
    "                         title = title,\n",
    "                         trim = trim)"
   ]
  },
  {
   "cell_type": "markdown",
   "metadata": {},
   "source": [
    "## Discrete states from max to min incidence"
   ]
  },
  {
   "cell_type": "code",
   "execution_count": null,
   "metadata": {},
   "outputs": [],
   "source": [
    "plot_max_to_min(raw_data = confirmed,\n",
    "                n=16,\n",
    "                discrete=True,\n",
    "                title='Mexico States with more Confirmed cases by Day',\n",
    "                trim=60,\n",
    "                reverse = False) "
   ]
  },
  {
   "cell_type": "markdown",
   "metadata": {},
   "source": [
    "## Cummulative states from max to min incidence"
   ]
  },
  {
   "cell_type": "code",
   "execution_count": null,
   "metadata": {},
   "outputs": [],
   "source": [
    "plot_max_to_min(raw_data = confirmed,\n",
    "                n=14,\n",
    "                discrete=False,\n",
    "                title='Mexico States with more Confirmed cases by Day',\n",
    "                trim=70,\n",
    "                reverse = False)"
   ]
  },
  {
   "cell_type": "markdown",
   "metadata": {},
   "source": [
    "## Cummulative states from min to max deaths"
   ]
  },
  {
   "cell_type": "code",
   "execution_count": null,
   "metadata": {},
   "outputs": [],
   "source": [
    "plot_max_to_min(raw_data = deaths,\n",
    "                n=14,\n",
    "                discrete=False,\n",
    "                title='Cummulative States with less deaths',\n",
    "                trim=0,\n",
    "                reverse = True)"
   ]
  },
  {
   "cell_type": "markdown",
   "metadata": {},
   "source": [
    "## Bar graph for all states min to max"
   ]
  },
  {
   "cell_type": "markdown",
   "metadata": {},
   "source": [
    "### Deaths"
   ]
  },
  {
   "cell_type": "code",
   "execution_count": null,
   "metadata": {},
   "outputs": [],
   "source": [
    "bar_data = get_max_to_min(deaths, include_national = False, reverse = True)\n",
    "\n",
    "plt.bar(bar_data[0],[bar_data[1][x] for x in bar_data[0]], color='r',alpha=0.5)\n",
    "plt.xticks(rotation=90,fontsize=14)\n",
    "for i in range(len(bar_data[0])):\n",
    "    value = bar_data[1][bar_data[0][i]]\n",
    "    plt.text(i-0.3, value + 25, str(value), color='black', fontweight='bold')\n",
    "plt.title('Deaths from min to max', fontsize=16)\n",
    "plt.show()"
   ]
  },
  {
   "cell_type": "markdown",
   "metadata": {},
   "source": [
    "### Confirmed"
   ]
  },
  {
   "cell_type": "code",
   "execution_count": null,
   "metadata": {},
   "outputs": [],
   "source": [
    "bar_data = get_max_to_min(confirmed, include_national = False, reverse = True)\n",
    "plt.bar(bar_data[0],[bar_data[1][x] for x in bar_data[0]], color='b',alpha=0.7, label = 'Confirmados')\n",
    "plt.xticks(rotation=90,fontsize=14)\n",
    "for i in range(len(bar_data[0])):\n",
    "    value = bar_data[1][bar_data[0][i]]\n",
    "    if i < 15:\n",
    "        plt.text(i-0.3, value + 100, str(value), color='black', fontweight='bold')\n",
    "    else:\n",
    "        plt.text(i-0.6, value + 100, str(value), color='black', fontweight='bold')\n",
    "\n",
    "plt.title('Confirmed from min to max', fontsize=16)\n",
    "plt.legend(fontsize=16)\n",
    "plt.show()"
   ]
  },
  {
   "cell_type": "markdown",
   "metadata": {},
   "source": [
    "# 2.- Patients Data"
   ]
  },
  {
   "cell_type": "markdown",
   "metadata": {},
   "source": [
    "### Cleaning the database"
   ]
  },
  {
   "cell_type": "code",
   "execution_count": 5,
   "metadata": {},
   "outputs": [],
   "source": [
    "# Eliminate data from counties column, since it lacks one term an it's useless without it\n",
    "patient_data = patient_data.drop('MUNICIPIO_RES',axis=1)"
   ]
  },
  {
   "cell_type": "markdown",
   "metadata": {},
   "source": [
    "### Renaming columns to english"
   ]
  },
  {
   "cell_type": "code",
   "execution_count": 6,
   "metadata": {},
   "outputs": [],
   "source": [
    "patient_data = patient_data.rename(columns={\"FECHA_ACTUALIZACION\":\"Updated_at\",\n",
    "                                             \"ID_REGISTRO\": \"id\",\n",
    "                                             \"ORIGEN\":\"origin\",\n",
    "                                             \"SECTOR\":\"sector\",\n",
    "                                             \"ENTIDAD_UM\": \"treated_at\",\n",
    "                                             \"SEXO\": \"sex\",\n",
    "                                             \"ENTIDAD_NAC\":\"borne_at\",\n",
    "                                             \"ENTIDAD_RES\": \"lives_at\",\n",
    "                                             \"TIPO_PACIENTE\": \"pacient_type\",\n",
    "                                             \"FECHA_INGRESO\":\"admission_date\",\n",
    "                                             \"FECHA_SINTOMAS\":\"onset_symptoms\",\n",
    "                                             \"FECHA_DEF\": \"day_of_death\",\n",
    "                                             \"INTUBADO\": \"intubated\",\n",
    "                                             \"NEUMONIA\":\"pneumonia\",\n",
    "                                             \"EDAD\":\"age\",\n",
    "                                             \"NACIONALIDAD\":\"is_mexican\",\n",
    "                                             \"EMBARAZO\":\"pregnancy\",\n",
    "                                             \"HABLA_LENGUA_INDIG\":\"speaks_dialect\",\n",
    "                                             \"DIABETES\":\"diabetes\",\n",
    "                                             \"EPOC\": \"copd\",\n",
    "                                             \"ASMA\":\"asthma\",\n",
    "                                             \"INMUSUPR\":\"immunosuppression\",\n",
    "                                             \"HIPERTENSION\":\"hypertension\",\n",
    "                                             \"OTRA_COM\":\"another_illness\",\n",
    "                                             \"CARDIOVASCULAR\":\"cardiovascular\",\n",
    "                                             \"OBESIDAD\":\"obesity\",\n",
    "                                             \"RENAL_CRONICA\":\"kidney_disease\",\n",
    "                                             \"TABAQUISMO\":\"smoker\",\n",
    "                                             \"OTRO_CASO\":\"close_to_infected\",\n",
    "                                             \"RESULTADO\":\"result\",\n",
    "                                             \"MIGRANTE\":\"migrant\",\n",
    "                                             \"PAIS_NACIONALIDAD\":\"nationality\",\n",
    "                                             \"PAIS_ORIGEN\": \"country_of_origin\",\n",
    "                                             \"UCI\":\"icu\"})"
   ]
  },
  {
   "cell_type": "markdown",
   "metadata": {},
   "source": [
    "### Data keys:"
   ]
  },
  {
   "cell_type": "code",
   "execution_count": null,
   "metadata": {},
   "outputs": [],
   "source": [
    "patient_data.keys()"
   ]
  },
  {
   "cell_type": "markdown",
   "metadata": {},
   "source": [
    "### Data sample"
   ]
  },
  {
   "cell_type": "code",
   "execution_count": null,
   "metadata": {},
   "outputs": [],
   "source": [
    "patient_data.head()"
   ]
  },
  {
   "cell_type": "markdown",
   "metadata": {},
   "source": [
    "### Loading a function to translate the codes from the data"
   ]
  },
  {
   "cell_type": "code",
   "execution_count": null,
   "metadata": {},
   "outputs": [],
   "source": [
    "from data_helpers import patient_data_keys\n",
    "# Some data is coded, for example from column:  patient_data['sector'],\n",
    "# This function takes the column name and a key to decoded\n",
    "# if the key == None, then outputs all the codes from the column"
   ]
  },
  {
   "cell_type": "code",
   "execution_count": null,
   "metadata": {},
   "outputs": [],
   "source": [
    "patient_data_keys('result',key=1)"
   ]
  },
  {
   "cell_type": "code",
   "execution_count": null,
   "metadata": {},
   "outputs": [],
   "source": [
    "patient_data_keys('sector',key=None)"
   ]
  },
  {
   "cell_type": "markdown",
   "metadata": {},
   "source": [
    "# Exploring the database"
   ]
  },
  {
   "cell_type": "markdown",
   "metadata": {},
   "source": [
    "### General subsets"
   ]
  },
  {
   "cell_type": "code",
   "execution_count": 7,
   "metadata": {},
   "outputs": [],
   "source": [
    "men = patient_data[patient_data['sex']==2]\n",
    "women = patient_data[patient_data['sex']==1]\n",
    "alive = patient_data[patient_data['day_of_death']=='9999-99-99']\n",
    "deceased = patient_data[patient_data['day_of_death']!='9999-99-99']\n",
    "deceased = deceased[deceased['result']==1]\n",
    "men_deceased = deceased[deceased['sex']==2]\n",
    "women_deceased =  deceased[deceased['sex']==1]"
   ]
  },
  {
   "cell_type": "markdown",
   "metadata": {},
   "source": [
    "## Which sector do they came from:"
   ]
  },
  {
   "cell_type": "markdown",
   "metadata": {},
   "source": [
    "## Two biggest sectors:"
   ]
  },
  {
   "cell_type": "code",
   "execution_count": null,
   "metadata": {},
   "outputs": [],
   "source": [
    "sector_bins = {key:0 for key in set(patient_data['sector'])}\n",
    "\n",
    "for sector in patient_data['sector']:\n",
    "        sector_bins[sector]+=1\n",
    "\n",
    "plt.bar(['IMSS','SSA'],[sector_bins[4],sector_bins[12]])\n",
    "plt.text('IMSS', sector_bins[4] + 1000, str(round((sector_bins[4]/len(patient_data)*100),2))+'%', color='black',fontsize=20)\n",
    "plt.text('SSA', sector_bins[12] + 1000, str(round((sector_bins[12]/len(patient_data)*100),2))+'%', color='black',fontsize=20)\n",
    "\n",
    "plt.title('Sectors with more patients',fontsize=25)\n",
    "plt.ylabel('Number of Patients', fontsize=18)\n",
    "plt.xticks(fontsize=25, fontweight='bold')\n",
    "plt.show();"
   ]
  },
  {
   "cell_type": "markdown",
   "metadata": {},
   "source": [
    "## Rest of the sectors"
   ]
  },
  {
   "cell_type": "code",
   "execution_count": null,
   "metadata": {},
   "outputs": [],
   "source": [
    "del sector_bins[4]\n",
    "del sector_bins[12]\n",
    "del sector_bins[99]\n"
   ]
  },
  {
   "cell_type": "code",
   "execution_count": null,
   "metadata": {},
   "outputs": [],
   "source": [
    "sort_dict = {}\n",
    "for key in sector_bins.keys():\n",
    "    if sector_bins[key] in sort_dict.keys():\n",
    "        sort_dict[sector_bins[key]+0.01] = key\n",
    "    else:\n",
    "        sort_dict[sector_bins[key]] = key\n",
    "sort_keys = sorted(sort_dict.keys(),reverse = False)\n",
    "\n",
    "result_dic = {sort_dict[key]: key for key in sort_keys}\n",
    "plt.bar([ patient_data_keys('sector',x) for x in list(result_dic.keys())],list(result_dic.values()))\n",
    "plt.xticks(rotation=90)"
   ]
  },
  {
   "cell_type": "code",
   "execution_count": null,
   "metadata": {},
   "outputs": [],
   "source": []
  },
  {
   "cell_type": "code",
   "execution_count": null,
   "metadata": {},
   "outputs": [],
   "source": []
  },
  {
   "cell_type": "markdown",
   "metadata": {},
   "source": [
    "## deaths From sector"
   ]
  },
  {
   "cell_type": "code",
   "execution_count": null,
   "metadata": {},
   "outputs": [],
   "source": [
    "dead_bins = {key:0 for key in set(patient_data['sector']) if key != 99}\n",
    "\n",
    "for i in deceased['sector']:\n",
    "    if i !=99:\n",
    "        dead_bins[i]+=1\n",
    "\n",
    "\n",
    "prop = {key:0 for key in set(patient_data['sector'])}\n",
    "for i in dead_bins.keys():\n",
    "    prop[i]= dead_bins[i]/sector_bins[i]\n",
    "\n",
    "plt.bar([patient_data_keys('sector',x) for x in list(prop.keys())],list(prop.values()))\n",
    "plt.xticks(rotation=90)"
   ]
  },
  {
   "cell_type": "markdown",
   "metadata": {},
   "source": [
    "## Active Infections"
   ]
  },
  {
   "cell_type": "code",
   "execution_count": null,
   "metadata": {},
   "outputs": [],
   "source": [
    "from data_helpers import get_cummulative_actives\n",
    "# This function gets a cummulative record for infected patients using a defaul window of 14 days for infection:\n",
    "# get_cummulative_actives(patient_data,'state name',window = 14)"
   ]
  },
  {
   "cell_type": "markdown",
   "metadata": {},
   "source": [
    "## State Infections by any particular day"
   ]
  },
  {
   "cell_type": "code",
   "execution_count": null,
   "metadata": {},
   "outputs": [],
   "source": [
    "# First get the cummulative data for state actives\n",
    "some_data = get_cummulative_actives(women_deceased,'National',14)"
   ]
  },
  {
   "cell_type": "code",
   "execution_count": null,
   "metadata": {},
   "outputs": [],
   "source": [
    "# And locate the particular date ('aaaa-mm-dd'):\n",
    "some_data.loc['2020-05-21']"
   ]
  },
  {
   "cell_type": "markdown",
   "metadata": {},
   "source": [
    "### Plotting Active infections"
   ]
  },
  {
   "cell_type": "code",
   "execution_count": null,
   "metadata": {},
   "outputs": [],
   "source": [
    "def plt_actives(data,names,trim=0):\n",
    "    plt.rcParams[\"figure.figsize\"] = (15,7)\n",
    "    \n",
    "    first_day = min([min(x.index) for x in data])\n",
    "    last_day = max([max(x.index) for x in data])\n",
    "    \n",
    "    new_index = pd.date_range(start=first_day, end=last_day)\n",
    "    \n",
    "    for ind, dataframe in enumerate(data):\n",
    "        if len(dataframe) != len(new_index):\n",
    "            plt.plot([str(x)[5:11] for x in new_index],[0]*(len(new_index)-len(dataframe))+list(dataframe['actives']),label=names[ind])\n",
    "        else:\n",
    "            plt.plot([str(x)[5:11] for x in new_index],dataframe['actives'],label=names[ind])\n",
    "    \n",
    "    plt.xticks(rotation=90, fontsize=12)\n",
    "    plt.xlim(trim,)\n",
    "    plt.legend(fontsize=14)\n",
    "    plt.show();\n",
    "    "
   ]
  },
  {
   "cell_type": "markdown",
   "metadata": {},
   "source": [
    "## National Actives"
   ]
  },
  {
   "cell_type": "code",
   "execution_count": null,
   "metadata": {},
   "outputs": [],
   "source": [
    "plt_actives([state_data],['National'],trim=60)"
   ]
  },
  {
   "cell_type": "markdown",
   "metadata": {},
   "source": [
    "## States max to min Active infections "
   ]
  },
  {
   "cell_type": "code",
   "execution_count": null,
   "metadata": {},
   "outputs": [],
   "source": [
    "mexico_oaxaca = [get_cummulative_actives(patient_data, x, 14) for x in ['CIUDAD DE MÉXICO','OAXACA','AGUASCALIENTES','PUEBLA','MORELOS']]\n",
    "plt_actives(mexico_oaxaca,['CIUDAD DE MÉXICO','OAXACA','AGUASCALIENTES','PUEBLA','MORELOS'],trim=50)"
   ]
  },
  {
   "cell_type": "markdown",
   "metadata": {},
   "source": [
    "## States min to max Active infections "
   ]
  },
  {
   "cell_type": "code",
   "execution_count": null,
   "metadata": {},
   "outputs": [],
   "source": [
    "min_max_states = get_max_to_min(patient_data, include_national = False, reverse = True, patient_data = True)[0][:10]\n",
    "plot_max_min = [get_cummulative_actives(patient_data, x, 14) for x in min_max_states]\n",
    "\n",
    "plt_actives(plot_max_min ,min_max_states, trim=20)"
   ]
  },
  {
   "cell_type": "markdown",
   "metadata": {},
   "source": [
    "## Age and Sex descriptions"
   ]
  },
  {
   "cell_type": "markdown",
   "metadata": {},
   "source": [
    "### Men vs Women active"
   ]
  },
  {
   "cell_type": "code",
   "execution_count": null,
   "metadata": {},
   "outputs": [],
   "source": [
    "men_active = get_cummulative_actives(men,'National',14)\n",
    "women_active = get_cummulative_actives(women,'National',14)"
   ]
  },
  {
   "cell_type": "code",
   "execution_count": null,
   "metadata": {},
   "outputs": [],
   "source": [
    "plt_actives([men_active,women_active] ,['Men','Women'], trim=60)"
   ]
  },
  {
   "cell_type": "markdown",
   "metadata": {},
   "source": [
    "### Plotting Age for general population"
   ]
  },
  {
   "cell_type": "code",
   "execution_count": null,
   "metadata": {},
   "outputs": [],
   "source": [
    "patient_data['age'].hist(bins=60)\n",
    "plt.axvline(x=patient_data['age'].mean(),linewidth=4, color='r',label=f'Mean Age: {int(patient_data[\"age\"].mean())}')\n",
    "plt.title('Age frequency for general population',fontsize=20)\n",
    "plt.xlim(0,100)\n",
    "plt.xticks(fontsize=14)\n",
    "plt.yticks(fontsize=14)\n",
    "\n",
    "plt.legend(fontsize=14)\n",
    "plt.show();"
   ]
  },
  {
   "cell_type": "markdown",
   "metadata": {},
   "source": [
    "###  Plotting Men and Women Proportion"
   ]
  },
  {
   "cell_type": "code",
   "execution_count": null,
   "metadata": {},
   "outputs": [],
   "source": [
    "plt.close('all')\n",
    "labels = 'Men', 'Women'\n",
    "sizes = [len(men),len(women)]\n",
    "colors = ['b', 'r']\n",
    "\n",
    "plt.pie(sizes,labels=labels, colors=colors,\n",
    "        autopct='%1.1f%%', startangle=140,\n",
    "        textprops={'fontsize': 20,'color':'white','weight':'bold'},\n",
    "       shadow=True)\n",
    "\n",
    "plt.title(f'Men and Women proportion',fontsize=20)\n",
    "plt.legend(fontsize=20)\n",
    "plt.axis('equal')\n",
    "plt.show();"
   ]
  },
  {
   "cell_type": "markdown",
   "metadata": {},
   "source": [
    "### Plotting Man and Women Age frequency"
   ]
  },
  {
   "cell_type": "code",
   "execution_count": null,
   "metadata": {},
   "outputs": [],
   "source": [
    "men.age.hist(bins=60,alpha=0.4,label='Men',color='b')\n",
    "plt.axvline(x=men.age.mean(),linewidth=4, color='b',label=f'Mean Age fo Men: {int(men[\"age\"].mean())}')\n",
    "women.age.hist(bins=60,alpha=0.4,label='Women',color='r')\n",
    "plt.axvline(x=women.age.mean(),linewidth=4, color='r',label=f'Mean Age fo Women: {int(women[\"age\"].mean())}')\n",
    "\n",
    "plt.title('Age frequency for men and women',fontsize=20)\n",
    "plt.xlim(0,100)\n",
    "plt.xticks(fontsize=14)\n",
    "plt.yticks(fontsize=14)\n",
    "\n",
    "plt.legend(fontsize=14)\n",
    "plt.show();"
   ]
  },
  {
   "cell_type": "markdown",
   "metadata": {},
   "source": [
    "### Plotting Deceased Age frequency"
   ]
  },
  {
   "cell_type": "code",
   "execution_count": null,
   "metadata": {},
   "outputs": [],
   "source": [
    "plt.close('all')\n",
    "deceased['age'].hist(bins=60)\n",
    "plt.axvline(x=deceased['age'].mean(),linewidth=4, color='r',label=f'Mean Age: {int(deceased[\"age\"].mean())}')\n",
    "\n",
    "plt.title('Deceased Age frequency for general Population',fontsize=20)\n",
    "plt.xlim(0,100)\n",
    "plt.xticks(fontsize=14)\n",
    "plt.yticks(fontsize=14)\n",
    "\n",
    "plt.legend(fontsize=14)\n",
    "plt.show();"
   ]
  },
  {
   "cell_type": "markdown",
   "metadata": {},
   "source": [
    "### Plotting Alive vs Deceased Age frequency"
   ]
  },
  {
   "cell_type": "code",
   "execution_count": null,
   "metadata": {},
   "outputs": [],
   "source": [
    "plt.close('all')\n",
    "\n",
    "alive['age'].hist(bins=80,alpha=0.5)\n",
    "plt.axvline(x=alive['age'].mean(),linewidth=4, color='b',label=f'Mean Alive Age: {int(alive[\"age\"].mean())}')\n",
    "\n",
    "deceased['age'].hist(bins=60,color='r')\n",
    "plt.axvline(x=deceased['age'].mean(),linewidth=4, color='r',label=f'Mean Deceased Age: {int(deceased[\"age\"].mean())}')\n",
    "\n",
    "plt.title('Alive vs Deceased Age frequency for general Population',fontsize=20)\n",
    "plt.xlim(0,100)\n",
    "plt.ylim(0,1500)\n",
    "\n",
    "plt.xticks(fontsize=14)\n",
    "plt.yticks(fontsize=14)\n",
    "\n",
    "plt.legend(fontsize=14)\n",
    "plt.show();"
   ]
  },
  {
   "cell_type": "markdown",
   "metadata": {},
   "source": [
    "###  Plotting Woman vs Men Decease Age"
   ]
  },
  {
   "cell_type": "code",
   "execution_count": null,
   "metadata": {},
   "outputs": [],
   "source": [
    "plt.close('all')\n",
    "\n",
    "men_deceased['age'].hist(bins=110,alpha=0.5)\n",
    "plt.axvline(x=men_deceased['age'].mean(),linewidth=4, color='b',label=f'Mean for men Deceased Age: {int(men_deceased[\"age\"].mean())}')\n",
    "\n",
    "women_deceased['age'].hist(bins=100,color='r',alpha=0.5)\n",
    "plt.axvline(x=women_deceased['age'].mean(),linewidth=4, color='r',label=f'Mean for Woman Deceased Age: {int(women_deceased[\"age\"].mean())}')\n",
    "\n",
    "plt.title('Men vs Woman Deceased Age frequency for general Population',fontsize=20)\n",
    "plt.xlim(0,100)\n",
    "plt.ylim(0,200)\n",
    "\n",
    "plt.xticks(fontsize=14)\n",
    "plt.yticks(fontsize=14)\n",
    "\n",
    "plt.legend(fontsize=14)\n",
    "plt.show();"
   ]
  },
  {
   "cell_type": "markdown",
   "metadata": {},
   "source": [
    "###  Probaility Density for women and men decease"
   ]
  },
  {
   "cell_type": "code",
   "execution_count": null,
   "metadata": {},
   "outputs": [],
   "source": [
    "plt.close('all')\n",
    "sns.kdeplot(men_deceased['age'], label='MEN',shade = True)\n",
    "sns.kdeplot(women_deceased['age'],label = 'WOMEN',shade= True)\n",
    "plt.show()"
   ]
  },
  {
   "cell_type": "markdown",
   "metadata": {},
   "source": [
    "### Checking if there are significative differences between the two samples"
   ]
  },
  {
   "cell_type": "code",
   "execution_count": null,
   "metadata": {},
   "outputs": [],
   "source": [
    "# T test for independen samples, to see if the two distributions are the same\n",
    "from scipy.stats import ttest_ind\n",
    "# Implements Cohens Difference to see how far away are the two samples\n",
    "from data_helpers import cohens_d\n",
    "\n",
    "_, pv = ttest_ind(men_deceased['age'], women_deceased['age'])\n",
    "\n",
    "if pv < 0.01:\n",
    "    print(f'The two samples are distinct, alpha = {pv}')\n",
    "else:\n",
    "    print('There is not difference between samples')\n",
    "\n",
    "difference_between_samples = round(cohens_d(men_deceased['age'], women_deceased['age']),2)\n",
    "\n",
    "print(f'Men are {difference_between_samples} stds away from Women')\n"
   ]
  },
  {
   "cell_type": "markdown",
   "metadata": {},
   "source": [
    "## Proportion of deaths by age filtered by sex"
   ]
  },
  {
   "cell_type": "markdown",
   "metadata": {},
   "source": [
    "### Getting the Histogram data"
   ]
  },
  {
   "cell_type": "code",
   "execution_count": null,
   "metadata": {},
   "outputs": [],
   "source": [
    "# This function takes an array of ages and outputs a dictionary for plotting an histogram:\n",
    "# get_age_bins(data,bin_size)\n",
    "from data_helpers import get_age_bins\n",
    "\n",
    "ages_freq_dead_men = get_age_bins(men_deceased, bin_size = 5)\n",
    "ages_freq_dead_women = get_age_bins(women_deceased, bin_size = 5)\n",
    "age_freq_men = get_age_bins(men, bin_size = 5)\n",
    "age_freq_women = get_age_bins(women, bin_size = 5)"
   ]
  },
  {
   "cell_type": "markdown",
   "metadata": {},
   "source": [
    "### Calculating the proportions"
   ]
  },
  {
   "cell_type": "code",
   "execution_count": null,
   "metadata": {},
   "outputs": [],
   "source": [
    "# This function takes the histogram for general population and the filtered one,\n",
    "# returns an histogram with proportion of the filtered data in relation to the general population\n",
    "# get_proportions(filtered_histogram, general_patients_histogram)\n",
    "from data_helpers import get_proportions\n",
    "\n",
    "death_proportions_men = get_proportions(ages_freq_dead_men, age_freq_men)\n",
    "death_proportions_women = get_proportions(ages_freq_dead_women, age_freq_women)"
   ]
  },
  {
   "cell_type": "markdown",
   "metadata": {},
   "source": [
    "## Plotting proportion of deaths by age (men and women)"
   ]
  },
  {
   "cell_type": "code",
   "execution_count": null,
   "metadata": {
    "scrolled": false
   },
   "outputs": [],
   "source": [
    "plt.close('all')\n",
    "fig, axs = plt.subplots(2,figsize=(16,10))\n",
    "plt.subplots_adjust(hspace=0.5) \n",
    "\n",
    "axs[0].bar(list(death_proportions_men.keys()),list(death_proportions_men.values()))\n",
    "axs[0].set_ylabel('% Percentage of all patients', fontsize = 16)\n",
    "axs[0].set_title('Men Proportions of death by age',fontsize=20)\n",
    "for i in range(23):\n",
    "    value = round(list(death_proportions_men.values())[i],2)\n",
    "    if value == 0:\n",
    "        continue\n",
    "    else:\n",
    "        axs[0].text(i-0.3, value + 1, str(value), color='black', fontweight='bold')\n",
    "\n",
    "axs[1].bar(list(death_proportions_women.keys()),list(death_proportions_women.values()),color='r',alpha=0.5)\n",
    "axs[1].set_ylim(0,25)\n",
    "axs[1].set_title('Women Proportions of death by age',fontsize=20)\n",
    "axs[1].set_ylabel('% Percentage of all patients', fontsize = 16)\n",
    "axs[1].set_xlim(0,23)\n",
    "for i in range(23):\n",
    "    value = round(list(death_proportions_women.values())[i],2)\n",
    "    if value == 0:\n",
    "        continue\n",
    "    else:\n",
    "        axs[1].text(i-0.3, value + 1, str(value), color='black', fontweight='bold')\n",
    "\n",
    "for ax in fig.axes:\n",
    "    plt.sca(ax)\n",
    "    plt.xticks(rotation=90,fontsize=14)\n",
    "plt.show()"
   ]
  },
  {
   "cell_type": "markdown",
   "metadata": {},
   "source": [
    "## Exploring the frequency of Ilness in deceased vs alive patients"
   ]
  },
  {
   "cell_type": "markdown",
   "metadata": {},
   "source": [
    "### Generating subsets of data"
   ]
  },
  {
   "cell_type": "code",
   "execution_count": 8,
   "metadata": {},
   "outputs": [],
   "source": [
    "deceased_illness = deceased[['pneumonia','diabetes', 'copd', 'asthma','intubated',\n",
    "                               'immunosuppression', 'hypertension',\n",
    "                               'cardiovascular', 'obesity', 'kidney_disease',\n",
    "                               'smoker','sex']]\n",
    "alive_illness = alive[['pneumonia','diabetes', 'copd', 'asthma','intubated',\n",
    "                               'immunosuppression', 'hypertension',\n",
    "                               'cardiovascular', 'obesity', 'kidney_disease',\n",
    "                               'smoker','sex']]\n",
    "man_deceased_illness   = deceased_illness[deceased_illness['sex']==1]\n",
    "woman_deceased_illness = deceased_illness[deceased_illness['sex']==2]\n",
    "alive_man_illness      = alive_illness[alive_illness['sex']==1]\n",
    "alive_woman_illness    = alive_illness[alive_illness['sex']==2]\n",
    "\n",
    "man_deceased_illness   = man_deceased_illness.drop('sex',axis = 1).replace([97,98,99],2)\n",
    "woman_deceased_illness = woman_deceased_illness.drop('sex',axis = 1).replace([97,98,99],2)\n",
    "alive_man_illness      = alive_man_illness.drop('sex',axis = 1).replace([97,98,99],2)\n",
    "alive_woman_illness    = alive_woman_illness.drop('sex',axis = 1).replace([97,98,99],2)\n",
    "deceased_illness = deceased_illness.drop('sex',axis = 1).replace([97,98,99],2)\n",
    "alive_illness = alive_illness.drop('sex',axis = 1).replace([97,98,99],2)\n",
    "\n"
   ]
  },
  {
   "cell_type": "markdown",
   "metadata": {},
   "source": [
    "## Younger dead patients"
   ]
  },
  {
   "cell_type": "code",
   "execution_count": null,
   "metadata": {},
   "outputs": [],
   "source": [
    "younger_40 = patient_data[patient_data['result']==1]"
   ]
  },
  {
   "cell_type": "code",
   "execution_count": null,
   "metadata": {},
   "outputs": [],
   "source": [
    "younger_40 = patient_data[patient_data['day_of_death']!='9999-99-99']"
   ]
  },
  {
   "cell_type": "code",
   "execution_count": null,
   "metadata": {},
   "outputs": [],
   "source": [
    "younger_40 = younger_40[['pneumonia','diabetes', 'copd', 'asthma',\n",
    "                               'immunosuppression', 'hypertension',\n",
    "                               'cardiovascular', 'obesity', 'kidney_disease',\n",
    "                               'smoker']]"
   ]
  },
  {
   "cell_type": "code",
   "execution_count": null,
   "metadata": {},
   "outputs": [],
   "source": [
    "younger_40"
   ]
  },
  {
   "cell_type": "code",
   "execution_count": null,
   "metadata": {},
   "outputs": [],
   "source": [
    "patient_data_keys('result')"
   ]
  },
  {
   "cell_type": "markdown",
   "metadata": {},
   "source": [
    "### Man Proportions of Ilness, deceased vs Alive"
   ]
  },
  {
   "cell_type": "code",
   "execution_count": null,
   "metadata": {},
   "outputs": [],
   "source": [
    "from data_helpers import get_illness_proportions"
   ]
  },
  {
   "cell_type": "code",
   "execution_count": null,
   "metadata": {},
   "outputs": [],
   "source": [
    "mdp = get_illness_proportions(man_deceased_illness)\n",
    "wdp = get_illness_proportions(woman_deceased_illness)\n",
    "malp = get_illness_proportions(alive_man_illness)\n",
    "walp = get_illness_proportions(alive_woman_illness)\n",
    "younger = get_illness_proportions(younger_40)"
   ]
  },
  {
   "cell_type": "markdown",
   "metadata": {},
   "source": [
    "## Man alive vs dead illness proportion"
   ]
  },
  {
   "cell_type": "code",
   "execution_count": null,
   "metadata": {},
   "outputs": [],
   "source": [
    "plt.close('all')\n",
    "plt.bar(list(younger.keys()),list(younger.values()), label = 'younger Men', color ='r')\n",
    "\n",
    "for ind, i in enumerate(younger.keys()):\n",
    "    plt.text(ind-0.2, younger[i] + 1, str(round(younger[i],2)), color='black', fontweight='bold',fontsize=14)\n",
    "    \n",
    "plt.xticks(rotation=90,fontsize=16)\n",
    "plt.legend(fontsize=15)\n",
    "plt.show()"
   ]
  },
  {
   "cell_type": "code",
   "execution_count": null,
   "metadata": {
    "scrolled": false
   },
   "outputs": [],
   "source": [
    "plt.close('all')\n",
    "plt.bar(list(mdp.keys()),list(mdp.values()), label = 'Deceased Men', color ='r')\n",
    "plt.bar(list(mdp.keys()),list(malp.values()), label = 'Alive Men', color ='b')\n",
    "\n",
    "\n",
    "for ind, i in enumerate(mdp.keys()):\n",
    "    plt.text(ind-0.2, mdp[i] + 1, str(round(mdp[i],2)), color='black', fontweight='bold',fontsize=14)\n",
    "    \n",
    "plt.xticks(rotation=90,fontsize=16)\n",
    "plt.legend(fontsize=15)\n",
    "plt.show()"
   ]
  },
  {
   "cell_type": "markdown",
   "metadata": {},
   "source": [
    "## Women alive vs dead illness proportion"
   ]
  },
  {
   "cell_type": "code",
   "execution_count": null,
   "metadata": {},
   "outputs": [],
   "source": [
    "plt.close('all')\n",
    "plt.bar(list(wdp.keys()),list(wdp.values()), label = 'Deceased Women', color ='r')\n",
    "plt.bar(list(wdp.keys()),list(walp.values()), label = 'Alive Women', color ='b')\n",
    "\n",
    "\n",
    "for ind, i in enumerate(wdp.keys()):\n",
    "    plt.text(ind-0.2, wdp[i] + 1, str(round(wdp[i],2)), color='black', fontweight='bold',fontsize=14)\n",
    "    \n",
    "plt.xticks(rotation=90,fontsize=16)\n",
    "plt.legend(fontsize=15)\n",
    "plt.show()"
   ]
  },
  {
   "cell_type": "code",
   "execution_count": null,
   "metadata": {},
   "outputs": [],
   "source": []
  },
  {
   "cell_type": "code",
   "execution_count": null,
   "metadata": {},
   "outputs": [],
   "source": []
  },
  {
   "cell_type": "code",
   "execution_count": null,
   "metadata": {},
   "outputs": [],
   "source": []
  },
  {
   "cell_type": "code",
   "execution_count": null,
   "metadata": {},
   "outputs": [],
   "source": []
  },
  {
   "cell_type": "code",
   "execution_count": null,
   "metadata": {},
   "outputs": [],
   "source": [
    "stoping the flow so the next does not run"
   ]
  },
  {
   "cell_type": "code",
   "execution_count": null,
   "metadata": {},
   "outputs": [],
   "source": [
    "patient_data_keys('sex')"
   ]
  },
  {
   "cell_type": "code",
   "execution_count": 9,
   "metadata": {},
   "outputs": [],
   "source": [
    "deceased_illness = deceased[['diabetes', 'copd', 'asthma',\n",
    "                               'immunosuppression', 'hypertension',\n",
    "                               'cardiovascular', 'obesity', 'kidney_disease',\n",
    "                               'smoker']]\n",
    "alive_illness = alive[['diabetes', 'copd', 'asthma',\n",
    "                               'immunosuppression', 'hypertension',\n",
    "                               'cardiovascular', 'obesity', 'kidney_disease',\n",
    "                               'smoker']]\n",
    "\n",
    "deceased_illness = deceased_illness.replace(2,0)\n",
    "alive_illness = alive_illness.replace(2,0)\n",
    "\n",
    "y_deceased = np.ones(len(deceased_illness))\n",
    "y_alive = np.zeros(len(alive_illness))\n",
    "\n",
    "deceased_illness['result'] = y_deceased\n",
    "\n",
    "alive_illness['result'] = y_alive\n",
    "\n",
    "all_data = pd.concat([deceased_illness,alive_illness])\n",
    "\n",
    "y = all_data['result']\n",
    "\n",
    "all_data = all_data.drop('result',axis=1)\n"
   ]
  },
  {
   "cell_type": "code",
   "execution_count": null,
   "metadata": {},
   "outputs": [],
   "source": [
    "all_data"
   ]
  },
  {
   "cell_type": "code",
   "execution_count": null,
   "metadata": {},
   "outputs": [],
   "source": [
    "all_data"
   ]
  },
  {
   "cell_type": "markdown",
   "metadata": {},
   "source": [
    "# Selecting Feature importance"
   ]
  },
  {
   "cell_type": "code",
   "execution_count": 10,
   "metadata": {},
   "outputs": [],
   "source": [
    "X = all_data\n",
    "y = y"
   ]
  },
  {
   "cell_type": "code",
   "execution_count": 11,
   "metadata": {},
   "outputs": [],
   "source": [
    "from sklearn.model_selection import train_test_split "
   ]
  },
  {
   "cell_type": "code",
   "execution_count": 12,
   "metadata": {},
   "outputs": [],
   "source": [
    "X_train, X_test, y_train, y_test = train_test_split(X, y, test_size=0.33, random_state=42)"
   ]
  },
  {
   "cell_type": "code",
   "execution_count": 13,
   "metadata": {},
   "outputs": [],
   "source": [
    "from sklearn.svm import SVC\n",
    "from sklearn.feature_selection import RFE\n",
    "from sklearn.tree import DecisionTreeRegressor, DecisionTreeClassifier\n",
    "from sklearn.neighbors import KNeighborsClassifier, KNeighborsRegressor\n",
    "from sklearn.ensemble import RandomForestRegressor, RandomForestClassifier\n",
    "from sklearn.inspection import permutation_importance\n",
    "from sklearn.linear_model import LinearRegression, LogisticRegression\n",
    "from sklearn.datasets import load_digits, make_regression, make_classification\n",
    "from xgboost import XGBClassifier, XGBRegressor\n",
    "from xgboost import plot_importance"
   ]
  },
  {
   "cell_type": "markdown",
   "metadata": {},
   "source": [
    "### SVC"
   ]
  },
  {
   "cell_type": "code",
   "execution_count": null,
   "metadata": {},
   "outputs": [],
   "source": [
    "# Create the RFE object and rank each pixel\n",
    "svc = SVC(kernel=\"linear\", C=1)\n",
    "rfe = RFE(estimator=svc, n_features_to_select=1, step=1)\n",
    "rfe.fit(X_train, y_train)\n",
    "#ranking = rfe.ranking_.reshape(digits.images[0].shape)\n",
    "# Plot pixel ranking\n",
    "plt.bar(range(0,len(rfe.ranking_)),rfe.ranking_)\n",
    "plt.title(\"Ranking of pixels with RFE\")\n",
    "plt.xticks(range(0,len(rfe.ranking_)),all_data.keys(),rotation=90, fontsize=16)\n",
    "plt.show()"
   ]
  },
  {
   "cell_type": "code",
   "execution_count": null,
   "metadata": {},
   "outputs": [],
   "source": [
    "X.keys()"
   ]
  },
  {
   "cell_type": "markdown",
   "metadata": {},
   "source": [
    "## Linear Regression"
   ]
  },
  {
   "cell_type": "code",
   "execution_count": 14,
   "metadata": {},
   "outputs": [
    {
     "name": "stdout",
     "output_type": "stream",
     "text": [
      "Feature: 0, Score: 0.00068\n",
      "Feature: 1, Score: 0.00019\n",
      "Feature: 2, Score: -0.00089\n",
      "Feature: 3, Score: -0.00031\n",
      "Feature: 4, Score: 0.00020\n",
      "Feature: 5, Score: -0.00005\n",
      "Feature: 6, Score: 0.00144\n",
      "Feature: 7, Score: 0.00035\n",
      "Feature: 8, Score: -0.00067\n"
     ]
    },
    {
     "data": {
      "image/png": "[encoded data removed]",
      "text/plain": [
       "<Figure size 432x288 with 1 Axes>"
      ]
     },
     "metadata": {
      "needs_background": "light"
     },
     "output_type": "display_data"
    }
   ],
   "source": [
    "LinReg_model = LinearRegression()\n",
    "# fit the model\n",
    "LinReg_model.fit(X_train, y_train)\n",
    "# get importance\n",
    "importance = LinReg_model.coef_\n",
    "# summarize feature importance\n",
    "for i,v in enumerate(importance):\n",
    "    print('Feature: %0d, Score: %.5f' % (i,v))\n",
    "# plot feature importance\n",
    "plt.bar([x for x in range(len(importance))], importance)\n",
    "plt.xticks([x for x in range(len(importance))],all_data.keys(),rotation=90, fontsize=16)\n",
    "plt.show()"
   ]
  },
  {
   "cell_type": "markdown",
   "metadata": {},
   "source": [
    "## Logistic Regression"
   ]
  },
  {
   "cell_type": "code",
   "execution_count": 15,
   "metadata": {},
   "outputs": [
    {
     "name": "stdout",
     "output_type": "stream",
     "text": [
      "Feature: 0, Score: 0.01137\n",
      "Feature: 1, Score: 0.00444\n",
      "Feature: 2, Score: -0.01363\n",
      "Feature: 3, Score: -0.00878\n",
      "Feature: 4, Score: 0.00424\n",
      "Feature: 5, Score: -0.00149\n",
      "Feature: 6, Score: 0.01999\n",
      "Feature: 7, Score: 0.00716\n",
      "Feature: 8, Score: -0.01050\n"
     ]
    },
    {
     "data": {
      "image/png": "[encoded data removed]",
      "text/plain": [
       "<Figure size 432x288 with 1 Axes>"
      ]
     },
     "metadata": {
      "needs_background": "light"
     },
     "output_type": "display_data"
    }
   ],
   "source": [
    "LogReg_model = LogisticRegression()\n",
    "# fit the model\n",
    "LogReg_model.fit(X_train, y_train)\n",
    "# get importance\n",
    "importance = LogReg_model.coef_[0]\n",
    "# summarize feature importance\n",
    "for i,v in enumerate(importance):\n",
    "\tprint('Feature: %0d, Score: %.5f' % (i,v))\n",
    "# plot feature importance\n",
    "plt.bar([x for x in range(len(importance))], importance)\n",
    "plt.xticks([x for x in range(len(importance))],X.keys(),rotation=90, fontsize=16)\n",
    "plt.show()"
   ]
  },
  {
   "cell_type": "markdown",
   "metadata": {
    "scrolled": true
   },
   "source": [
    "## Descicion Tree"
   ]
  },
  {
   "cell_type": "code",
   "execution_count": 16,
   "metadata": {},
   "outputs": [
    {
     "name": "stdout",
     "output_type": "stream",
     "text": [
      "Feature: 0, Score: 0.50855\n",
      "Feature: 1, Score: 0.04289\n",
      "Feature: 2, Score: 0.02070\n",
      "Feature: 3, Score: 0.03643\n",
      "Feature: 4, Score: 0.17016\n",
      "Feature: 5, Score: 0.03511\n",
      "Feature: 6, Score: 0.09340\n",
      "Feature: 7, Score: 0.03536\n",
      "Feature: 8, Score: 0.05741\n"
     ]
    },
    {
     "data": {
      "image/png": "[encoded data removed]",
      "text/plain": [
       "<Figure size 432x288 with 1 Axes>"
      ]
     },
     "metadata": {
      "needs_background": "light"
     },
     "output_type": "display_data"
    }
   ],
   "source": [
    "DesTree_model = DecisionTreeRegressor()\n",
    "# fit the model\n",
    "DesTree_model.fit(X_train, y_train)\n",
    "# get importance\n",
    "importance = DesTree_model.feature_importances_\n",
    "# summarize feature importance\n",
    "for i,v in enumerate(importance):\n",
    "\tprint('Feature: %0d, Score: %.5f' % (i,v))\n",
    "# plot feature importance\n",
    "plt.bar([x for x in range(len(importance))], importance)\n",
    "plt.xticks([x for x in range(len(importance))],X.keys(),rotation=90, fontsize=16)\n",
    "plt.show()"
   ]
  },
  {
   "cell_type": "code",
   "execution_count": null,
   "metadata": {},
   "outputs": [],
   "source": [
    "X.keys()"
   ]
  },
  {
   "cell_type": "code",
   "execution_count": 17,
   "metadata": {},
   "outputs": [
    {
     "name": "stdout",
     "output_type": "stream",
     "text": [
      "Feature: 0, Score: 0.50714\n",
      "Feature: 1, Score: 0.03989\n",
      "Feature: 2, Score: 0.02387\n",
      "Feature: 3, Score: 0.03493\n",
      "Feature: 4, Score: 0.16342\n",
      "Feature: 5, Score: 0.03656\n",
      "Feature: 6, Score: 0.10111\n",
      "Feature: 7, Score: 0.03534\n",
      "Feature: 8, Score: 0.05774\n"
     ]
    },
    {
     "data": {
      "image/png": "[encoded data removed]",
      "text/plain": [
       "<Figure size 432x288 with 1 Axes>"
      ]
     },
     "metadata": {
      "needs_background": "light"
     },
     "output_type": "display_data"
    }
   ],
   "source": [
    "# define the model\n",
    "DesTreeClass_model = DecisionTreeClassifier()\n",
    "# fit the model\n",
    "DesTreeClass_model.fit(X_train, y_train)\n",
    "# get importance\n",
    "importance = DesTreeClass_model.feature_importances_\n",
    "# summarize feature importance\n",
    "for i,v in enumerate(importance):\n",
    "    print('Feature: %0d, Score: %.5f' % (i,v))\n",
    "# plot feature importance\n",
    "plt.bar([x for x in range(len(importance))], importance)\n",
    "plt.xticks([x for x in range(len(importance))],X.keys(),rotation=90, fontsize=16)\n",
    "plt.show()"
   ]
  },
  {
   "cell_type": "markdown",
   "metadata": {},
   "source": [
    "## RandomForest"
   ]
  },
  {
   "cell_type": "code",
   "execution_count": 18,
   "metadata": {
    "scrolled": false
   },
   "outputs": [
    {
     "name": "stdout",
     "output_type": "stream",
     "text": [
      "Feature: 0, Score: 0.46677\n",
      "Feature: 1, Score: 0.05145\n",
      "Feature: 2, Score: 0.03440\n",
      "Feature: 3, Score: 0.04353\n",
      "Feature: 4, Score: 0.15800\n",
      "Feature: 5, Score: 0.04948\n",
      "Feature: 6, Score: 0.10190\n",
      "Feature: 7, Score: 0.03892\n",
      "Feature: 8, Score: 0.05556\n"
     ]
    },
    {
     "data": {
      "image/png": "[encoded data removed]",
      "text/plain": [
       "<Figure size 432x288 with 1 Axes>"
      ]
     },
     "metadata": {
      "needs_background": "light"
     },
     "output_type": "display_data"
    }
   ],
   "source": [
    "RanFoRe_model = RandomForestRegressor()\n",
    "# fit the model\n",
    "RanFoRe_model.fit(X_train, y_train)\n",
    "# get importance\n",
    "importance = RanFoRe_model.feature_importances_\n",
    "# summarize feature importance\n",
    "for i,v in enumerate(importance):\n",
    "    print('Feature: %0d, Score: %.5f' % (i,v))\n",
    "# plot feature importance\n",
    "plt.bar([x for x in range(len(importance))], importance)\n",
    "plt.xticks([x for x in range(len(importance))],X.keys(),rotation=90, fontsize=16)\n",
    "plt.show()"
   ]
  },
  {
   "cell_type": "code",
   "execution_count": null,
   "metadata": {},
   "outputs": [],
   "source": [
    "X.keys()"
   ]
  },
  {
   "cell_type": "code",
   "execution_count": 19,
   "metadata": {
    "scrolled": false
   },
   "outputs": [
    {
     "name": "stdout",
     "output_type": "stream",
     "text": [
      "Feature: 0, Score: 0.36311\n",
      "Feature: 1, Score: 0.06316\n",
      "Feature: 2, Score: 0.03339\n",
      "Feature: 3, Score: 0.03941\n",
      "Feature: 4, Score: 0.22923\n",
      "Feature: 5, Score: 0.04915\n",
      "Feature: 6, Score: 0.10818\n",
      "Feature: 7, Score: 0.06528\n",
      "Feature: 8, Score: 0.04909\n"
     ]
    },
    {
     "data": {
      "image/png": "[encoded data removed]",
      "text/plain": [
       "<Figure size 432x288 with 1 Axes>"
      ]
     },
     "metadata": {
      "needs_background": "light"
     },
     "output_type": "display_data"
    }
   ],
   "source": [
    "RFoClas_model = RandomForestClassifier()\n",
    "# fit the model\n",
    "RFoClas_model.fit(X_train, y_train)\n",
    "# get importance\n",
    "importance = RFoClas_model.feature_importances_\n",
    "# summarize feature importance\n",
    "for i,v in enumerate(importance):\n",
    "    print('Feature: %0d, Score: %.5f' % (i,v))\n",
    "# plot feature importance\n",
    "plt.bar([x for x in range(len(importance))], importance)\n",
    "plt.xticks([x for x in range(len(importance))],X.keys(),rotation=90, fontsize=16)\n",
    "plt.show()"
   ]
  },
  {
   "cell_type": "markdown",
   "metadata": {},
   "source": [
    "## XGBRegressor"
   ]
  },
  {
   "cell_type": "code",
   "execution_count": null,
   "metadata": {},
   "outputs": [],
   "source": []
  },
  {
   "cell_type": "code",
   "execution_count": 20,
   "metadata": {
    "scrolled": false
   },
   "outputs": [
    {
     "name": "stdout",
     "output_type": "stream",
     "text": [
      "[19:04:35] WARNING: C:/Jenkins/workspace/xgboost-win64_release_0.90/src/objective/regression_obj.cu:152: reg:linear is now deprecated in favor of reg:squarederror.\n",
      "Feature: 0, Score: 0.67243\n",
      "Feature: 1, Score: 0.02900\n",
      "Feature: 2, Score: 0.01484\n",
      "Feature: 3, Score: 0.00708\n",
      "Feature: 4, Score: 0.15535\n",
      "Feature: 5, Score: 0.01262\n",
      "Feature: 6, Score: 0.05612\n",
      "Feature: 7, Score: 0.02973\n",
      "Feature: 8, Score: 0.02283\n"
     ]
    },
    {
     "data": {
      "image/png": "[encoded data removed]",
      "text/plain": [
       "<Figure size 432x288 with 1 Axes>"
      ]
     },
     "metadata": {
      "needs_background": "light"
     },
     "output_type": "display_data"
    }
   ],
   "source": [
    "XGBRe_model = XGBRegressor()\n",
    "# fit the model\n",
    "XGBRe_model.fit(X_train, y_train)\n",
    "# get importance\n",
    "importance = XGBRe_model.feature_importances_\n",
    "# summarize feature importance\n",
    "for i,v in enumerate(importance):\n",
    "    print('Feature: %0d, Score: %.5f' % (i,v))\n",
    "# plot feature importance\n",
    "plt.bar([x for x in range(len(importance))], importance)\n",
    "plt.xticks([x for x in range(len(importance))],X.keys(),rotation=90, fontsize=16)\n",
    "plt.show()"
   ]
  },
  {
   "cell_type": "code",
   "execution_count": 21,
   "metadata": {},
   "outputs": [
    {
     "name": "stdout",
     "output_type": "stream",
     "text": [
      "Feature: 0, Score: 0.59680\n",
      "Feature: 1, Score: 0.05468\n",
      "Feature: 2, Score: 0.02070\n",
      "Feature: 3, Score: 0.01228\n",
      "Feature: 4, Score: 0.19105\n",
      "Feature: 5, Score: 0.01919\n",
      "Feature: 6, Score: 0.06321\n",
      "Feature: 7, Score: 0.02523\n",
      "Feature: 8, Score: 0.01686\n"
     ]
    },
    {
     "data": {
      "image/png": "[encoded data removed]",
      "text/plain": [
       "<Figure size 432x288 with 1 Axes>"
      ]
     },
     "metadata": {
      "needs_background": "light"
     },
     "output_type": "display_data"
    }
   ],
   "source": [
    "XGBclass_model = XGBClassifier()\n",
    "# fit the model\n",
    "XGBclass_model.fit(X_train, y_train)\n",
    "# get importance\n",
    "importance = XGBclass_model.feature_importances_\n",
    "# summarize feature importance\n",
    "for i,v in enumerate(importance):\n",
    "\tprint('Feature: %0d, Score: %.5f' % (i,v))\n",
    "# plot feature importance\n",
    "plt.bar([x for x in range(len(importance))], importance)\n",
    "plt.xticks([x for x in range(len(importance))],X.keys(),rotation=90, fontsize=16)\n",
    "plt.show()"
   ]
  },
  {
   "cell_type": "code",
   "execution_count": 22,
   "metadata": {},
   "outputs": [
    {
     "data": {
      "image/png": "[encoded data removed]",
      "text/plain": [
       "<Figure size 432x288 with 1 Axes>"
      ]
     },
     "metadata": {
      "needs_background": "light"
     },
     "output_type": "display_data"
    }
   ],
   "source": [
    "from numpy import loadtxt\n",
    "from xgboost import XGBClassifier\n",
    "from xgboost import plot_importance\n",
    "from matplotlib import pyplot\n",
    "\n",
    "# fit model no training data\n",
    "model = XGBClassifier()\n",
    "model.fit(X_train, y_train)\n",
    "# plot feature importance\n",
    "plot_importance(model)\n",
    "pyplot.show()"
   ]
  },
  {
   "cell_type": "code",
   "execution_count": null,
   "metadata": {},
   "outputs": [],
   "source": []
  },
  {
   "cell_type": "code",
   "execution_count": null,
   "metadata": {},
   "outputs": [],
   "source": []
  },
  {
   "cell_type": "code",
   "execution_count": null,
   "metadata": {},
   "outputs": [],
   "source": []
  },
  {
   "cell_type": "code",
   "execution_count": null,
   "metadata": {},
   "outputs": [],
   "source": []
  },
  {
   "cell_type": "code",
   "execution_count": null,
   "metadata": {},
   "outputs": [],
   "source": []
  },
  {
   "cell_type": "markdown",
   "metadata": {},
   "source": [
    "## K Neighbord Regressor"
   ]
  },
  {
   "cell_type": "code",
   "execution_count": null,
   "metadata": {},
   "outputs": [],
   "source": [
    "KNeiRe_model = KNeighborsRegressor()\n",
    "# fit the model\n",
    "KNeiRe_model.fit(X, y)\n"
   ]
  },
  {
   "cell_type": "code",
   "execution_count": null,
   "metadata": {},
   "outputs": [],
   "source": [
    "# perform permutation importance\n",
    "results = permutation_importance(KNeiRe_model, X, y, scoring='neg_mean_squared_error')\n"
   ]
  },
  {
   "cell_type": "code",
   "execution_count": null,
   "metadata": {},
   "outputs": [],
   "source": [
    "# get importance\n",
    "importance = results.importances_mean\n",
    "# summarize feature importance\n",
    "for i,v in enumerate(importance):\n",
    "\tprint('Feature: %0d, Score: %.5f' % (i,v))\n",
    "# plot feature importance\n",
    "plt.bar([x for x in range(len(importance))], importance)\n",
    "plt.show()"
   ]
  },
  {
   "cell_type": "code",
   "execution_count": null,
   "metadata": {},
   "outputs": [],
   "source": []
  },
  {
   "cell_type": "code",
   "execution_count": null,
   "metadata": {},
   "outputs": [],
   "source": [
    "KNClas_model = KNeighborsClassifier()\n",
    "# fit the model\n",
    "KNClas_model.fit(X, y)\n",
    "# perform permutation importance\n",
    "results = permutation_importance(KNClas_model, X, y, scoring='accuracy')\n",
    "# get importance\n",
    "importance = results.importances_mean\n",
    "# summarize feature importance\n",
    "for i,v in enumerate(importance):\n",
    "\tprint('Feature: %0d, Score: %.5f' % (i,v))\n",
    "# plot feature importance\n",
    "plt.bar([x for x in range(len(importance))], importance)\n",
    "plt.show()"
   ]
  },
  {
   "cell_type": "code",
   "execution_count": null,
   "metadata": {},
   "outputs": [],
   "source": []
  },
  {
   "cell_type": "markdown",
   "metadata": {},
   "source": [
    "## https://machinelearningmastery.com/feature-importance-and-feature-selection-with-xgboost-in-python/"
   ]
  },
  {
   "cell_type": "markdown",
   "metadata": {},
   "source": [
    "## and make the ages a bins of one hot"
   ]
  },
  {
   "cell_type": "markdown",
   "metadata": {},
   "source": [
    "## and close this already!!!!"
   ]
  },
  {
   "cell_type": "code",
   "execution_count": null,
   "metadata": {},
   "outputs": [],
   "source": []
  }
 ],
 "metadata": {
  "kernelspec": {
   "display_name": "Python 3",
   "language": "python",
   "name": "python3"
  },
  "language_info": {
   "codemirror_mode": {
    "name": "ipython",
    "version": 3
   },
   "file_extension": ".py",
   "mimetype": "text/x-python",
   "name": "python",
   "nbconvert_exporter": "python",
   "pygments_lexer": "ipython3",
   "version": "3.7.5"
  }
 },
 "nbformat": 4,
 "nbformat_minor": 2
}
