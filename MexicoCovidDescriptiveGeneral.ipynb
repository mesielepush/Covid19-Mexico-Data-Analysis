{
 "cells": [
  {
   "cell_type": "markdown",
   "metadata": {},
   "source": [
    "## Mexico's COVID19 Data description and Analisys\n",
    "\n",
    "> \n",
    "> \n",
    "> \n",
    ">\n",
    "<div class=\"container\" style=\"position: relative;text-align: center,border:2px solid red;\n",
    "  color: white;\">\n",
    "  <img align=\"left\" src=\"https://i.imgur.com/9hAvQVf.png\">\n",
    "</div>"
   ]
  },
  {
   "cell_type": "markdown",
   "metadata": {},
   "source": [
    "<font size=5 color='black'>The name of each file changes every day</font>\n",
    ">\n",
    "<font size=5 color='black'> <a href=\"https://coronavirus.gob.mx/datos/#DownZCSV\">https://coronavirus.gob.mx/datos/#DownZCSV</a> </font>\n",
    ">\n",
    "<img align=\"left\" src=\"https://i.imgur.com/ohUy6u0.png\">\n",
    "<br>\n",
    "<br>\n",
    "<font size=5 color='black'>'200XXXCOVID19MEXICO.csv' comes from the link:</font>\n",
    "<br>\n",
    "<font size=5 color='black'> Todos los datos (DGE)</font>\n"
   ]
  },
  {
   "cell_type": "markdown",
   "metadata": {},
   "source": [
    "# Loading data"
   ]
  },
  {
   "cell_type": "code",
   "execution_count": 1,
   "metadata": {},
   "outputs": [],
   "source": [
    "import numpy as np\n",
    "import matplotlib.pyplot as plt\n",
    "import pandas as pd\n",
    "import datetime"
   ]
  },
  {
   "cell_type": "code",
   "execution_count": 2,
   "metadata": {},
   "outputs": [],
   "source": [
    "# Pacient data contains detail information about every subject in the database, age, sex, and some illness history\n",
    "patient_data = pd.read_csv('200515COVID19MEXICO.csv', encoding='ANSI')\n",
    "# Confirmed is the number of comfirmed cases each day\n",
    "confirmed = pd.read_csv('Casos_Diarios_Estado_Nacional_Confirmados_20200515.csv', encoding='ANSI')\n",
    "# Suspicious is the number of suspicious cases each day\n",
    "suspicious = pd.read_csv('Casos_Diarios_Estado_Nacional_Sospechosos_20200515.csv', encoding='ANSI')\n",
    "# Negatives is the number of negative test cases each day\n",
    "negatives = pd.read_csv('Casos_Diarios_Estado_Nacional_Negativos_20200515.csv', encoding='ANSI')\n",
    "# Deaths is the number of deceased cases each day\n",
    "deaths = pd.read_csv('Casos_Diarios_Estado_Nacional_Defunciones_20200515.csv', encoding='ANSI')\n",
    "# State_names is an array with the names of each state\n",
    "state_names = deaths.nombre.values"
   ]
  },
  {
   "cell_type": "markdown",
   "metadata": {},
   "source": [
    "# 1.- Frequency of cases"
   ]
  },
  {
   "cell_type": "markdown",
   "metadata": {},
   "source": [
    "## Confirmed, Deaths, Negative and Suspicious Data"
   ]
  },
  {
   "cell_type": "code",
   "execution_count": 3,
   "metadata": {},
   "outputs": [
    {
     "data": {
      "text/html": [
       "<div>\n",
       "<style scoped>\n",
       "    .dataframe tbody tr th:only-of-type {\n",
       "        vertical-align: middle;\n",
       "    }\n",
       "\n",
       "    .dataframe tbody tr th {\n",
       "        vertical-align: top;\n",
       "    }\n",
       "\n",
       "    .dataframe thead th {\n",
       "        text-align: right;\n",
       "    }\n",
       "</style>\n",
       "<table border=\"1\" class=\"dataframe\">\n",
       "  <thead>\n",
       "    <tr style=\"text-align: right;\">\n",
       "      <th></th>\n",
       "      <th>cve_ent</th>\n",
       "      <th>poblacion</th>\n",
       "      <th>nombre</th>\n",
       "      <th>07-01-2020</th>\n",
       "      <th>08-01-2020</th>\n",
       "      <th>09-01-2020</th>\n",
       "      <th>10-01-2020</th>\n",
       "      <th>11-01-2020</th>\n",
       "      <th>12-01-2020</th>\n",
       "      <th>13-01-2020</th>\n",
       "      <th>...</th>\n",
       "      <th>06-05-2020</th>\n",
       "      <th>07-05-2020</th>\n",
       "      <th>08-05-2020</th>\n",
       "      <th>09-05-2020</th>\n",
       "      <th>10-05-2020</th>\n",
       "      <th>11-05-2020</th>\n",
       "      <th>12-05-2020</th>\n",
       "      <th>13-05-2020</th>\n",
       "      <th>14-05-2020</th>\n",
       "      <th>15-05-2020</th>\n",
       "    </tr>\n",
       "  </thead>\n",
       "  <tbody>\n",
       "    <tr>\n",
       "      <th>0</th>\n",
       "      <td>1</td>\n",
       "      <td>1434635</td>\n",
       "      <td>AGUASCALIENTES</td>\n",
       "      <td>0</td>\n",
       "      <td>0</td>\n",
       "      <td>0</td>\n",
       "      <td>0</td>\n",
       "      <td>0</td>\n",
       "      <td>0</td>\n",
       "      <td>0</td>\n",
       "      <td>...</td>\n",
       "      <td>15</td>\n",
       "      <td>20</td>\n",
       "      <td>13</td>\n",
       "      <td>0</td>\n",
       "      <td>4</td>\n",
       "      <td>12</td>\n",
       "      <td>26</td>\n",
       "      <td>6</td>\n",
       "      <td>0</td>\n",
       "      <td>1</td>\n",
       "    </tr>\n",
       "    <tr>\n",
       "      <th>1</th>\n",
       "      <td>2</td>\n",
       "      <td>3634868</td>\n",
       "      <td>BAJA CALIFORNIA</td>\n",
       "      <td>0</td>\n",
       "      <td>0</td>\n",
       "      <td>0</td>\n",
       "      <td>0</td>\n",
       "      <td>0</td>\n",
       "      <td>0</td>\n",
       "      <td>0</td>\n",
       "      <td>...</td>\n",
       "      <td>91</td>\n",
       "      <td>80</td>\n",
       "      <td>93</td>\n",
       "      <td>39</td>\n",
       "      <td>35</td>\n",
       "      <td>68</td>\n",
       "      <td>25</td>\n",
       "      <td>16</td>\n",
       "      <td>0</td>\n",
       "      <td>0</td>\n",
       "    </tr>\n",
       "    <tr>\n",
       "      <th>2</th>\n",
       "      <td>3</td>\n",
       "      <td>804708</td>\n",
       "      <td>BAJA CALIFORNIA SUR</td>\n",
       "      <td>0</td>\n",
       "      <td>0</td>\n",
       "      <td>0</td>\n",
       "      <td>0</td>\n",
       "      <td>0</td>\n",
       "      <td>0</td>\n",
       "      <td>0</td>\n",
       "      <td>...</td>\n",
       "      <td>10</td>\n",
       "      <td>10</td>\n",
       "      <td>6</td>\n",
       "      <td>6</td>\n",
       "      <td>5</td>\n",
       "      <td>3</td>\n",
       "      <td>12</td>\n",
       "      <td>1</td>\n",
       "      <td>2</td>\n",
       "      <td>0</td>\n",
       "    </tr>\n",
       "    <tr>\n",
       "      <th>3</th>\n",
       "      <td>4</td>\n",
       "      <td>1000617</td>\n",
       "      <td>CAMPECHE</td>\n",
       "      <td>0</td>\n",
       "      <td>0</td>\n",
       "      <td>0</td>\n",
       "      <td>0</td>\n",
       "      <td>0</td>\n",
       "      <td>0</td>\n",
       "      <td>0</td>\n",
       "      <td>...</td>\n",
       "      <td>15</td>\n",
       "      <td>11</td>\n",
       "      <td>12</td>\n",
       "      <td>12</td>\n",
       "      <td>6</td>\n",
       "      <td>19</td>\n",
       "      <td>17</td>\n",
       "      <td>10</td>\n",
       "      <td>3</td>\n",
       "      <td>0</td>\n",
       "    </tr>\n",
       "    <tr>\n",
       "      <th>4</th>\n",
       "      <td>7</td>\n",
       "      <td>5730367</td>\n",
       "      <td>CHIAPAS</td>\n",
       "      <td>0</td>\n",
       "      <td>0</td>\n",
       "      <td>0</td>\n",
       "      <td>0</td>\n",
       "      <td>0</td>\n",
       "      <td>0</td>\n",
       "      <td>0</td>\n",
       "      <td>...</td>\n",
       "      <td>33</td>\n",
       "      <td>32</td>\n",
       "      <td>33</td>\n",
       "      <td>22</td>\n",
       "      <td>16</td>\n",
       "      <td>26</td>\n",
       "      <td>31</td>\n",
       "      <td>19</td>\n",
       "      <td>1</td>\n",
       "      <td>0</td>\n",
       "    </tr>\n",
       "  </tbody>\n",
       "</table>\n",
       "<p>5 rows × 133 columns</p>\n",
       "</div>"
      ],
      "text/plain": [
       "   cve_ent  poblacion               nombre  07-01-2020  08-01-2020  \\\n",
       "0        1    1434635       AGUASCALIENTES           0           0   \n",
       "1        2    3634868      BAJA CALIFORNIA           0           0   \n",
       "2        3     804708  BAJA CALIFORNIA SUR           0           0   \n",
       "3        4    1000617             CAMPECHE           0           0   \n",
       "4        7    5730367              CHIAPAS           0           0   \n",
       "\n",
       "   09-01-2020  10-01-2020  11-01-2020  12-01-2020  13-01-2020  ...  \\\n",
       "0           0           0           0           0           0  ...   \n",
       "1           0           0           0           0           0  ...   \n",
       "2           0           0           0           0           0  ...   \n",
       "3           0           0           0           0           0  ...   \n",
       "4           0           0           0           0           0  ...   \n",
       "\n",
       "   06-05-2020  07-05-2020  08-05-2020  09-05-2020  10-05-2020  11-05-2020  \\\n",
       "0          15          20          13           0           4          12   \n",
       "1          91          80          93          39          35          68   \n",
       "2          10          10           6           6           5           3   \n",
       "3          15          11          12          12           6          19   \n",
       "4          33          32          33          22          16          26   \n",
       "\n",
       "   12-05-2020  13-05-2020  14-05-2020  15-05-2020  \n",
       "0          26           6           0           1  \n",
       "1          25          16           0           0  \n",
       "2          12           1           2           0  \n",
       "3          17          10           3           0  \n",
       "4          31          19           1           0  \n",
       "\n",
       "[5 rows x 133 columns]"
      ]
     },
     "execution_count": 3,
     "metadata": {},
     "output_type": "execute_result"
    }
   ],
   "source": [
    "# Confirmed, negative, deaths and suspicious dataFrames have the same structure.\n",
    "confirmed.head()"
   ]
  },
  {
   "cell_type": "markdown",
   "metadata": {},
   "source": [
    "### State Names"
   ]
  },
  {
   "cell_type": "code",
   "execution_count": 4,
   "metadata": {},
   "outputs": [
    {
     "data": {
      "text/plain": [
       "array(['AGUASCALIENTES', 'BAJA CALIFORNIA', 'BAJA CALIFORNIA SUR',\n",
       "       'CAMPECHE', 'CHIAPAS', 'CHIHUAHUA', 'DISTRITO FEDERAL', 'COAHUILA',\n",
       "       'COLIMA', 'DURANGO', 'GUANAJUATO', 'GUERRERO', 'HIDALGO',\n",
       "       'JALISCO', 'MEXICO', 'MICHOACAN', 'MORELOS', 'NAYARIT',\n",
       "       'NUEVO LEON', 'OAXACA', 'PUEBLA', 'QUERETARO', 'QUINTANA ROO',\n",
       "       'SAN LUIS POTOSI', 'SINALOA', 'SONORA', 'TABASCO', 'TAMAULIPAS',\n",
       "       'TLAXCALA', 'VERACRUZ', 'YUCATAN', 'ZACATECAS', 'Nacional'],\n",
       "      dtype=object)"
      ]
     },
     "execution_count": 4,
     "metadata": {},
     "output_type": "execute_result"
    }
   ],
   "source": [
    "state_names"
   ]
  },
  {
   "cell_type": "markdown",
   "metadata": {},
   "source": [
    "### Functions to get discrete or cummulative data from any particular state"
   ]
  },
  {
   "cell_type": "code",
   "execution_count": 5,
   "metadata": {},
   "outputs": [],
   "source": [
    "# Import the functions to get data from a particular country state\n",
    "# data could be discrete (number of cases by day) or cummulative.\n",
    "\n",
    "from data_helpers import get_discrete, get_cummulative\n",
    "\n",
    "# Both functions take a name and a database. (name='string',raw_data=pd.DataFrame)\n",
    "# works only for the confirmed, suspicious, negative and deaths dataframes\n",
    "# patients data is different."
   ]
  },
  {
   "cell_type": "code",
   "execution_count": 6,
   "metadata": {},
   "outputs": [],
   "source": [
    "discrete_mexico_city_deaths = get_discrete('DISTRITO FEDERAL',deaths)\n",
    "cummulative_mexico_city_deaths = get_cummulative('DISTRITO FEDERAL',deaths)"
   ]
  },
  {
   "cell_type": "markdown",
   "metadata": {},
   "source": [
    "### get_discrete() gives an array for each day incidents"
   ]
  },
  {
   "cell_type": "code",
   "execution_count": 7,
   "metadata": {},
   "outputs": [
    {
     "data": {
      "text/plain": [
       "array([0, 0, 0, 0, 0, 1, 1, 0, 1, 3, 3, 1, 2, 4, 6, 5, 5, 7, 5, 4, 16, 10,\n",
       "       5, 17, 20, 20, 8, 13, 20, 19, 21, 13, 20, 23, 18, 30, 19, 21, 27,\n",
       "       32, 34, 27, 23, 37, 50, 35, 33, 45, 33, 42, 34, 23, 24, 32, 33, 23,\n",
       "       24, 19, 6, 0], dtype=object)"
      ]
     },
     "execution_count": 7,
     "metadata": {},
     "output_type": "execute_result"
    }
   ],
   "source": [
    "discrete_mexico_city_deaths"
   ]
  },
  {
   "cell_type": "markdown",
   "metadata": {},
   "source": [
    "### get_cummulative() gives an array of the cummulative record "
   ]
  },
  {
   "cell_type": "code",
   "execution_count": 8,
   "metadata": {},
   "outputs": [
    {
     "data": {
      "text/plain": [
       "[0, 0, 0, 0, 0, 1, 2, 2, 3, 6]"
      ]
     },
     "execution_count": 8,
     "metadata": {},
     "output_type": "execute_result"
    }
   ],
   "source": [
    "cummulative_mexico_city_deaths[:10]"
   ]
  },
  {
   "cell_type": "markdown",
   "metadata": {},
   "source": [
    "\n",
    "### Function to plot discrete data"
   ]
  },
  {
   "cell_type": "code",
   "execution_count": 11,
   "metadata": {},
   "outputs": [],
   "source": [
    "# Data should be a list (even if there is only one state_data) with data from get_discrete()\n",
    "# Names also should be an array of strings with equal len() to the data list\n",
    "# You can choose the colors of each state by passing an array: ['r','b','y'...]\n",
    "# Or passing a string like: 'rbgy' if each of the colors are one letter.\n",
    "# If colors = None, colors will be a cycle from the default: 'b', 'g', 'r', 'c', 'm' and 'y'\n",
    "\n",
    "def plot_discrete(data, names ='no_name',colors=None, title=None):\n",
    "    plt.close('all')\n",
    "    plt.style.use('seaborn-whitegrid')\n",
    "\n",
    "    plt.rcParams[\"figure.figsize\"] = (15,6)\n",
    "    \n",
    "    max_len = max([len(x) for x in data])\n",
    "    \n",
    "    last_day = confirmed.columns[-1]\n",
    "    \n",
    "    index = pd.date_range(start=pd.to_datetime(confirmed.columns[-1]) - datetime.timedelta(days=max_len), periods=max_len, freq='D')\n",
    "    \n",
    "    if colors == None:\n",
    "            colors ='bgrcmy'* int(np.ceil(len(data)/6))\n",
    "       \n",
    "    for ind, i in enumerate(data):\n",
    "        if len(i) < max_len:\n",
    "            i = [0]*(max_len-len(i))+list(i)\n",
    "        \n",
    "        plt.bar(index,i, label = names[ind],color = colors[ind],alpha = 0.5)\n",
    "       \n",
    "    plt.title(title, fontsize=14)\n",
    "    plt.legend(loc='upper left',fontsize=12)\n",
    "    plt.xticks(rotation=90)\n",
    "    plt.show()"
   ]
  },
  {
   "cell_type": "markdown",
   "metadata": {},
   "source": [
    "### You can compare the same data for diferent states:"
   ]
  },
  {
   "cell_type": "code",
   "execution_count": 12,
   "metadata": {},
   "outputs": [
    {
     "data": {
      "image/png": "[encoded data removed]",
      "text/plain": [
       "<Figure size 1080x432 with 1 Axes>"
      ]
     },
     "metadata": {},
     "output_type": "display_data"
    }
   ],
   "source": [
    "plot_discrete(data = [get_discrete('DISTRITO FEDERAL',deaths),\n",
    "                      get_discrete('TABASCO',deaths),\n",
    "                      ],\n",
    "              names =['Mexico city','Tabasco'],\n",
    "              colors=['b','r'],\n",
    "              title='Deaths by day in Mexico city and Tabasco')"
   ]
  },
  {
   "cell_type": "markdown",
   "metadata": {},
   "source": [
    "### Or different data for the same or different states"
   ]
  },
  {
   "cell_type": "code",
   "execution_count": 13,
   "metadata": {},
   "outputs": [
    {
     "data": {
      "image/png": "[encoded data removed]",
      "text/plain": [
       "<Figure size 1080x432 with 1 Axes>"
      ]
     },
     "metadata": {},
     "output_type": "display_data"
    }
   ],
   "source": [
    "plot_discrete(data = [get_discrete('DISTRITO FEDERAL',confirmed),\n",
    "                      get_discrete('DISTRITO FEDERAL',negatives),\n",
    "                      get_discrete('DISTRITO FEDERAL',deaths)],\n",
    "              names =['Confirmed','Negatives','Deaths'],\n",
    "              colors=['b','black','r'],\n",
    "              title='Confirmed, Negative and Death cases for Mexico City')"
   ]
  },
  {
   "cell_type": "markdown",
   "metadata": {},
   "source": [
    "### Function to plot cummulative data"
   ]
  },
  {
   "cell_type": "code",
   "execution_count": 14,
   "metadata": {},
   "outputs": [],
   "source": [
    "# Same Instructions of the discrete data apply here\n",
    "# Obviosly input data should come from get_cummulative()\n",
    "\n",
    "def plot_cummulative(data, names ='no_name',colors=None, title=None):\n",
    "    plt.close('all')\n",
    "    plt.style.use('seaborn-whitegrid')\n",
    "\n",
    "    plt.rcParams[\"figure.figsize\"] = (15,7)\n",
    "    \n",
    "    max_len = max([len(x) for x in data])\n",
    "    last_day = confirmed.columns[-1]\n",
    "    \n",
    "    index = pd.date_range(start=pd.to_datetime(deaths.columns[-1]) - datetime.timedelta(days=max_len), periods=max_len, freq='D', closed = None)\n",
    "    \n",
    "    if not colors:\n",
    "        colors ='bgrcmy'* int(np.ceil(len(data)/6))\n",
    "    \n",
    "    for ind,i in enumerate(data):\n",
    "        if len(i) != max_len:\n",
    "            i = [0]*(max_len-len(i))+i\n",
    "        \n",
    "        plt.plot(index,i,label=names[ind],color=colors[ind])\n",
    "        plt.scatter(index[-1],i[-1],color=colors[ind])\n",
    "        plt.text(index[-1], i[-1],str(int(i[-1])) , fontsize=14 ,color=colors[ind])\n",
    "        plt.fill_between(index, i, color = colors[ind], alpha = 0.4)\n",
    "               \n",
    "    plt.xticks(rotation=90)\n",
    "    plt.title(title, fontsize=14)\n",
    "    plt.legend(loc='upper left',fontsize=12)\n",
    "    plt.show()"
   ]
  },
  {
   "cell_type": "markdown",
   "metadata": {},
   "source": [
    "### Same as with discrete, you can compare the same data for diferent states:"
   ]
  },
  {
   "cell_type": "code",
   "execution_count": 16,
   "metadata": {
    "scrolled": false
   },
   "outputs": [
    {
     "data": {
      "image/png": "[encoded data removed]",
      "text/plain": [
       "<Figure size 1080x504 with 1 Axes>"
      ]
     },
     "metadata": {},
     "output_type": "display_data"
    }
   ],
   "source": [
    "plot_cummulative([get_cummulative('National',suspicious),\n",
    "                  get_cummulative('National',confirmed),\n",
    "                  get_cummulative('National',deaths)],\n",
    "                  names =['Suspicious','Confirmed','Deaths'],\n",
    "                  colors=['g','b','r'],\n",
    "                  title='Confirmed, Suspicious and Deaths in Mexico')"
   ]
  },
  {
   "cell_type": "markdown",
   "metadata": {},
   "source": [
    "### Or different data from different states"
   ]
  },
  {
   "cell_type": "code",
   "execution_count": 18,
   "metadata": {},
   "outputs": [
    {
     "data": {
      "image/png": "[encoded data removed]",
      "text/plain": [
       "<Figure size 1080x504 with 1 Axes>"
      ]
     },
     "metadata": {},
     "output_type": "display_data"
    }
   ],
   "source": [
    "plot_cummulative([get_cummulative('DISTRITO FEDERAL',confirmed),\n",
    "                  get_cummulative('MEXICO',confirmed),\n",
    "                  get_cummulative('DISTRITO FEDERAL',deaths),\n",
    "                  get_cummulative('MEXICO',deaths)],\n",
    "                  names =['Mexico city confirmed','Mexico state confirmed',\n",
    "                          'Mexico city Deaths','Mexico state Deaths'],\n",
    "                  colors=['g','b','r','orange'],\n",
    "                  title='Confirmed and Deaths in Mexico City and Mexico State')"
   ]
  },
  {
   "cell_type": "markdown",
   "metadata": {},
   "source": [
    "## Ploting all data from max to min."
   ]
  },
  {
   "cell_type": "markdown",
   "metadata": {},
   "source": [
    "### Function to get several states sorted from max to min."
   ]
  },
  {
   "cell_type": "code",
   "execution_count": null,
   "metadata": {},
   "outputs": [],
   "source": [
    "index = pd.to_datetime([pd.to_datetime(deaths.columns[-1]) - datetime.timedelta(days=x) for x in range(5)])"
   ]
  },
  {
   "cell_type": "code",
   "execution_count": null,
   "metadata": {},
   "outputs": [],
   "source": [
    "index = pd.date_range(start=pd.to_datetime(deaths.columns[-1]) - datetime.timedelta(days=5), periods=5, freq='D', closed = None)"
   ]
  },
  {
   "cell_type": "code",
   "execution_count": null,
   "metadata": {},
   "outputs": [],
   "source": [
    "dates"
   ]
  },
  {
   "cell_type": "code",
   "execution_count": null,
   "metadata": {},
   "outputs": [],
   "source": [
    "list(reversed(index))"
   ]
  },
  {
   "cell_type": "code",
   "execution_count": null,
   "metadata": {},
   "outputs": [],
   "source": [
    "from data_helpers import get_max_to_min\n",
    "\n",
    "# get_max_to_min returns two lists, one with a states data and one with the names of each state:\n",
    "# [data1,data2..],['name1','name2'..] = get_max_to_min([raw_data],n=None,discrete=True,include_national=False)\n",
    "\n",
    "# n is the number of states returned, if None will return all states\n",
    "# Deafault data type is set to: discrete\n",
    "# To switch for cummulative data just set discrete parameter to == False\n",
    "# National data is naturally much more higher that any particular state, by default is ommited\n",
    "# To include it set the parameter include_national to == True"
   ]
  },
  {
   "cell_type": "markdown",
   "metadata": {},
   "source": [
    "### Function to plot the data from get_max_to_min()"
   ]
  },
  {
   "cell_type": "code",
   "execution_count": null,
   "metadata": {
    "scrolled": true
   },
   "outputs": [],
   "source": [
    "# Raw_data is the database of origin: deaths, confirmed, etc...\n",
    "# N is the number of states that will be plotted\n",
    "# If the Discrete parameter is False then cummulative data will be plotted\n",
    "\n",
    "def plot_all(raw_data,n=None, discrete=True, title='No title',colors = None):\n",
    "    \n",
    "    if discrete:\n",
    "        data, names = get_max_to_min(raw_data,n=n,discrete=True)\n",
    "        plot_discrete(data = data,\n",
    "                      names = names,\n",
    "                      colors = colors,\n",
    "                      title = title)\n",
    "    else:\n",
    "        data, names = get_max_to_min(raw_data,n=n,discrete=False)\n",
    "        plot_cummulative(data = data,\n",
    "                         names = names,\n",
    "                         colors = colors,\n",
    "                         title = title)"
   ]
  },
  {
   "cell_type": "markdown",
   "metadata": {},
   "source": [
    "### Discrete states from max to min incidence"
   ]
  },
  {
   "cell_type": "code",
   "execution_count": null,
   "metadata": {},
   "outputs": [],
   "source": [
    "plot_all(raw_data = deaths,\n",
    "         n=4,\n",
    "         colors= ['b','g','black','r'],\n",
    "         discrete=True,\n",
    "         title='Mexico States with more Deaths by Day')"
   ]
  },
  {
   "cell_type": "markdown",
   "metadata": {},
   "source": [
    "### Cummulative states from max to min incidence"
   ]
  },
  {
   "cell_type": "code",
   "execution_count": null,
   "metadata": {},
   "outputs": [],
   "source": [
    "plot_all(raw_data = deaths,\n",
    "         n=4,\n",
    "         discrete=False,\n",
    "         colors= ['b','g','black','r'],\n",
    "         title='Mexico States with more Deaths by Day')"
   ]
  },
  {
   "cell_type": "markdown",
   "metadata": {},
   "source": [
    "# 2.- Patients Data"
   ]
  },
  {
   "cell_type": "markdown",
   "metadata": {},
   "source": [
    "### Cleaning the database"
   ]
  },
  {
   "cell_type": "code",
   "execution_count": null,
   "metadata": {},
   "outputs": [],
   "source": [
    "# Eliminate data from counties column, since it lacks one term an it is useless without it\n",
    "patient_data = patient_data.drop('MUNICIPIO_RES',axis=1)"
   ]
  },
  {
   "cell_type": "markdown",
   "metadata": {},
   "source": [
    "### Renaming columns to english"
   ]
  },
  {
   "cell_type": "code",
   "execution_count": null,
   "metadata": {},
   "outputs": [],
   "source": [
    "patient_data = patient_data.rename(columns={\"FECHA_ACTUALIZACION\":\"Updated_at\",\n",
    "                                             \"ID_REGISTRO\": \"id\",\n",
    "                                             \"ORIGEN\":\"origin\",\n",
    "                                             \"SECTOR\":\"sector\",\n",
    "                                             \"ENTIDAD_UM\": \"treated_at\",\n",
    "                                             \"SEXO\": \"sex\",\n",
    "                                             \"ENTIDAD_NAC\":\"borne_at\",\n",
    "                                             \"ENTIDAD_RES\": \"lives_at\",\n",
    "                                             \"TIPO_PACIENTE\": \"pacient_type\",\n",
    "                                             \"FECHA_INGRESO\":\"admission_date\",\n",
    "                                             \"FECHA_SINTOMAS\":\"onset_symptoms\",\n",
    "                                             \"FECHA_DEF\": \"day_of_death\",\n",
    "                                             \"INTUBADO\": \"intubated\",\n",
    "                                             \"NEUMONIA\":\"pneumonia\",\n",
    "                                             \"EDAD\":\"age\",\n",
    "                                             \"NACIONALIDAD\":\"is_mexican\",\n",
    "                                             \"EMBARAZO\":\"pregnancy\",\n",
    "                                             \"HABLA_LENGUA_INDIG\":\"speaks_dialect\",\n",
    "                                             \"DIABETES\":\"diabetes\",\n",
    "                                             \"EPOC\": \"copd\",\n",
    "                                             \"ASMA\":\"asthma\",\n",
    "                                             \"INMUSUPR\":\"immunosuppression\",\n",
    "                                             \"HIPERTENSION\":\"hypertension\",\n",
    "                                             \"OTRA_COM\":\"another_illness\",\n",
    "                                             \"CARDIOVASCULAR\":\"cardiovascular\",\n",
    "                                             \"OBESIDAD\":\"obesity\",\n",
    "                                             \"RENAL_CRONICA\":\"kidney_disease\",\n",
    "                                             \"TABAQUISMO\":\"smoker\",\n",
    "                                             \"OTRO_CASO\":\"close_to_infected\",\n",
    "                                             \"RESULTADO\":\"result\",\n",
    "                                             \"MIGRANTE\":\"migrant\",\n",
    "                                             \"PAIS_NACIONALIDAD\":\"nationality\",\n",
    "                                             \"PAIS_ORIGEN\": \"country_of_origin\",\n",
    "                                             \"UCI\":\"icu\"})"
   ]
  },
  {
   "cell_type": "markdown",
   "metadata": {},
   "source": [
    "### Data keys:"
   ]
  },
  {
   "cell_type": "code",
   "execution_count": null,
   "metadata": {},
   "outputs": [],
   "source": [
    "patient_data.keys()"
   ]
  },
  {
   "cell_type": "markdown",
   "metadata": {},
   "source": [
    "### Data sample"
   ]
  },
  {
   "cell_type": "code",
   "execution_count": null,
   "metadata": {},
   "outputs": [],
   "source": [
    "patient_data.head()"
   ]
  },
  {
   "cell_type": "markdown",
   "metadata": {},
   "source": [
    "### Loading a function to translate the codes from the data"
   ]
  },
  {
   "cell_type": "code",
   "execution_count": null,
   "metadata": {},
   "outputs": [],
   "source": [
    "from data_helpers import patient_data_keys\n",
    "# Some data is coded, like the counties from:  patient_data['sector'],\n",
    "# This function takes the column name and a key to decoded\n",
    "# if the key == None, then outputs all the codes from the column"
   ]
  },
  {
   "cell_type": "code",
   "execution_count": null,
   "metadata": {},
   "outputs": [],
   "source": [
    "patient_data_keys('result',key=1)"
   ]
  },
  {
   "cell_type": "code",
   "execution_count": null,
   "metadata": {},
   "outputs": [],
   "source": [
    "patient_data_keys('sector',key=None)"
   ]
  },
  {
   "cell_type": "markdown",
   "metadata": {},
   "source": [
    "### Exploring the database"
   ]
  },
  {
   "cell_type": "code",
   "execution_count": null,
   "metadata": {},
   "outputs": [],
   "source": []
  },
  {
   "cell_type": "code",
   "execution_count": null,
   "metadata": {},
   "outputs": [],
   "source": []
  },
  {
   "cell_type": "code",
   "execution_count": null,
   "metadata": {},
   "outputs": [],
   "source": [
    "edad = X['EDAD'] \n",
    "y = [1 if x == '9999-99-99' else 0 for x in X['FECHA_DEF']]\n",
    "sexo = [0 if x == 1 else 99 for x in X['SEXO']]\n",
    "X = X[['DIABETES','EPOC',\n",
    "             'ASMA', 'INMUSUPR', 'HIPERTENSION',\n",
    "             'CARDIOVASCULAR', 'OBESIDAD', 'RENAL_CRONICA', 'TABAQUISMO']]\n",
    "X['SEXO'] = sexo\n",
    "X = X.replace(97,2)\n",
    "X = X.replace(98,2)\n",
    "X = X.replace(99,2)\n",
    "X = X.replace(1,100)\n",
    "X = X.replace(2,-100)\n",
    "X['EDAD'] = edad\n"
   ]
  },
  {
   "cell_type": "code",
   "execution_count": null,
   "metadata": {},
   "outputs": [],
   "source": [
    "plot_discrete(data = [get_discrete('Nacional',deaths)],\n",
    "              names =['Mexico'],\n",
    "              colors=['b'],\n",
    "              title='Deaths by day Mexico')"
   ]
  },
  {
   "cell_type": "code",
   "execution_count": null,
   "metadata": {},
   "outputs": [],
   "source": []
  }
 ],
 "metadata": {
  "kernelspec": {
   "display_name": "Python 3",
   "language": "python",
   "name": "python3"
  },
  "language_info": {
   "codemirror_mode": {
    "name": "ipython",
    "version": 3
   },
   "file_extension": ".py",
   "mimetype": "text/x-python",
   "name": "python",
   "nbconvert_exporter": "python",
   "pygments_lexer": "ipython3",
   "version": "3.7.5"
  }
 },
 "nbformat": 4,
 "nbformat_minor": 2
}
