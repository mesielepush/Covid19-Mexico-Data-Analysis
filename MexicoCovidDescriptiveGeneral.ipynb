{
 "cells": [
  {
   "cell_type": "markdown",
   "metadata": {},
   "source": [
    "## Mexico's COVID19 Data description and Analisys\n",
    "\n",
    "> \n",
    "> \n",
    "<font size=5 color='black'>Data comes from:</font>\n",
    "<a  href=\"https://coronavirus.gob.mx/datos/#DownZCSV\"><font size=5 color='blue'>Updated Every 24hrs</font></a>\n",
    "> \n",
    ">\n",
    "<div class=\"container\" style=\"position: relative;text-align: center,border:2px solid red;\n",
    "  color: white;\">\n",
    "  <img align=\"left\" src=\"https://i.imgur.com/9hAvQVf.png\">\n",
    "</div>"
   ]
  },
  {
   "cell_type": "markdown",
   "metadata": {},
   "source": [
    "<font size=5 color='black'>The name of each file changes every day</font>\n",
    ">\n",
    "<font size=5 color='black'> <a href=\"https://coronavirus.gob.mx/datos/#DownZCSV\">https://coronavirus.gob.mx/datos/#DownZCSV</a> </font>\n",
    ">\n",
    "<img align=\"left\" src=\"https://i.imgur.com/ohUy6u0.png\">\n",
    "<br>\n",
    "<br>\n",
    "<font size=5 color='black'>'200XXXCOVID19MEXICO.csv' comes from the link:</font>\n",
    "<br>\n",
    "<font size=5 color='black'> Todos los datos (DGE)</font>\n"
   ]
  },
  {
   "cell_type": "markdown",
   "metadata": {},
   "source": [
    "# Loading data"
   ]
  },
  {
   "cell_type": "code",
   "execution_count": 2,
   "metadata": {},
   "outputs": [],
   "source": [
    "import numpy as np\n",
    "import matplotlib.pyplot as plt\n",
    "import pandas as pd\n"
   ]
  },
  {
   "cell_type": "code",
   "execution_count": 3,
   "metadata": {},
   "outputs": [],
   "source": [
    "# Pacient data contains detail information about every subject in the database, age, sex, and some illness history\n",
    "patient_data = pd.read_csv('200515COVID19MEXICO.csv', encoding='ANSI')\n",
    "# Confirmed is the number of comfirmed cases each day\n",
    "confirmed = pd.read_csv('Casos_Diarios_Estado_Nacional_Confirmados_20200515.csv', encoding='ANSI')\n",
    "# Suspicious is the number of suspicious cases each day\n",
    "suspicious = pd.read_csv('Casos_Diarios_Estado_Nacional_Sospechosos_20200515.csv', encoding='ANSI')\n",
    "# Negatives is the number of negative test cases each day\n",
    "negatives = pd.read_csv('Casos_Diarios_Estado_Nacional_Negativos_20200515.csv', encoding='ANSI')\n",
    "# Deaths is the number of deceased cases each day\n",
    "deaths = pd.read_csv('Casos_Diarios_Estado_Nacional_Defunciones_20200515.csv', encoding='ANSI')\n",
    "# State_names is an array with the names of each state\n",
    "state_names = deaths.nombre.values"
   ]
  },
  {
   "cell_type": "markdown",
   "metadata": {},
   "source": [
    "# 1.- Frequency of cases"
   ]
  },
  {
   "cell_type": "markdown",
   "metadata": {},
   "source": [
    "## Confirmed, Deaths, Negative and Suspicious Data"
   ]
  },
  {
   "cell_type": "code",
   "execution_count": null,
   "metadata": {},
   "outputs": [],
   "source": [
    "# Data example, confirmed, negative, deaths and suspicious all dataFrames look the same.\n",
    "confirmed.head()"
   ]
  },
  {
   "cell_type": "markdown",
   "metadata": {},
   "source": [
    "### State Names"
   ]
  },
  {
   "cell_type": "code",
   "execution_count": null,
   "metadata": {},
   "outputs": [],
   "source": [
    "state_names"
   ]
  },
  {
   "cell_type": "markdown",
   "metadata": {},
   "source": [
    "### Functions to get discrete or cummulative data from any particular state"
   ]
  },
  {
   "cell_type": "code",
   "execution_count": 4,
   "metadata": {},
   "outputs": [],
   "source": [
    "# Import the functions to get data from a particular country state\n",
    "# data could be discrete (number of cases by day) or cummulative.\n",
    "from data_helpers import get_discrete, get_cummulative\n",
    "# Both functions take a name and a database. (name='string',raw_data=pd.DataFrame)"
   ]
  },
  {
   "cell_type": "code",
   "execution_count": 6,
   "metadata": {},
   "outputs": [],
   "source": [
    "discrete_mexico_city_deaths = get_discrete('DISTRITO FEDERAL',deaths)\n",
    "cummulative_mexico_city_deaths = get_cummulative('DISTRITO FEDERAL',deaths)"
   ]
  },
  {
   "cell_type": "markdown",
   "metadata": {},
   "source": [
    "### get_discrete() gives a pd.Series with the dates for columns"
   ]
  },
  {
   "cell_type": "code",
   "execution_count": 7,
   "metadata": {},
   "outputs": [
    {
     "data": {
      "text/html": [
       "<div>\n",
       "<style scoped>\n",
       "    .dataframe tbody tr th:only-of-type {\n",
       "        vertical-align: middle;\n",
       "    }\n",
       "\n",
       "    .dataframe tbody tr th {\n",
       "        vertical-align: top;\n",
       "    }\n",
       "\n",
       "    .dataframe thead th {\n",
       "        text-align: right;\n",
       "    }\n",
       "</style>\n",
       "<table border=\"1\" class=\"dataframe\">\n",
       "  <thead>\n",
       "    <tr style=\"text-align: right;\">\n",
       "      <th></th>\n",
       "      <th>cve_ent</th>\n",
       "      <th>poblacion</th>\n",
       "      <th>nombre</th>\n",
       "      <th>17-03-2020</th>\n",
       "      <th>18-03-2020</th>\n",
       "      <th>19-03-2020</th>\n",
       "      <th>20-03-2020</th>\n",
       "      <th>21-03-2020</th>\n",
       "      <th>22-03-2020</th>\n",
       "      <th>23-03-2020</th>\n",
       "      <th>...</th>\n",
       "      <th>06-05-2020</th>\n",
       "      <th>07-05-2020</th>\n",
       "      <th>08-05-2020</th>\n",
       "      <th>09-05-2020</th>\n",
       "      <th>10-05-2020</th>\n",
       "      <th>11-05-2020</th>\n",
       "      <th>12-05-2020</th>\n",
       "      <th>13-05-2020</th>\n",
       "      <th>14-05-2020</th>\n",
       "      <th>15-05-2020</th>\n",
       "    </tr>\n",
       "  </thead>\n",
       "  <tbody>\n",
       "    <tr>\n",
       "      <th>6</th>\n",
       "      <td>9</td>\n",
       "      <td>9018645</td>\n",
       "      <td>DISTRITO FEDERAL</td>\n",
       "      <td>0</td>\n",
       "      <td>0</td>\n",
       "      <td>0</td>\n",
       "      <td>0</td>\n",
       "      <td>0</td>\n",
       "      <td>1</td>\n",
       "      <td>1</td>\n",
       "      <td>...</td>\n",
       "      <td>34</td>\n",
       "      <td>23</td>\n",
       "      <td>24</td>\n",
       "      <td>32</td>\n",
       "      <td>33</td>\n",
       "      <td>23</td>\n",
       "      <td>24</td>\n",
       "      <td>19</td>\n",
       "      <td>6</td>\n",
       "      <td>0</td>\n",
       "    </tr>\n",
       "  </tbody>\n",
       "</table>\n",
       "<p>1 rows × 63 columns</p>\n",
       "</div>"
      ],
      "text/plain": [
       "   cve_ent  poblacion            nombre  17-03-2020  18-03-2020  19-03-2020  \\\n",
       "6        9    9018645  DISTRITO FEDERAL           0           0           0   \n",
       "\n",
       "   20-03-2020  21-03-2020  22-03-2020  23-03-2020  ...  06-05-2020  \\\n",
       "6           0           0           1           1  ...          34   \n",
       "\n",
       "   07-05-2020  08-05-2020  09-05-2020  10-05-2020  11-05-2020  12-05-2020  \\\n",
       "6          23          24          32          33          23          24   \n",
       "\n",
       "   13-05-2020  14-05-2020  15-05-2020  \n",
       "6          19           6           0  \n",
       "\n",
       "[1 rows x 63 columns]"
      ]
     },
     "execution_count": 7,
     "metadata": {},
     "output_type": "execute_result"
    }
   ],
   "source": [
    "discrete_mexico_city_deaths.head()"
   ]
  },
  {
   "cell_type": "markdown",
   "metadata": {},
   "source": [
    "### get_cummulative() gives an array of the cummulative record "
   ]
  },
  {
   "cell_type": "code",
   "execution_count": 8,
   "metadata": {},
   "outputs": [
    {
     "data": {
      "text/plain": [
       "[0, 0, 0, 0, 0, 1, 2, 2, 3, 6]"
      ]
     },
     "execution_count": 8,
     "metadata": {},
     "output_type": "execute_result"
    }
   ],
   "source": [
    "cummulative_mexico_city_deaths[:10]"
   ]
  },
  {
   "cell_type": "markdown",
   "metadata": {},
   "source": [
    "### Function to get several states sorted from max to min."
   ]
  },
  {
   "cell_type": "code",
   "execution_count": null,
   "metadata": {},
   "outputs": [],
   "source": [
    "# It returns an array with data for each state and an array of names:\n",
    "# [data1,data2,data3...],['name1','name2','name3'...] = get_max_to_min()\n",
    "# It is used for plotting all data at once\n",
    "\n",
    "# N is the number of states returned, if None will return all states\n",
    "# Deafault is set to: discrete\n",
    "# To switch for cummulative set discrete parameter to == False\n",
    "# National data is naturally much more higher that any particular state, by default is ommited\n",
    "# To include it set the parameter include_national to == True\n",
    "\n",
    "def get_max_to_min(raw_data,n=None,discrete=True,include_national=False):\n",
    "    dic = {}\n",
    "    \n",
    "    if include_national:\n",
    "        names = raw_data.nombre\n",
    "    else:\n",
    "        names = [x for x in raw_data.nombre if x != 'Nacional']\n",
    "\n",
    "    for i in names:\n",
    "        \n",
    "        if discrete:\n",
    "            result = get_discrete(i,raw_data).values[0][3:].sum()\n",
    "        else:\n",
    "            result = get_cummulative(i,raw_data)[-1]\n",
    "        \n",
    "        if result in dic.keys():\n",
    "            dic[result+0.1] = i\n",
    "        else:\n",
    "            dic[result] = i\n",
    "\n",
    "    dic_sort = sorted(dic.keys(),reverse=True)\n",
    "    sorted_names = [dic[x] for x in dic_sort][:n]\n",
    "    \n",
    "    if discrete:\n",
    "        return [get_discrete(x,raw_data) for x in sorted_names], sorted_names\n",
    "    else:\n",
    "        return [get_cummulative(x,raw_data) for x in sorted_names], sorted_names"
   ]
  },
  {
   "cell_type": "markdown",
   "metadata": {},
   "source": [
    "\n",
    "### Function to plot discrete data"
   ]
  },
  {
   "cell_type": "code",
   "execution_count": null,
   "metadata": {},
   "outputs": [],
   "source": [
    "# Data should be an array (even if there is only one state) with discrete data from get_discrete()\n",
    "# Names also should be an array of strings\n",
    "# You can choose the colors of each state by passing an array: ['r','b','y'...]\n",
    "# Or passing a string like: 'rbgy' if each of the colors are one letter.\n",
    "# If colors = None or is not passed, colors will be a cycle from 'b', 'g', 'r', 'c', 'm' and 'y'\n",
    "# Size of the ploot coul be modified by: plt.rcParams[\"figure.figsize\"] = (15,6) inside the function\n",
    "\n",
    "def plot_discrete(data, names ='no_name',colors=None, title=None):\n",
    "    plt.close('all')\n",
    "    plt.style.use('seaborn-whitegrid')\n",
    "\n",
    "    plt.rcParams[\"figure.figsize\"] = (15,6)\n",
    "    \n",
    "    if colors == None:\n",
    "            colors ='bgrcmy'* int(np.ceil(len(data)/6))\n",
    "    \n",
    "    for ind, i in enumerate(data):\n",
    "        \n",
    "        plt.bar(i.columns[3:],i.values[0][3:], label = names[ind],color = colors[ind],alpha = 0.5)\n",
    "       \n",
    "    plt.title(title, fontsize=14)\n",
    "    plt.legend(loc='upper left')\n",
    "    plt.xticks(rotation=90)\n",
    "    plt.show()"
   ]
  },
  {
   "cell_type": "code",
   "execution_count": null,
   "metadata": {},
   "outputs": [],
   "source": [
    "plot_discrete([get_discrete('DISTRITO FEDERAL',deaths),\n",
    "               get_discrete('MEXICO',deaths)],\n",
    "               names =['CDMX','Estado de Mexico'],\n",
    "               colors=['r','b'],\n",
    "               title='Deaths by day Mexico City and Mexico State')"
   ]
  },
  {
   "cell_type": "markdown",
   "metadata": {},
   "source": [
    "### Funtion to plot cummulative data"
   ]
  },
  {
   "cell_type": "code",
   "execution_count": null,
   "metadata": {},
   "outputs": [],
   "source": [
    "# Same Instructions of the discrete data apply here\n",
    "# Data and Names should be arrays and etc...\n",
    "\n",
    "def plot_cummulative(data, names ='no_name',colors=None, title=None):\n",
    "    plt.close('all')\n",
    "    plt.style.use('seaborn-whitegrid')\n",
    "\n",
    "    plt.rcParams[\"figure.figsize\"] = (15,7)\n",
    "    \n",
    "    if len(data[0]) == len(deaths.columns[3:]):\n",
    "        index = deaths.columns[3:]\n",
    "    elif len(data[0]) == len(confirmed.columns[3:]):\n",
    "        index = confirmed.columns[3:]\n",
    "    elif len(data[0]) == len(suspicious.columns[3:]):\n",
    "        index = suspicious.columns[3:]\n",
    "    elif len(data[0]) == len(negatives.columns[3:]):\n",
    "        index = negatives.columns[3:]\n",
    "    else:\n",
    "        index = np.arange(0,len(data[0]))\n",
    "    \n",
    "    if colors == None:\n",
    "        colors ='bgrcmy'* int(np.ceil(len(data)/6))\n",
    "    \n",
    "    for ind,i in enumerate(data):\n",
    "        \n",
    "        plt.plot(index,i,label=names[ind],color=colors[ind])\n",
    "        plt.scatter(index[-1],i[-1],color=colors[ind])\n",
    "        plt.text(index[-1], i[-1],str(int(i[-1])) , fontsize=14 ,color=colors[ind])\n",
    "        plt.fill_between(index, i, color = colors[ind], alpha = 0.4)\n",
    "        \n",
    "    plt.xticks(rotation=90)\n",
    "    plt.title(title, fontsize=14)\n",
    "    plt.legend(loc='upper left',fontsize=12)\n",
    "    plt.show()"
   ]
  },
  {
   "cell_type": "code",
   "execution_count": null,
   "metadata": {
    "scrolled": false
   },
   "outputs": [],
   "source": [
    "plot_cummulative([get_cummulative('DISTRITO FEDERAL',deaths),\n",
    "                  get_cummulative('MEXICO',deaths)],\n",
    "                  names =['CDMX','Estado de Mexico'],\n",
    "                  colors=['r','b'],\n",
    "                  title='Deaths by day Mexico City and Mexico State')"
   ]
  },
  {
   "cell_type": "markdown",
   "metadata": {},
   "source": [
    "### Function to plot all data from max to min"
   ]
  },
  {
   "cell_type": "code",
   "execution_count": null,
   "metadata": {
    "scrolled": true
   },
   "outputs": [],
   "source": [
    "# Raw_data is the database of origin: deaths, confirmed, etc...\n",
    "# N is the number of states that will be plotted\n",
    "# If the Discrete parameter is False then cummulative data will be plotted\n",
    "\n",
    "def plot_all(raw_data,n=None, discrete=True, title='No title',colors = None):\n",
    "    \n",
    "    if discrete:\n",
    "        data, names = get_max_to_min(raw_data,n=n,discrete=True)\n",
    "        plot_discrete(data = data,\n",
    "                      names = names,\n",
    "                      colors = colors,\n",
    "                      title = title)\n",
    "    else:\n",
    "        data, names = get_max_to_min(raw_data,n=n,discrete=False)\n",
    "        plot_cummulative(data = data,\n",
    "                         names = names,\n",
    "                         colors = colors,\n",
    "                         title = title)"
   ]
  },
  {
   "cell_type": "markdown",
   "metadata": {},
   "source": [
    "### Discrete states from max to min incidence"
   ]
  },
  {
   "cell_type": "code",
   "execution_count": null,
   "metadata": {},
   "outputs": [],
   "source": [
    "plot_all(raw_data = deaths,\n",
    "         n=4,\n",
    "         colors= ['b','g','black','r'],\n",
    "         discrete=True,\n",
    "         title='Mexico States with more Deaths by Day')"
   ]
  },
  {
   "cell_type": "markdown",
   "metadata": {},
   "source": [
    "### Cummulative states from max to min incidence"
   ]
  },
  {
   "cell_type": "code",
   "execution_count": null,
   "metadata": {},
   "outputs": [],
   "source": [
    "plot_all(raw_data = deaths,\n",
    "         n=4,\n",
    "         discrete=False,\n",
    "         colors= ['b','g','black','r'],\n",
    "         title='Mexico States with more Deaths by Day')"
   ]
  },
  {
   "cell_type": "markdown",
   "metadata": {},
   "source": [
    "# 2.- Patients Data"
   ]
  },
  {
   "cell_type": "markdown",
   "metadata": {},
   "source": [
    "### Cleaning the database"
   ]
  },
  {
   "cell_type": "code",
   "execution_count": null,
   "metadata": {},
   "outputs": [],
   "source": [
    "# Eliminate counties data since it lacks one term an is useless without it\n",
    "patient_data = patient_data.drop('MUNICIPIO_RES',axis=1)"
   ]
  },
  {
   "cell_type": "markdown",
   "metadata": {},
   "source": [
    "### Renaming columns to english"
   ]
  },
  {
   "cell_type": "code",
   "execution_count": null,
   "metadata": {},
   "outputs": [],
   "source": [
    "patient_data = patient_data.rename(columns={\"FECHA_ACTUALIZACION\":\"Updated_at\",\n",
    "                                             \"ID_REGISTRO\": \"id\",\n",
    "                                             \"ORIGEN\":\"origin\",\n",
    "                                             \"SECTOR\":\"sector\",\n",
    "                                             \"ENTIDAD_UM\": \"treated_at\",\n",
    "                                             \"SEXO\": \"sex\",\n",
    "                                             \"ENTIDAD_NAC\":\"borne_at\",\n",
    "                                             \"ENTIDAD_RES\": \"lives_at\",\n",
    "                                             \"TIPO_PACIENTE\": \"pacient_type\",\n",
    "                                             \"FECHA_INGRESO\":\"admission_date\",\n",
    "                                             \"FECHA_SINTOMAS\":\"onset_symptoms\",\n",
    "                                             \"FECHA_DEF\": \"day_of_death\",\n",
    "                                             \"INTUBADO\": \"intubated\",\n",
    "                                             \"NEUMONIA\":\"pneumonia\",\n",
    "                                             \"EDAD\":\"age\",\n",
    "                                             \"NACIONALIDAD\":\"is_mexican\",\n",
    "                                             \"EMBARAZO\":\"pregnancy\",\n",
    "                                             \"HABLA_LENGUA_INDIG\":\"speaks_dialect\",\n",
    "                                             \"DIABETES\":\"diabetes\",\n",
    "                                             \"EPOC\": \"copd\",\n",
    "                                             \"ASMA\":\"asthma\",\n",
    "                                             \"INMUSUPR\":\"immunosuppression\",\n",
    "                                             \"HIPERTENSION\":\"hypertension\",\n",
    "                                             \"OTRA_COM\":\"another_illness\",\n",
    "                                             \"CARDIOVASCULAR\":\"cardiovascular\",\n",
    "                                             \"OBESIDAD\":\"obesity\",\n",
    "                                             \"RENAL_CRONICA\":\"kidney_disease\",\n",
    "                                             \"TABAQUISMO\":\"smoker\",\n",
    "                                             \"OTRO_CASO\":\"close_to_infected\",\n",
    "                                             \"RESULTADO\":\"result\",\n",
    "                                             \"MIGRANTE\":\"migrant\",\n",
    "                                             \"PAIS_NACIONALIDAD\":\"nationality\",\n",
    "                                             \"PAIS_ORIGEN\": \"country_of_origin\",\n",
    "                                             \"UCI\":\"icu\"})"
   ]
  },
  {
   "cell_type": "markdown",
   "metadata": {},
   "source": [
    "### Data keys:"
   ]
  },
  {
   "cell_type": "code",
   "execution_count": null,
   "metadata": {},
   "outputs": [],
   "source": [
    "patient_data.keys()"
   ]
  },
  {
   "cell_type": "markdown",
   "metadata": {},
   "source": [
    "### Data sample"
   ]
  },
  {
   "cell_type": "code",
   "execution_count": null,
   "metadata": {},
   "outputs": [],
   "source": [
    "patient_data.head()"
   ]
  },
  {
   "cell_type": "markdown",
   "metadata": {},
   "source": [
    "### Loading a function to translate the codes from the data"
   ]
  },
  {
   "cell_type": "code",
   "execution_count": null,
   "metadata": {},
   "outputs": [],
   "source": [
    "from data_helpers import patient_data_keys\n",
    "# Some data is coded, like the counties from:  patient_data['sector'],\n",
    "# This function takes the column name and a key to decoded\n",
    "# if the key == None, then outputs all the codes from the column"
   ]
  },
  {
   "cell_type": "code",
   "execution_count": null,
   "metadata": {},
   "outputs": [],
   "source": [
    "patient_data_keys('borne_at',key=13)"
   ]
  },
  {
   "cell_type": "code",
   "execution_count": null,
   "metadata": {},
   "outputs": [],
   "source": [
    "patient_data_keys('sector',key=None)"
   ]
  },
  {
   "cell_type": "markdown",
   "metadata": {},
   "source": [
    "### Exploring the database"
   ]
  },
  {
   "cell_type": "code",
   "execution_count": null,
   "metadata": {},
   "outputs": [],
   "source": []
  },
  {
   "cell_type": "code",
   "execution_count": null,
   "metadata": {},
   "outputs": [],
   "source": [
    "edad = X['EDAD'] \n",
    "y = [1 if x == '9999-99-99' else 0 for x in X['FECHA_DEF']]\n",
    "sexo = [0 if x == 1 else 99 for x in X['SEXO']]\n",
    "X = X[['DIABETES','EPOC',\n",
    "             'ASMA', 'INMUSUPR', 'HIPERTENSION',\n",
    "             'CARDIOVASCULAR', 'OBESIDAD', 'RENAL_CRONICA', 'TABAQUISMO']]\n",
    "X['SEXO'] = sexo\n",
    "X = X.replace(97,2)\n",
    "X = X.replace(98,2)\n",
    "X = X.replace(99,2)\n",
    "X = X.replace(1,100)\n",
    "X = X.replace(2,-100)\n",
    "X['EDAD'] = edad\n"
   ]
  },
  {
   "cell_type": "code",
   "execution_count": null,
   "metadata": {},
   "outputs": [],
   "source": []
  },
  {
   "cell_type": "code",
   "execution_count": null,
   "metadata": {},
   "outputs": [],
   "source": []
  }
 ],
 "metadata": {
  "kernelspec": {
   "display_name": "Python 3",
   "language": "python",
   "name": "python3"
  },
  "language_info": {
   "codemirror_mode": {
    "name": "ipython",
    "version": 3
   },
   "file_extension": ".py",
   "mimetype": "text/x-python",
   "name": "python",
   "nbconvert_exporter": "python",
   "pygments_lexer": "ipython3",
   "version": "3.7.5"
  }
 },
 "nbformat": 4,
 "nbformat_minor": 2
}
